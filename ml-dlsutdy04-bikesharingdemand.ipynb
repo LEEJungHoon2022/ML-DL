{
 "cells": [
  {
   "cell_type": "code",
   "execution_count": 1,
   "id": "20c4271c",
   "metadata": {
    "_cell_guid": "b1076dfc-b9ad-4769-8c92-a6c4dae69d19",
    "_uuid": "8f2839f25d086af736a60e9eeb907d3b93b6e0e5",
    "execution": {
     "iopub.execute_input": "2022-07-02T14:33:08.915164Z",
     "iopub.status.busy": "2022-07-02T14:33:08.914215Z",
     "iopub.status.idle": "2022-07-02T14:33:08.928948Z",
     "shell.execute_reply": "2022-07-02T14:33:08.927828Z"
    },
    "papermill": {
     "duration": 0.034568,
     "end_time": "2022-07-02T14:33:08.931322",
     "exception": false,
     "start_time": "2022-07-02T14:33:08.896754",
     "status": "completed"
    },
    "tags": []
   },
   "outputs": [
    {
     "name": "stdout",
     "output_type": "stream",
     "text": [
      "/kaggle/input/bike-sharing-demand/sampleSubmission.csv\n",
      "/kaggle/input/bike-sharing-demand/train.csv\n",
      "/kaggle/input/bike-sharing-demand/test.csv\n"
     ]
    }
   ],
   "source": [
    "# This Python 3 environment comes with many helpful analytics libraries installed\n",
    "# It is defined by the kaggle/python Docker image: https://github.com/kaggle/docker-python\n",
    "# For example, here's several helpful packages to load\n",
    "\n",
    "import numpy as np # linear algebra\n",
    "import pandas as pd # data processing, CSV file I/O (e.g. pd.read_csv)\n",
    "\n",
    "# Input data files are available in the read-only \"../input/\" directory\n",
    "# For example, running this (by clicking run or pressing Shift+Enter) will list all files under the input directory\n",
    "\n",
    "import os\n",
    "for dirname, _, filenames in os.walk('/kaggle/input'):\n",
    "    for filename in filenames:\n",
    "        print(os.path.join(dirname, filename))\n",
    "\n",
    "# You can write up to 20GB to the current directory (/kaggle/working/) that gets preserved as output when you create a version using \"Save & Run All\" \n",
    "# You can also write temporary files to /kaggle/temp/, but they won't be saved outside of the current session"
   ]
  },
  {
   "cell_type": "markdown",
   "id": "9102bbb9",
   "metadata": {
    "papermill": {
     "duration": 0.01514,
     "end_time": "2022-07-02T14:33:08.960823",
     "exception": false,
     "start_time": "2022-07-02T14:33:08.945683",
     "status": "completed"
    },
    "tags": []
   },
   "source": [
    "## 데이터 둘러보기"
   ]
  },
  {
   "cell_type": "code",
   "execution_count": 2,
   "id": "aa721624",
   "metadata": {
    "execution": {
     "iopub.execute_input": "2022-07-02T14:33:08.991737Z",
     "iopub.status.busy": "2022-07-02T14:33:08.991006Z",
     "iopub.status.idle": "2022-07-02T14:33:09.092409Z",
     "shell.execute_reply": "2022-07-02T14:33:09.091394Z"
    },
    "papermill": {
     "duration": 0.120057,
     "end_time": "2022-07-02T14:33:09.094680",
     "exception": false,
     "start_time": "2022-07-02T14:33:08.974623",
     "status": "completed"
    },
    "tags": []
   },
   "outputs": [],
   "source": [
    "import numpy as np\n",
    "import pandas as pd\n",
    "\n",
    "data_path = '/kaggle/input/bike-sharing-demand/'\n",
    "\n",
    "train = pd.read_csv(data_path + 'train.csv')\n",
    "test = pd.read_csv(data_path + 'test.csv')\n",
    "submission = pd.read_csv(data_path + 'sampleSubmission.csv')"
   ]
  },
  {
   "cell_type": "code",
   "execution_count": 3,
   "id": "6b746edd",
   "metadata": {
    "execution": {
     "iopub.execute_input": "2022-07-02T14:33:09.125132Z",
     "iopub.status.busy": "2022-07-02T14:33:09.124424Z",
     "iopub.status.idle": "2022-07-02T14:33:09.133661Z",
     "shell.execute_reply": "2022-07-02T14:33:09.132691Z"
    },
    "papermill": {
     "duration": 0.026758,
     "end_time": "2022-07-02T14:33:09.135634",
     "exception": false,
     "start_time": "2022-07-02T14:33:09.108876",
     "status": "completed"
    },
    "tags": []
   },
   "outputs": [
    {
     "data": {
      "text/plain": [
       "((10886, 12), (6493, 9))"
      ]
     },
     "execution_count": 3,
     "metadata": {},
     "output_type": "execute_result"
    }
   ],
   "source": [
    "train.shape, test.shape"
   ]
  },
  {
   "cell_type": "code",
   "execution_count": 4,
   "id": "39ca78ca",
   "metadata": {
    "execution": {
     "iopub.execute_input": "2022-07-02T14:33:09.165540Z",
     "iopub.status.busy": "2022-07-02T14:33:09.164851Z",
     "iopub.status.idle": "2022-07-02T14:33:09.185545Z",
     "shell.execute_reply": "2022-07-02T14:33:09.184560Z"
    },
    "papermill": {
     "duration": 0.037916,
     "end_time": "2022-07-02T14:33:09.187509",
     "exception": false,
     "start_time": "2022-07-02T14:33:09.149593",
     "status": "completed"
    },
    "tags": []
   },
   "outputs": [
    {
     "data": {
      "text/html": [
       "<div>\n",
       "<style scoped>\n",
       "    .dataframe tbody tr th:only-of-type {\n",
       "        vertical-align: middle;\n",
       "    }\n",
       "\n",
       "    .dataframe tbody tr th {\n",
       "        vertical-align: top;\n",
       "    }\n",
       "\n",
       "    .dataframe thead th {\n",
       "        text-align: right;\n",
       "    }\n",
       "</style>\n",
       "<table border=\"1\" class=\"dataframe\">\n",
       "  <thead>\n",
       "    <tr style=\"text-align: right;\">\n",
       "      <th></th>\n",
       "      <th>datetime</th>\n",
       "      <th>season</th>\n",
       "      <th>holiday</th>\n",
       "      <th>workingday</th>\n",
       "      <th>weather</th>\n",
       "      <th>temp</th>\n",
       "      <th>atemp</th>\n",
       "      <th>humidity</th>\n",
       "      <th>windspeed</th>\n",
       "      <th>casual</th>\n",
       "      <th>registered</th>\n",
       "      <th>count</th>\n",
       "    </tr>\n",
       "  </thead>\n",
       "  <tbody>\n",
       "    <tr>\n",
       "      <th>0</th>\n",
       "      <td>2011-01-01 00:00:00</td>\n",
       "      <td>1</td>\n",
       "      <td>0</td>\n",
       "      <td>0</td>\n",
       "      <td>1</td>\n",
       "      <td>9.84</td>\n",
       "      <td>14.395</td>\n",
       "      <td>81</td>\n",
       "      <td>0.0</td>\n",
       "      <td>3</td>\n",
       "      <td>13</td>\n",
       "      <td>16</td>\n",
       "    </tr>\n",
       "    <tr>\n",
       "      <th>1</th>\n",
       "      <td>2011-01-01 01:00:00</td>\n",
       "      <td>1</td>\n",
       "      <td>0</td>\n",
       "      <td>0</td>\n",
       "      <td>1</td>\n",
       "      <td>9.02</td>\n",
       "      <td>13.635</td>\n",
       "      <td>80</td>\n",
       "      <td>0.0</td>\n",
       "      <td>8</td>\n",
       "      <td>32</td>\n",
       "      <td>40</td>\n",
       "    </tr>\n",
       "    <tr>\n",
       "      <th>2</th>\n",
       "      <td>2011-01-01 02:00:00</td>\n",
       "      <td>1</td>\n",
       "      <td>0</td>\n",
       "      <td>0</td>\n",
       "      <td>1</td>\n",
       "      <td>9.02</td>\n",
       "      <td>13.635</td>\n",
       "      <td>80</td>\n",
       "      <td>0.0</td>\n",
       "      <td>5</td>\n",
       "      <td>27</td>\n",
       "      <td>32</td>\n",
       "    </tr>\n",
       "    <tr>\n",
       "      <th>3</th>\n",
       "      <td>2011-01-01 03:00:00</td>\n",
       "      <td>1</td>\n",
       "      <td>0</td>\n",
       "      <td>0</td>\n",
       "      <td>1</td>\n",
       "      <td>9.84</td>\n",
       "      <td>14.395</td>\n",
       "      <td>75</td>\n",
       "      <td>0.0</td>\n",
       "      <td>3</td>\n",
       "      <td>10</td>\n",
       "      <td>13</td>\n",
       "    </tr>\n",
       "    <tr>\n",
       "      <th>4</th>\n",
       "      <td>2011-01-01 04:00:00</td>\n",
       "      <td>1</td>\n",
       "      <td>0</td>\n",
       "      <td>0</td>\n",
       "      <td>1</td>\n",
       "      <td>9.84</td>\n",
       "      <td>14.395</td>\n",
       "      <td>75</td>\n",
       "      <td>0.0</td>\n",
       "      <td>0</td>\n",
       "      <td>1</td>\n",
       "      <td>1</td>\n",
       "    </tr>\n",
       "  </tbody>\n",
       "</table>\n",
       "</div>"
      ],
      "text/plain": [
       "              datetime  season  holiday  workingday  weather  temp   atemp  \\\n",
       "0  2011-01-01 00:00:00       1        0           0        1  9.84  14.395   \n",
       "1  2011-01-01 01:00:00       1        0           0        1  9.02  13.635   \n",
       "2  2011-01-01 02:00:00       1        0           0        1  9.02  13.635   \n",
       "3  2011-01-01 03:00:00       1        0           0        1  9.84  14.395   \n",
       "4  2011-01-01 04:00:00       1        0           0        1  9.84  14.395   \n",
       "\n",
       "   humidity  windspeed  casual  registered  count  \n",
       "0        81        0.0       3          13     16  \n",
       "1        80        0.0       8          32     40  \n",
       "2        80        0.0       5          27     32  \n",
       "3        75        0.0       3          10     13  \n",
       "4        75        0.0       0           1      1  "
      ]
     },
     "execution_count": 4,
     "metadata": {},
     "output_type": "execute_result"
    }
   ],
   "source": [
    "train.head()"
   ]
  },
  {
   "cell_type": "code",
   "execution_count": 5,
   "id": "f093609c",
   "metadata": {
    "execution": {
     "iopub.execute_input": "2022-07-02T14:33:09.217894Z",
     "iopub.status.busy": "2022-07-02T14:33:09.217213Z",
     "iopub.status.idle": "2022-07-02T14:33:09.230345Z",
     "shell.execute_reply": "2022-07-02T14:33:09.229291Z"
    },
    "papermill": {
     "duration": 0.030658,
     "end_time": "2022-07-02T14:33:09.232341",
     "exception": false,
     "start_time": "2022-07-02T14:33:09.201683",
     "status": "completed"
    },
    "tags": []
   },
   "outputs": [
    {
     "data": {
      "text/html": [
       "<div>\n",
       "<style scoped>\n",
       "    .dataframe tbody tr th:only-of-type {\n",
       "        vertical-align: middle;\n",
       "    }\n",
       "\n",
       "    .dataframe tbody tr th {\n",
       "        vertical-align: top;\n",
       "    }\n",
       "\n",
       "    .dataframe thead th {\n",
       "        text-align: right;\n",
       "    }\n",
       "</style>\n",
       "<table border=\"1\" class=\"dataframe\">\n",
       "  <thead>\n",
       "    <tr style=\"text-align: right;\">\n",
       "      <th></th>\n",
       "      <th>datetime</th>\n",
       "      <th>season</th>\n",
       "      <th>holiday</th>\n",
       "      <th>workingday</th>\n",
       "      <th>weather</th>\n",
       "      <th>temp</th>\n",
       "      <th>atemp</th>\n",
       "      <th>humidity</th>\n",
       "      <th>windspeed</th>\n",
       "    </tr>\n",
       "  </thead>\n",
       "  <tbody>\n",
       "    <tr>\n",
       "      <th>0</th>\n",
       "      <td>2011-01-20 00:00:00</td>\n",
       "      <td>1</td>\n",
       "      <td>0</td>\n",
       "      <td>1</td>\n",
       "      <td>1</td>\n",
       "      <td>10.66</td>\n",
       "      <td>11.365</td>\n",
       "      <td>56</td>\n",
       "      <td>26.0027</td>\n",
       "    </tr>\n",
       "    <tr>\n",
       "      <th>1</th>\n",
       "      <td>2011-01-20 01:00:00</td>\n",
       "      <td>1</td>\n",
       "      <td>0</td>\n",
       "      <td>1</td>\n",
       "      <td>1</td>\n",
       "      <td>10.66</td>\n",
       "      <td>13.635</td>\n",
       "      <td>56</td>\n",
       "      <td>0.0000</td>\n",
       "    </tr>\n",
       "    <tr>\n",
       "      <th>2</th>\n",
       "      <td>2011-01-20 02:00:00</td>\n",
       "      <td>1</td>\n",
       "      <td>0</td>\n",
       "      <td>1</td>\n",
       "      <td>1</td>\n",
       "      <td>10.66</td>\n",
       "      <td>13.635</td>\n",
       "      <td>56</td>\n",
       "      <td>0.0000</td>\n",
       "    </tr>\n",
       "    <tr>\n",
       "      <th>3</th>\n",
       "      <td>2011-01-20 03:00:00</td>\n",
       "      <td>1</td>\n",
       "      <td>0</td>\n",
       "      <td>1</td>\n",
       "      <td>1</td>\n",
       "      <td>10.66</td>\n",
       "      <td>12.880</td>\n",
       "      <td>56</td>\n",
       "      <td>11.0014</td>\n",
       "    </tr>\n",
       "    <tr>\n",
       "      <th>4</th>\n",
       "      <td>2011-01-20 04:00:00</td>\n",
       "      <td>1</td>\n",
       "      <td>0</td>\n",
       "      <td>1</td>\n",
       "      <td>1</td>\n",
       "      <td>10.66</td>\n",
       "      <td>12.880</td>\n",
       "      <td>56</td>\n",
       "      <td>11.0014</td>\n",
       "    </tr>\n",
       "  </tbody>\n",
       "</table>\n",
       "</div>"
      ],
      "text/plain": [
       "              datetime  season  holiday  workingday  weather   temp   atemp  \\\n",
       "0  2011-01-20 00:00:00       1        0           1        1  10.66  11.365   \n",
       "1  2011-01-20 01:00:00       1        0           1        1  10.66  13.635   \n",
       "2  2011-01-20 02:00:00       1        0           1        1  10.66  13.635   \n",
       "3  2011-01-20 03:00:00       1        0           1        1  10.66  12.880   \n",
       "4  2011-01-20 04:00:00       1        0           1        1  10.66  12.880   \n",
       "\n",
       "   humidity  windspeed  \n",
       "0        56    26.0027  \n",
       "1        56     0.0000  \n",
       "2        56     0.0000  \n",
       "3        56    11.0014  \n",
       "4        56    11.0014  "
      ]
     },
     "execution_count": 5,
     "metadata": {},
     "output_type": "execute_result"
    }
   ],
   "source": [
    "test.head()"
   ]
  },
  {
   "cell_type": "code",
   "execution_count": 6,
   "id": "8cebaf57",
   "metadata": {
    "execution": {
     "iopub.execute_input": "2022-07-02T14:33:09.263685Z",
     "iopub.status.busy": "2022-07-02T14:33:09.262987Z",
     "iopub.status.idle": "2022-07-02T14:33:09.272160Z",
     "shell.execute_reply": "2022-07-02T14:33:09.271357Z"
    },
    "papermill": {
     "duration": 0.027084,
     "end_time": "2022-07-02T14:33:09.274089",
     "exception": false,
     "start_time": "2022-07-02T14:33:09.247005",
     "status": "completed"
    },
    "tags": []
   },
   "outputs": [
    {
     "data": {
      "text/html": [
       "<div>\n",
       "<style scoped>\n",
       "    .dataframe tbody tr th:only-of-type {\n",
       "        vertical-align: middle;\n",
       "    }\n",
       "\n",
       "    .dataframe tbody tr th {\n",
       "        vertical-align: top;\n",
       "    }\n",
       "\n",
       "    .dataframe thead th {\n",
       "        text-align: right;\n",
       "    }\n",
       "</style>\n",
       "<table border=\"1\" class=\"dataframe\">\n",
       "  <thead>\n",
       "    <tr style=\"text-align: right;\">\n",
       "      <th></th>\n",
       "      <th>datetime</th>\n",
       "      <th>count</th>\n",
       "    </tr>\n",
       "  </thead>\n",
       "  <tbody>\n",
       "    <tr>\n",
       "      <th>0</th>\n",
       "      <td>2011-01-20 00:00:00</td>\n",
       "      <td>0</td>\n",
       "    </tr>\n",
       "    <tr>\n",
       "      <th>1</th>\n",
       "      <td>2011-01-20 01:00:00</td>\n",
       "      <td>0</td>\n",
       "    </tr>\n",
       "    <tr>\n",
       "      <th>2</th>\n",
       "      <td>2011-01-20 02:00:00</td>\n",
       "      <td>0</td>\n",
       "    </tr>\n",
       "    <tr>\n",
       "      <th>3</th>\n",
       "      <td>2011-01-20 03:00:00</td>\n",
       "      <td>0</td>\n",
       "    </tr>\n",
       "    <tr>\n",
       "      <th>4</th>\n",
       "      <td>2011-01-20 04:00:00</td>\n",
       "      <td>0</td>\n",
       "    </tr>\n",
       "  </tbody>\n",
       "</table>\n",
       "</div>"
      ],
      "text/plain": [
       "              datetime  count\n",
       "0  2011-01-20 00:00:00      0\n",
       "1  2011-01-20 01:00:00      0\n",
       "2  2011-01-20 02:00:00      0\n",
       "3  2011-01-20 03:00:00      0\n",
       "4  2011-01-20 04:00:00      0"
      ]
     },
     "execution_count": 6,
     "metadata": {},
     "output_type": "execute_result"
    }
   ],
   "source": [
    "submission.head()"
   ]
  },
  {
   "cell_type": "code",
   "execution_count": 7,
   "id": "a7771b13",
   "metadata": {
    "execution": {
     "iopub.execute_input": "2022-07-02T14:33:09.305470Z",
     "iopub.status.busy": "2022-07-02T14:33:09.304597Z",
     "iopub.status.idle": "2022-07-02T14:33:09.331814Z",
     "shell.execute_reply": "2022-07-02T14:33:09.330259Z"
    },
    "papermill": {
     "duration": 0.045176,
     "end_time": "2022-07-02T14:33:09.333825",
     "exception": false,
     "start_time": "2022-07-02T14:33:09.288649",
     "status": "completed"
    },
    "tags": []
   },
   "outputs": [
    {
     "name": "stdout",
     "output_type": "stream",
     "text": [
      "<class 'pandas.core.frame.DataFrame'>\n",
      "RangeIndex: 10886 entries, 0 to 10885\n",
      "Data columns (total 12 columns):\n",
      " #   Column      Non-Null Count  Dtype  \n",
      "---  ------      --------------  -----  \n",
      " 0   datetime    10886 non-null  object \n",
      " 1   season      10886 non-null  int64  \n",
      " 2   holiday     10886 non-null  int64  \n",
      " 3   workingday  10886 non-null  int64  \n",
      " 4   weather     10886 non-null  int64  \n",
      " 5   temp        10886 non-null  float64\n",
      " 6   atemp       10886 non-null  float64\n",
      " 7   humidity    10886 non-null  int64  \n",
      " 8   windspeed   10886 non-null  float64\n",
      " 9   casual      10886 non-null  int64  \n",
      " 10  registered  10886 non-null  int64  \n",
      " 11  count       10886 non-null  int64  \n",
      "dtypes: float64(3), int64(8), object(1)\n",
      "memory usage: 1020.7+ KB\n"
     ]
    }
   ],
   "source": [
    "train.info()"
   ]
  },
  {
   "cell_type": "code",
   "execution_count": 8,
   "id": "4dc070ed",
   "metadata": {
    "execution": {
     "iopub.execute_input": "2022-07-02T14:33:09.364652Z",
     "iopub.status.busy": "2022-07-02T14:33:09.363957Z",
     "iopub.status.idle": "2022-07-02T14:33:09.376776Z",
     "shell.execute_reply": "2022-07-02T14:33:09.374967Z"
    },
    "papermill": {
     "duration": 0.03099,
     "end_time": "2022-07-02T14:33:09.379345",
     "exception": false,
     "start_time": "2022-07-02T14:33:09.348355",
     "status": "completed"
    },
    "tags": []
   },
   "outputs": [
    {
     "name": "stdout",
     "output_type": "stream",
     "text": [
      "<class 'pandas.core.frame.DataFrame'>\n",
      "RangeIndex: 6493 entries, 0 to 6492\n",
      "Data columns (total 9 columns):\n",
      " #   Column      Non-Null Count  Dtype  \n",
      "---  ------      --------------  -----  \n",
      " 0   datetime    6493 non-null   object \n",
      " 1   season      6493 non-null   int64  \n",
      " 2   holiday     6493 non-null   int64  \n",
      " 3   workingday  6493 non-null   int64  \n",
      " 4   weather     6493 non-null   int64  \n",
      " 5   temp        6493 non-null   float64\n",
      " 6   atemp       6493 non-null   float64\n",
      " 7   humidity    6493 non-null   int64  \n",
      " 8   windspeed   6493 non-null   float64\n",
      "dtypes: float64(3), int64(5), object(1)\n",
      "memory usage: 456.7+ KB\n"
     ]
    }
   ],
   "source": [
    "test.info()"
   ]
  },
  {
   "cell_type": "markdown",
   "id": "d1a30b5a",
   "metadata": {
    "papermill": {
     "duration": 0.014339,
     "end_time": "2022-07-02T14:33:09.408320",
     "exception": false,
     "start_time": "2022-07-02T14:33:09.393981",
     "status": "completed"
    },
    "tags": []
   },
   "source": [
    "## 피처 엔지니어링"
   ]
  },
  {
   "cell_type": "code",
   "execution_count": 9,
   "id": "10a28807",
   "metadata": {
    "execution": {
     "iopub.execute_input": "2022-07-02T14:33:09.441184Z",
     "iopub.status.busy": "2022-07-02T14:33:09.439967Z",
     "iopub.status.idle": "2022-07-02T14:33:09.447027Z",
     "shell.execute_reply": "2022-07-02T14:33:09.445567Z"
    },
    "papermill": {
     "duration": 0.02586,
     "end_time": "2022-07-02T14:33:09.448840",
     "exception": false,
     "start_time": "2022-07-02T14:33:09.422980",
     "status": "completed"
    },
    "tags": []
   },
   "outputs": [
    {
     "name": "stdout",
     "output_type": "stream",
     "text": [
      "2011-01-05 09:00:00\n",
      "['2011-01-05', '09:00:00']\n",
      "2011-01-05\n",
      "09:00:00\n"
     ]
    }
   ],
   "source": [
    "print(train['datetime'][100]) # datetime의 100번째 원소\n",
    "print(train['datetime'][100].split())\n",
    "print(train['datetime'][100].split()[0])\n",
    "print(train['datetime'][100].split()[1])"
   ]
  },
  {
   "cell_type": "code",
   "execution_count": 10,
   "id": "7e2d75b1",
   "metadata": {
    "execution": {
     "iopub.execute_input": "2022-07-02T14:33:09.481312Z",
     "iopub.status.busy": "2022-07-02T14:33:09.479685Z",
     "iopub.status.idle": "2022-07-02T14:33:09.490479Z",
     "shell.execute_reply": "2022-07-02T14:33:09.489066Z"
    },
    "papermill": {
     "duration": 0.031647,
     "end_time": "2022-07-02T14:33:09.494981",
     "exception": false,
     "start_time": "2022-07-02T14:33:09.463334",
     "status": "completed"
    },
    "tags": []
   },
   "outputs": [
    {
     "name": "stdout",
     "output_type": "stream",
     "text": [
      "2011-01-05\n",
      "['2011', '01', '05']\n",
      "2011\n",
      "01\n",
      "05\n"
     ]
    }
   ],
   "source": [
    "print(train['datetime'][100].split()[0])\n",
    "print(train['datetime'][100].split()[0].split('-'))\n",
    "print(train['datetime'][100].split()[0].split('-')[0])\n",
    "print(train['datetime'][100].split()[0].split('-')[1])\n",
    "print(train['datetime'][100].split()[0].split('-')[2])"
   ]
  },
  {
   "cell_type": "code",
   "execution_count": 11,
   "id": "96b827e1",
   "metadata": {
    "execution": {
     "iopub.execute_input": "2022-07-02T14:33:09.531559Z",
     "iopub.status.busy": "2022-07-02T14:33:09.531097Z",
     "iopub.status.idle": "2022-07-02T14:33:09.542706Z",
     "shell.execute_reply": "2022-07-02T14:33:09.540748Z"
    },
    "papermill": {
     "duration": 0.033366,
     "end_time": "2022-07-02T14:33:09.545511",
     "exception": false,
     "start_time": "2022-07-02T14:33:09.512145",
     "status": "completed"
    },
    "tags": []
   },
   "outputs": [
    {
     "name": "stdout",
     "output_type": "stream",
     "text": [
      "09:00:00\n",
      "['09', '00', '00']\n",
      "09\n",
      "00\n",
      "00\n"
     ]
    }
   ],
   "source": [
    "print(train['datetime'][100].split()[1])\n",
    "print(train['datetime'][100].split()[1].split(':'))\n",
    "print(train['datetime'][100].split()[1].split(':')[0])\n",
    "print(train['datetime'][100].split()[1].split(':')[1])\n",
    "print(train['datetime'][100].split()[1].split(':')[2])"
   ]
  },
  {
   "cell_type": "code",
   "execution_count": 12,
   "id": "b64eb712",
   "metadata": {
    "execution": {
     "iopub.execute_input": "2022-07-02T14:33:09.581251Z",
     "iopub.status.busy": "2022-07-02T14:33:09.579619Z",
     "iopub.status.idle": "2022-07-02T14:33:09.641399Z",
     "shell.execute_reply": "2022-07-02T14:33:09.640280Z"
    },
    "papermill": {
     "duration": 0.081042,
     "end_time": "2022-07-02T14:33:09.644039",
     "exception": false,
     "start_time": "2022-07-02T14:33:09.562997",
     "status": "completed"
    },
    "tags": []
   },
   "outputs": [],
   "source": [
    "# 기존 피처에서 날짜, 연, 월, 일, 시, 분, 초 피처를 생성(기존피처에서 파생된 피처 : '파생 피처' 혹은 '파생 변수'라 함)\n",
    "train['date'] = train['datetime'].apply(lambda x: x.split()[0]) # 날짜 피처 생성\n",
    "\n",
    "# 연도, 월, 일, 시, 분, 초 피처를 차례로 생성\n",
    "train['year'] = train['datetime'].apply(lambda x: x.split()[0].split('-')[0])\n",
    "train['month'] = train['datetime'].apply(lambda x: x.split()[0].split('-')[1])\n",
    "train['day'] = train['datetime'].apply(lambda x: x.split()[0].split('-')[2])\n",
    "train['hour'] = train['datetime'].apply(lambda x: x.split()[1].split(':')[0])\n",
    "train['minute'] = train['datetime'].apply(lambda x: x.split()[1].split(':')[1])\n",
    "train['second'] = train['datetime'].apply(lambda x: x.split()[1].split(':')[2])"
   ]
  },
  {
   "cell_type": "code",
   "execution_count": 13,
   "id": "12107048",
   "metadata": {
    "execution": {
     "iopub.execute_input": "2022-07-02T14:33:09.676567Z",
     "iopub.status.busy": "2022-07-02T14:33:09.676134Z",
     "iopub.status.idle": "2022-07-02T14:33:09.685326Z",
     "shell.execute_reply": "2022-07-02T14:33:09.683517Z"
    },
    "papermill": {
     "duration": 0.028924,
     "end_time": "2022-07-02T14:33:09.688085",
     "exception": false,
     "start_time": "2022-07-02T14:33:09.659161",
     "status": "completed"
    },
    "scrolled": true,
    "tags": []
   },
   "outputs": [
    {
     "name": "stdout",
     "output_type": "stream",
     "text": [
      "2011-01-05\n",
      "2011-01-05 00:00:00\n",
      "2\n",
      "Wednesday\n"
     ]
    }
   ],
   "source": [
    "from datetime import datetime # datetime 라이브러리 import\n",
    "import calendar\n",
    "\n",
    "print(train['date'][100]) # 날짜\n",
    "print(datetime.strptime(train['date'][100], '%Y-%m-%d')) # datetime 타입으로 변경\n",
    "# 정수를 요일로 변환\n",
    "print(datetime.strptime(train['date'][100], '%Y-%m-%d').weekday()) \n",
    "# 문자열로 요일 변환(0은 월요일, 1은 화요일, 2는 수요일순으로 매핑 됨, 단 머신러닝을 훈련할 때는 피처 값을 숫자로 변경하면 안 됨 // 여기서는 그래프로 확인하려 하기 때문에 문자열로 변경함)\n",
    "print(calendar.day_name[datetime.strptime(train['date'][100], '%Y-%m-%d').weekday()])"
   ]
  },
  {
   "cell_type": "code",
   "execution_count": 14,
   "id": "15c4de7a",
   "metadata": {
    "execution": {
     "iopub.execute_input": "2022-07-02T14:33:09.721120Z",
     "iopub.status.busy": "2022-07-02T14:33:09.719910Z",
     "iopub.status.idle": "2022-07-02T14:33:09.854725Z",
     "shell.execute_reply": "2022-07-02T14:33:09.853561Z"
    },
    "papermill": {
     "duration": 0.154203,
     "end_time": "2022-07-02T14:33:09.857225",
     "exception": false,
     "start_time": "2022-07-02T14:33:09.703022",
     "status": "completed"
    },
    "tags": []
   },
   "outputs": [],
   "source": [
    "train['weekday'] = train['date'].apply(\n",
    "lambda dateString:\n",
    "    calendar.day_name[datetime.strptime(dateString,'%Y-%m-%d').weekday()]\n",
    ")"
   ]
  },
  {
   "cell_type": "code",
   "execution_count": 15,
   "id": "56ebc6aa",
   "metadata": {
    "execution": {
     "iopub.execute_input": "2022-07-02T14:33:09.888809Z",
     "iopub.status.busy": "2022-07-02T14:33:09.888399Z",
     "iopub.status.idle": "2022-07-02T14:33:09.898906Z",
     "shell.execute_reply": "2022-07-02T14:33:09.897659Z"
    },
    "papermill": {
     "duration": 0.028867,
     "end_time": "2022-07-02T14:33:09.901131",
     "exception": false,
     "start_time": "2022-07-02T14:33:09.872264",
     "status": "completed"
    },
    "tags": []
   },
   "outputs": [],
   "source": [
    "train['season'] = train['season'].map({1: 'Spring',\n",
    "                                       2: 'Summer',\n",
    "                                       3: 'Fall',\n",
    "                                       4: 'Winter'})\n",
    "train['weather'] = train['weather'].map({1: 'Clear',\n",
    "                                         2: 'Mist, Few clouds',\n",
    "                                        3: 'Light Snow, Rain, Thunderstrom',\n",
    "                                        4: 'Heavy Rain, Thunderstrom, Snow, Fog'})"
   ]
  },
  {
   "cell_type": "code",
   "execution_count": 16,
   "id": "85bf4a70",
   "metadata": {
    "execution": {
     "iopub.execute_input": "2022-07-02T14:33:09.932819Z",
     "iopub.status.busy": "2022-07-02T14:33:09.931874Z",
     "iopub.status.idle": "2022-07-02T14:33:09.954250Z",
     "shell.execute_reply": "2022-07-02T14:33:09.953119Z"
    },
    "papermill": {
     "duration": 0.040623,
     "end_time": "2022-07-02T14:33:09.956443",
     "exception": false,
     "start_time": "2022-07-02T14:33:09.915820",
     "status": "completed"
    },
    "tags": []
   },
   "outputs": [
    {
     "data": {
      "text/html": [
       "<div>\n",
       "<style scoped>\n",
       "    .dataframe tbody tr th:only-of-type {\n",
       "        vertical-align: middle;\n",
       "    }\n",
       "\n",
       "    .dataframe tbody tr th {\n",
       "        vertical-align: top;\n",
       "    }\n",
       "\n",
       "    .dataframe thead th {\n",
       "        text-align: right;\n",
       "    }\n",
       "</style>\n",
       "<table border=\"1\" class=\"dataframe\">\n",
       "  <thead>\n",
       "    <tr style=\"text-align: right;\">\n",
       "      <th></th>\n",
       "      <th>datetime</th>\n",
       "      <th>season</th>\n",
       "      <th>holiday</th>\n",
       "      <th>workingday</th>\n",
       "      <th>weather</th>\n",
       "      <th>temp</th>\n",
       "      <th>atemp</th>\n",
       "      <th>humidity</th>\n",
       "      <th>windspeed</th>\n",
       "      <th>casual</th>\n",
       "      <th>registered</th>\n",
       "      <th>count</th>\n",
       "      <th>date</th>\n",
       "      <th>year</th>\n",
       "      <th>month</th>\n",
       "      <th>day</th>\n",
       "      <th>hour</th>\n",
       "      <th>minute</th>\n",
       "      <th>second</th>\n",
       "      <th>weekday</th>\n",
       "    </tr>\n",
       "  </thead>\n",
       "  <tbody>\n",
       "    <tr>\n",
       "      <th>0</th>\n",
       "      <td>2011-01-01 00:00:00</td>\n",
       "      <td>Spring</td>\n",
       "      <td>0</td>\n",
       "      <td>0</td>\n",
       "      <td>Clear</td>\n",
       "      <td>9.84</td>\n",
       "      <td>14.395</td>\n",
       "      <td>81</td>\n",
       "      <td>0.0</td>\n",
       "      <td>3</td>\n",
       "      <td>13</td>\n",
       "      <td>16</td>\n",
       "      <td>2011-01-01</td>\n",
       "      <td>2011</td>\n",
       "      <td>01</td>\n",
       "      <td>01</td>\n",
       "      <td>00</td>\n",
       "      <td>00</td>\n",
       "      <td>00</td>\n",
       "      <td>Saturday</td>\n",
       "    </tr>\n",
       "    <tr>\n",
       "      <th>1</th>\n",
       "      <td>2011-01-01 01:00:00</td>\n",
       "      <td>Spring</td>\n",
       "      <td>0</td>\n",
       "      <td>0</td>\n",
       "      <td>Clear</td>\n",
       "      <td>9.02</td>\n",
       "      <td>13.635</td>\n",
       "      <td>80</td>\n",
       "      <td>0.0</td>\n",
       "      <td>8</td>\n",
       "      <td>32</td>\n",
       "      <td>40</td>\n",
       "      <td>2011-01-01</td>\n",
       "      <td>2011</td>\n",
       "      <td>01</td>\n",
       "      <td>01</td>\n",
       "      <td>01</td>\n",
       "      <td>00</td>\n",
       "      <td>00</td>\n",
       "      <td>Saturday</td>\n",
       "    </tr>\n",
       "    <tr>\n",
       "      <th>2</th>\n",
       "      <td>2011-01-01 02:00:00</td>\n",
       "      <td>Spring</td>\n",
       "      <td>0</td>\n",
       "      <td>0</td>\n",
       "      <td>Clear</td>\n",
       "      <td>9.02</td>\n",
       "      <td>13.635</td>\n",
       "      <td>80</td>\n",
       "      <td>0.0</td>\n",
       "      <td>5</td>\n",
       "      <td>27</td>\n",
       "      <td>32</td>\n",
       "      <td>2011-01-01</td>\n",
       "      <td>2011</td>\n",
       "      <td>01</td>\n",
       "      <td>01</td>\n",
       "      <td>02</td>\n",
       "      <td>00</td>\n",
       "      <td>00</td>\n",
       "      <td>Saturday</td>\n",
       "    </tr>\n",
       "    <tr>\n",
       "      <th>3</th>\n",
       "      <td>2011-01-01 03:00:00</td>\n",
       "      <td>Spring</td>\n",
       "      <td>0</td>\n",
       "      <td>0</td>\n",
       "      <td>Clear</td>\n",
       "      <td>9.84</td>\n",
       "      <td>14.395</td>\n",
       "      <td>75</td>\n",
       "      <td>0.0</td>\n",
       "      <td>3</td>\n",
       "      <td>10</td>\n",
       "      <td>13</td>\n",
       "      <td>2011-01-01</td>\n",
       "      <td>2011</td>\n",
       "      <td>01</td>\n",
       "      <td>01</td>\n",
       "      <td>03</td>\n",
       "      <td>00</td>\n",
       "      <td>00</td>\n",
       "      <td>Saturday</td>\n",
       "    </tr>\n",
       "    <tr>\n",
       "      <th>4</th>\n",
       "      <td>2011-01-01 04:00:00</td>\n",
       "      <td>Spring</td>\n",
       "      <td>0</td>\n",
       "      <td>0</td>\n",
       "      <td>Clear</td>\n",
       "      <td>9.84</td>\n",
       "      <td>14.395</td>\n",
       "      <td>75</td>\n",
       "      <td>0.0</td>\n",
       "      <td>0</td>\n",
       "      <td>1</td>\n",
       "      <td>1</td>\n",
       "      <td>2011-01-01</td>\n",
       "      <td>2011</td>\n",
       "      <td>01</td>\n",
       "      <td>01</td>\n",
       "      <td>04</td>\n",
       "      <td>00</td>\n",
       "      <td>00</td>\n",
       "      <td>Saturday</td>\n",
       "    </tr>\n",
       "  </tbody>\n",
       "</table>\n",
       "</div>"
      ],
      "text/plain": [
       "              datetime  season  holiday  workingday weather  temp   atemp  \\\n",
       "0  2011-01-01 00:00:00  Spring        0           0   Clear  9.84  14.395   \n",
       "1  2011-01-01 01:00:00  Spring        0           0   Clear  9.02  13.635   \n",
       "2  2011-01-01 02:00:00  Spring        0           0   Clear  9.02  13.635   \n",
       "3  2011-01-01 03:00:00  Spring        0           0   Clear  9.84  14.395   \n",
       "4  2011-01-01 04:00:00  Spring        0           0   Clear  9.84  14.395   \n",
       "\n",
       "   humidity  windspeed  casual  registered  count        date  year month day  \\\n",
       "0        81        0.0       3          13     16  2011-01-01  2011    01  01   \n",
       "1        80        0.0       8          32     40  2011-01-01  2011    01  01   \n",
       "2        80        0.0       5          27     32  2011-01-01  2011    01  01   \n",
       "3        75        0.0       3          10     13  2011-01-01  2011    01  01   \n",
       "4        75        0.0       0           1      1  2011-01-01  2011    01  01   \n",
       "\n",
       "  hour minute second   weekday  \n",
       "0   00     00     00  Saturday  \n",
       "1   01     00     00  Saturday  \n",
       "2   02     00     00  Saturday  \n",
       "3   03     00     00  Saturday  \n",
       "4   04     00     00  Saturday  "
      ]
     },
     "execution_count": 16,
     "metadata": {},
     "output_type": "execute_result"
    }
   ],
   "source": [
    "train.head() # 분석 결과 date 피처 삭제, month 피쳐 제거"
   ]
  },
  {
   "cell_type": "markdown",
   "id": "b3229646",
   "metadata": {
    "papermill": {
     "duration": 0.015033,
     "end_time": "2022-07-02T14:33:09.986631",
     "exception": false,
     "start_time": "2022-07-02T14:33:09.971598",
     "status": "completed"
    },
    "tags": []
   },
   "source": [
    "## 데이터 시각화"
   ]
  },
  {
   "cell_type": "code",
   "execution_count": 17,
   "id": "2cd2b0c5",
   "metadata": {
    "execution": {
     "iopub.execute_input": "2022-07-02T14:33:10.019263Z",
     "iopub.status.busy": "2022-07-02T14:33:10.018824Z",
     "iopub.status.idle": "2022-07-02T14:33:11.261869Z",
     "shell.execute_reply": "2022-07-02T14:33:11.260831Z"
    },
    "papermill": {
     "duration": 1.262569,
     "end_time": "2022-07-02T14:33:11.264491",
     "exception": false,
     "start_time": "2022-07-02T14:33:10.001922",
     "status": "completed"
    },
    "tags": []
   },
   "outputs": [],
   "source": [
    "import seaborn as sns\n",
    "import matplotlib as mpl\n",
    "import matplotlib.pyplot as plt \n",
    "%matplotlib inline\n",
    "# matplot이 그린 그래프를 주피터 노트북에서 바로 출력해줌(캐클 환경에서는 %matplot inline이 없어도 그래프를 보여주지만 matplot을 사용하는 경우 관습적으로 쓰는 경향이 있음)"
   ]
  },
  {
   "cell_type": "markdown",
   "id": "7708d05b",
   "metadata": {
    "papermill": {
     "duration": 0.014834,
     "end_time": "2022-07-02T14:33:11.294945",
     "exception": false,
     "start_time": "2022-07-02T14:33:11.280111",
     "status": "completed"
    },
    "tags": []
   },
   "source": [
    "## 분포도\n",
    "#### 수치형 데이터의 집계 값을 나타내는 그래프이다. // 집계값은 총 개수나 비율등을 의미함\n",
    "#### 이번장에서는 타깃값의 분포를 알면 훈련 시 타깃값을 그대로 사용할 지 변환해 사용할지 파악할 수 있기 때문"
   ]
  },
  {
   "cell_type": "code",
   "execution_count": 18,
   "id": "ad3b225e",
   "metadata": {
    "execution": {
     "iopub.execute_input": "2022-07-02T14:33:11.327394Z",
     "iopub.status.busy": "2022-07-02T14:33:11.326703Z",
     "iopub.status.idle": "2022-07-02T14:33:11.676529Z",
     "shell.execute_reply": "2022-07-02T14:33:11.675373Z"
    },
    "papermill": {
     "duration": 0.369002,
     "end_time": "2022-07-02T14:33:11.679061",
     "exception": false,
     "start_time": "2022-07-02T14:33:11.310059",
     "status": "completed"
    },
    "tags": []
   },
   "outputs": [
    {
     "data": {
      "image/png": "[encoded data removed]",
      "text/plain": [
       "<Figure size 360x360 with 1 Axes>"
      ]
     },
     "metadata": {
      "needs_background": "light"
     },
     "output_type": "display_data"
    }
   ],
   "source": [
    "mpl.rc('font', size=15) # 폰트 크기를 15로 설정\n",
    "sns.displot(train['count']); # 분포도 출력"
   ]
  },
  {
   "cell_type": "markdown",
   "id": "3ee18d32",
   "metadata": {
    "papermill": {
     "duration": 0.014862,
     "end_time": "2022-07-02T14:33:11.709698",
     "exception": false,
     "start_time": "2022-07-02T14:33:11.694836",
     "status": "completed"
    },
    "tags": []
   },
   "source": [
    "#### x 축은 타깃값인 count를 나타내고, y축은 총 개수를 나타냄. 분포도를 보면 타깃값인 count가 0근처에 모여있음\n",
    "#### 즉, 분포가 왼쪽으로 많이 편향되어있음 // 회귀 모델이 좋은 성능을 내려면 데이터가 정규 분포를 따라야함 // 현재 타깃값을 그대로 사용해 모델링 한다면 좋은 성능을 기대하기 어려움\n",
    "#### 데이터 분포를 정규 분포에 가깝게 만들기 위해 가장 많이 사용하는 방법은 로그변환임, 로그변환은 count 분포와 같이 데이터가 왼쪽으로 편향되어 있을 때 사용함\n",
    "#### 로그변환 방법 : 원하는 값에 로그를 취해주면 됨"
   ]
  },
  {
   "cell_type": "code",
   "execution_count": 19,
   "id": "33449f08",
   "metadata": {
    "execution": {
     "iopub.execute_input": "2022-07-02T14:33:11.741977Z",
     "iopub.status.busy": "2022-07-02T14:33:11.740919Z",
     "iopub.status.idle": "2022-07-02T14:33:12.040308Z",
     "shell.execute_reply": "2022-07-02T14:33:12.039141Z"
    },
    "papermill": {
     "duration": 0.317677,
     "end_time": "2022-07-02T14:33:12.042510",
     "exception": false,
     "start_time": "2022-07-02T14:33:11.724833",
     "status": "completed"
    },
    "tags": []
   },
   "outputs": [
    {
     "data": {
      "image/png": "[encoded data removed]",
      "text/plain": [
       "<Figure size 360x360 with 1 Axes>"
      ]
     },
     "metadata": {
      "needs_background": "light"
     },
     "output_type": "display_data"
    }
   ],
   "source": [
    "# count를 로그 변환한 값의 분포\n",
    "sns.displot(np.log(train['count']));\n",
    "\n",
    "# 변환 전보다 정규분포에 가까워짐 // 회귀모델의 성능 향상을 기대할 수 있음\n",
    "# 피처를 바로 활용해 count를 예측하는 것보다 log(count)를 예측하는 편이 더 정확함 // 따라서 타깃값을 log(count)로 변환해 사용\n",
    "# 다만, 마지막에 지수변환을 하여 실제 타깃값인 count로 복원해야 됨 // log(y)를 지수 변환하면 y가 됨 = y = e^log(y) // 성능 그래프는 194p참고"
   ]
  },
  {
   "cell_type": "markdown",
   "id": "7d19166f",
   "metadata": {
    "papermill": {
     "duration": 0.015482,
     "end_time": "2022-07-02T14:33:12.073353",
     "exception": false,
     "start_time": "2022-07-02T14:33:12.057871",
     "status": "completed"
    },
    "tags": []
   },
   "source": [
    "## 막대 그래프\n",
    "#### 연도, 월, 일, 시, 분, 초별로 총 여섯가지 평균 대여 수량을 막대 그래프로 그리기 // 이 피처들은 범주형 데이터 임 // 각 범주형 데이터에 따라 평균 대여 수량이 어떻게 다른지 파악(중요 피처 확인)\n",
    "#### 이럴때는 막대 그래프를 이용해서 확인"
   ]
  },
  {
   "cell_type": "markdown",
   "id": "3cdc08df",
   "metadata": {
    "papermill": {
     "duration": 0.015021,
     "end_time": "2022-07-02T14:33:12.103770",
     "exception": false,
     "start_time": "2022-07-02T14:33:12.088749",
     "status": "completed"
    },
    "tags": []
   },
   "source": [
    "## 스텝 1 : m행 n열 Figure 준비하기\n",
    "#### 첫 번째로 총 6개의 그래프(서브플롯)를 품느 3행 2열짜리 Figure를 준비"
   ]
  },
  {
   "cell_type": "code",
   "execution_count": 20,
   "id": "9be4f366",
   "metadata": {
    "execution": {
     "iopub.execute_input": "2022-07-02T14:33:12.135547Z",
     "iopub.status.busy": "2022-07-02T14:33:12.135230Z",
     "iopub.status.idle": "2022-07-02T14:33:12.654865Z",
     "shell.execute_reply": "2022-07-02T14:33:12.653825Z"
    },
    "papermill": {
     "duration": 0.538098,
     "end_time": "2022-07-02T14:33:12.657002",
     "exception": false,
     "start_time": "2022-07-02T14:33:12.118904",
     "status": "completed"
    },
    "tags": []
   },
   "outputs": [
    {
     "data": {
      "image/png": "[encoded data removed]",
      "text/plain": [
       "<Figure size 720x648 with 6 Axes>"
      ]
     },
     "metadata": {
      "needs_background": "light"
     },
     "output_type": "display_data"
    }
   ],
   "source": [
    "mpl.rc('font', size = 14) # 폰트 크기 설정 (이책의 196p ,195는 그래프를 그린 후 자세한 설명 확인)\n",
    "mpl.rc('axes', titlesize = 15) # 각 축의 제목 크기 설정\n",
    "figure, axes = plt.subplots(nrows=3, ncols=2) # 3행 2열 Figure 생성 (1)\n",
    "plt.tight_layout() # 그래프 사이에 여백 확보 (2)\n",
    "figure.set_size_inches(10, 9) # 전체 Figure의 크기를 10x9인치로 설정 (3)\n",
    "# train.head()"
   ]
  },
  {
   "cell_type": "markdown",
   "id": "2f1a8362",
   "metadata": {
    "papermill": {
     "duration": 0.015582,
     "end_time": "2022-07-02T14:33:12.689180",
     "exception": false,
     "start_time": "2022-07-02T14:33:12.673598",
     "status": "completed"
    },
    "tags": []
   },
   "source": [
    "#### 코드 (1)은 matplotlib 라이브러리의 subplots() 함수 사용 예시임. // 한 화면에 여러 그래프를 동시에 그릴 때 사용\n",
    "#### 파라미터를 두 개 받는데 nrows : 행의 개수, ncols : 열의 개수\n",
    "#### (1)을 실행하면 3행 2열의 서브플롯(subplot) 전체가 figure 변수에 할당되며, 각각의 서브플롯 축 6개는 axes 변수에 할당 됨 // 위는 1까지만 실행해 figure를 출력 해본 모습임"
   ]
  },
  {
   "cell_type": "code",
   "execution_count": 21,
   "id": "ff80e0c0",
   "metadata": {
    "execution": {
     "iopub.execute_input": "2022-07-02T14:33:12.723004Z",
     "iopub.status.busy": "2022-07-02T14:33:12.722439Z",
     "iopub.status.idle": "2022-07-02T14:33:12.728429Z",
     "shell.execute_reply": "2022-07-02T14:33:12.727645Z"
    },
    "papermill": {
     "duration": 0.025457,
     "end_time": "2022-07-02T14:33:12.730223",
     "exception": false,
     "start_time": "2022-07-02T14:33:12.704766",
     "status": "completed"
    },
    "tags": []
   },
   "outputs": [
    {
     "data": {
      "text/plain": [
       "array([[<AxesSubplot:>, <AxesSubplot:>],\n",
       "       [<AxesSubplot:>, <AxesSubplot:>],\n",
       "       [<AxesSubplot:>, <AxesSubplot:>]], dtype=object)"
      ]
     },
     "execution_count": 21,
     "metadata": {},
     "output_type": "execute_result"
    }
   ],
   "source": [
    "# axes에는 어떤 객체가 할당 되어있는지 출력\n",
    "axes"
   ]
  },
  {
   "cell_type": "markdown",
   "id": "fc5ce654",
   "metadata": {
    "papermill": {
     "duration": 0.015438,
     "end_time": "2022-07-02T14:33:12.761265",
     "exception": false,
     "start_time": "2022-07-02T14:33:12.745827",
     "status": "completed"
    },
    "tags": []
   },
   "source": [
    "### AxeSubplot 객체가 6개가 3행 2열로 구성된 배열이 출력 됨 // 이 배열을 입력으로 axes.shape을 실행하면(3,2)가 출력됨\n",
    "### 출력 결과의 각 AxesSubplot 객체는 순서대로 서브플롯의 0행 0열, 0행 1열, 1행 0열, 1행 1열, 2의 0열 2의 1열 // ex) axes[0,0] : subplot의 0행 0열 축을 의미함"
   ]
  },
  {
   "cell_type": "markdown",
   "id": "59a3d71c",
   "metadata": {
    "papermill": {
     "duration": 0.01579,
     "end_time": "2022-07-02T14:33:12.792628",
     "exception": false,
     "start_time": "2022-07-02T14:33:12.776838",
     "status": "completed"
    },
    "tags": []
   },
   "source": [
    "### 코드(2)의 plt.tight_layout()은 서브플롯 사이에 여백을 줘 간격을 넓이는 기능을 함"
   ]
  },
  {
   "cell_type": "code",
   "execution_count": 22,
   "id": "5628cb36",
   "metadata": {
    "execution": {
     "iopub.execute_input": "2022-07-02T14:33:12.826331Z",
     "iopub.status.busy": "2022-07-02T14:33:12.825929Z",
     "iopub.status.idle": "2022-07-02T14:33:13.264870Z",
     "shell.execute_reply": "2022-07-02T14:33:13.263733Z"
    },
    "papermill": {
     "duration": 0.458814,
     "end_time": "2022-07-02T14:33:13.267229",
     "exception": false,
     "start_time": "2022-07-02T14:33:12.808415",
     "status": "completed"
    },
    "tags": []
   },
   "outputs": [
    {
     "data": {
      "image/png": "[encoded data removed]",
      "text/plain": [
       "<Figure size 432x288 with 6 Axes>"
      ]
     },
     "metadata": {
      "needs_background": "light"
     },
     "output_type": "display_data"
    }
   ],
   "source": [
    "figure, axes = plt.subplots(nrows=3, ncols=2)\n",
    "plt.tight_layout() # subplot 사이의 공간이 넓어짐"
   ]
  },
  {
   "cell_type": "markdown",
   "id": "4cb3de43",
   "metadata": {
    "papermill": {
     "duration": 0.015891,
     "end_time": "2022-07-02T14:33:13.299334",
     "exception": false,
     "start_time": "2022-07-02T14:33:13.283443",
     "status": "completed"
    },
    "tags": []
   },
   "source": [
    "#### 코드(3)의 figure.set_size_inches(10,9)로는 Figure 크기를 지정함 // 서브플롯 하나의 크기가 아니라 서브플롯 6개를 합친 '전체' Figure 크기이며, 단위는 함수 이름에서 알수 있듯이 inch 임.\n",
    "#### 첫 번째 파라미터로는 너비, 두 번째 파라미터로는 높이를 조절 함. 여기서 너비는 10 inch, 높이는 9 inch 임."
   ]
  },
  {
   "cell_type": "markdown",
   "id": "36ef753f",
   "metadata": {
    "papermill": {
     "duration": 0.015742,
     "end_time": "2022-07-02T14:33:13.331144",
     "exception": false,
     "start_time": "2022-07-02T14:33:13.315402",
     "status": "completed"
    },
    "tags": []
   },
   "source": [
    "## 스텝 2 : 각 축에 서브플롯 할당\n",
    "#### 이어서 연도, 월, 일, 시간, 분, 초별 평균 대여 수량 막대 그래프를 스텝 1에서 준비한 Figure의 각 축에 할당\n",
    "#### 막대 그래프 생성에는 seaborn의 barplot()함수를 이용했음. x 파라미터에 연도, 월, 일, 시간, 분, 초를 전달하고, y 파라미터에 대여 수량을 전달\n",
    "#### data 파라미터에는 훈련 데이터를 DataFrame 형식으로 전달하면 됨\n",
    "#### ax 파라미터에는 AxesSubplot 객체를 전달하면 됨 // 0행 0열 축부터 2행 1열의 축까지 순서대로 전달했음"
   ]
  },
  {
   "cell_type": "code",
   "execution_count": 23,
   "id": "b9f048c3",
   "metadata": {
    "execution": {
     "iopub.execute_input": "2022-07-02T14:33:13.365336Z",
     "iopub.status.busy": "2022-07-02T14:33:13.364752Z",
     "iopub.status.idle": "2022-07-02T14:33:16.468194Z",
     "shell.execute_reply": "2022-07-02T14:33:16.466861Z"
    },
    "papermill": {
     "duration": 3.123538,
     "end_time": "2022-07-02T14:33:16.470532",
     "exception": false,
     "start_time": "2022-07-02T14:33:13.346994",
     "status": "completed"
    },
    "tags": []
   },
   "outputs": [
    {
     "data": {
      "image/png": "[encoded data removed]",
      "text/plain": [
       "<Figure size 432x288 with 6 Axes>"
      ]
     },
     "metadata": {
      "needs_background": "light"
     },
     "output_type": "display_data"
    }
   ],
   "source": [
    "figure, axes = plt.subplots(nrows=3, ncols=2)\n",
    "plt.tight_layout() # subplot 사이의 공간이 넓어짐\n",
    "\n",
    "#각 축에 서브플롯 할당\n",
    "sns.barplot(x='year', y='count',data=train, ax=axes[0,0])\n",
    "sns.barplot(x='month', y='count',data=train, ax=axes[0,1])\n",
    "sns.barplot(x='day', y='count',data=train, ax=axes[1,0])\n",
    "sns.barplot(x='hour', y='count',data=train, ax=axes[1,1])\n",
    "sns.barplot(x='minute', y='count',data=train, ax=axes[2,0])\n",
    "sns.barplot(x='second', y='count',data=train, ax=axes[2,1]);\n",
    "\n",
    "# 의도한 대로 잘 할당 되었지만, 각 서브플롯이 어떤 정보를 표현하는지가 한눈에 안들어오고, 어떤 서브플롯은 x축 라벨이 서로 겹치는 등 아쉬운 점이 있음"
   ]
  },
  {
   "cell_type": "markdown",
   "id": "27ffc7ae",
   "metadata": {
    "papermill": {
     "duration": 0.01728,
     "end_time": "2022-07-02T14:33:16.505450",
     "exception": false,
     "start_time": "2022-07-02T14:33:16.488170",
     "status": "completed"
    },
    "tags": []
   },
   "source": [
    "## 스텝 3 : (선택) 세부 설정\n",
    "#### 아쉬움이 남는다면 다양한 형태로 세부 속성을 설정할 수 있음\n",
    "#### 각 서브플롯에 제목 추가 및 x축 라벨이 겹치지 않게 개선"
   ]
  },
  {
   "cell_type": "code",
   "execution_count": 24,
   "id": "c6e560b2",
   "metadata": {
    "execution": {
     "iopub.execute_input": "2022-07-02T14:33:16.543063Z",
     "iopub.status.busy": "2022-07-02T14:33:16.542316Z",
     "iopub.status.idle": "2022-07-02T14:33:19.373638Z",
     "shell.execute_reply": "2022-07-02T14:33:19.372606Z"
    },
    "papermill": {
     "duration": 2.852833,
     "end_time": "2022-07-02T14:33:19.375870",
     "exception": false,
     "start_time": "2022-07-02T14:33:16.523037",
     "status": "completed"
    },
    "tags": []
   },
   "outputs": [
    {
     "data": {
      "image/png": "[encoded data removed]",
      "text/plain": [
       "<Figure size 432x288 with 6 Axes>"
      ]
     },
     "metadata": {
      "needs_background": "light"
     },
     "output_type": "display_data"
    }
   ],
   "source": [
    "figure, axes = plt.subplots(nrows=3, ncols=2)\n",
    "\n",
    "sns.barplot(x='year', y='count',data=train, ax=axes[0,0])\n",
    "sns.barplot(x='month', y='count',data=train, ax=axes[0,1])\n",
    "sns.barplot(x='day', y='count',data=train, ax=axes[1,0])\n",
    "sns.barplot(x='hour', y='count',data=train, ax=axes[1,1])\n",
    "sns.barplot(x='minute', y='count',data=train, ax=axes[2,0])\n",
    "sns.barplot(x='second', y='count',data=train, ax=axes[2,1]);\n",
    "\n",
    "# 먼저 각 축에 그려진 서브플롯에 제목 달아주기\n",
    "\n",
    "axes[0, 0].set(title = 'Rental amount by year')\n",
    "axes[0, 1].set(title = 'Rental amount by month')\n",
    "axes[1, 0].set(title = 'Rental amount by day')\n",
    "axes[1, 1].set(title = 'Rental amount by hour')\n",
    "axes[2, 0].set(title = 'Rental amount by minute')\n",
    "axes[2, 1].set(title = 'Rental amount by second')\n",
    "\n",
    "# 이어서 1행의 두 서브플롯의 x 축 라벨들을 90도 회전\n",
    "\n",
    "axes[1, 0].tick_params(axis = 'x', labelrotation=90)\n",
    "axes[1, 1].tick_params(axis = 'x', labelrotation=90)\n",
    "\n",
    "# 보다시피 axis 파라미터에 원하는 축을 명시하고 labelrotation 파라미터에 회전 각도를 입력하면 됨.\n",
    "# axis의 값으로는 'x', 'y', 'both',를 지정 할 수 있으며, 기본값이 'both'이므로 생략하면 두축을 한꺼번에 회전 시킴"
   ]
  },
  {
   "cell_type": "markdown",
   "id": "6c920fe2",
   "metadata": {
    "papermill": {
     "duration": 0.017712,
     "end_time": "2022-07-02T14:33:19.411811",
     "exception": false,
     "start_time": "2022-07-02T14:33:19.394099",
     "status": "completed"
    },
    "tags": []
   },
   "source": [
    "### 이상 세부설정을 마쳤음. 다음의 전체 코드를 실행하면 막대 그래프가 화면에 출력됨."
   ]
  },
  {
   "cell_type": "code",
   "execution_count": 25,
   "id": "934e122f",
   "metadata": {
    "execution": {
     "iopub.execute_input": "2022-07-02T14:33:19.452384Z",
     "iopub.status.busy": "2022-07-02T14:33:19.451962Z",
     "iopub.status.idle": "2022-07-02T14:33:22.417734Z",
     "shell.execute_reply": "2022-07-02T14:33:22.417009Z"
    },
    "papermill": {
     "duration": 2.989245,
     "end_time": "2022-07-02T14:33:22.420220",
     "exception": false,
     "start_time": "2022-07-02T14:33:19.430975",
     "status": "completed"
    },
    "tags": []
   },
   "outputs": [
    {
     "data": {
      "image/png": "[encoded data removed]",
      "text/plain": [
       "<Figure size 720x648 with 6 Axes>"
      ]
     },
     "metadata": {
      "needs_background": "light"
     },
     "output_type": "display_data"
    }
   ],
   "source": [
    "# 스텝 1 : m 행 n열 Figure 준비\n",
    "mpl.rc('font', size = 14) #  폰트 크기 설정\n",
    "mpl.rc('axes', titlesize = 15) # 각 축의 제목 크기 설정\n",
    "figure, axes = plt.subplots(nrows = 3, ncols = 2) # 3행 2열 Figure 생성\n",
    "plt.tight_layout()\n",
    "figure.set_size_inches(10,9)\n",
    "\n",
    "# 스텝 2 : 각 축에 서브플롯 할당\n",
    "# 각 축에 연도, 월, 일, 시, 분, 초별 평균 대여 수량 막대 그래프 할당\n",
    "sns.barplot(x = 'year', y = 'count', data=train, ax = axes[0,0])\n",
    "sns.barplot(x = 'month', y = 'count', data=train, ax = axes[0,1])\n",
    "sns.barplot(x = 'day', y = 'count', data=train, ax = axes[1,0])\n",
    "sns.barplot(x = 'hour', y = 'count', data=train, ax = axes[1,1])\n",
    "sns.barplot(x = 'minute', y = 'count', data=train, ax = axes[2,0])\n",
    "sns.barplot(x = 'second', y = 'count', data=train, ax = axes[2,1])\n",
    "\n",
    "# 스텝 3 : 세부 설정\n",
    "# 3-1 : 서브플롯에 제목 달기\n",
    "\n",
    "axes[0,0].set(title='Rental amounts by year')\n",
    "axes[0,1].set(title='Rental amounts by month')\n",
    "axes[1,0].set(title='Rental amounts by day')\n",
    "axes[1,1].set(title='Rental amounts by hour')\n",
    "axes[2,0].set(title='Rental amounts by minute')\n",
    "axes[2,1].set(title='Rental amounts by second')\n",
    "\n",
    "# 3-2 : 1행에 위치한 서브플롯들의 x축 라벨 90도 회전\n",
    "\n",
    "axes[1, 0].tick_params(axis = 'x', labelrotation=90)\n",
    "axes[1, 1].tick_params(axis = 'x', labelrotation=90)"
   ]
  },
  {
   "cell_type": "markdown",
   "id": "d1d3faf2",
   "metadata": {
    "papermill": {
     "duration": 0.019641,
     "end_time": "2022-07-02T14:33:22.458390",
     "exception": false,
     "start_time": "2022-07-02T14:33:22.438749",
     "status": "completed"
    },
    "tags": []
   },
   "source": [
    "## 박스플롯\n",
    "#### 범주형 데이터에 따른 수치형 데이터 정보를 나타내는 그래프이다. // 막대 그래프보다 더 많은 정보를 제공하는 특징이 있음\n",
    "#### 여기서는 계절, 날씨, 공휴일, 근무일(범주형 데이터)별 대여 수량(수치형 데이터)을 박스 플롯으로 그려봄\n",
    "#### 각 범주형 데이터에 따라 타깃값인 대여 수량이 어떻게 변하는지 알 수 있음\n",
    "\n",
    "#### 이번에는 2행 2열 figure를 만들것이며, 코드는 막대 그래프 때와 같은 Figure 준비 -> 서브 플롯 할당 -> 세부 설정 순서로 작성"
   ]
  },
  {
   "cell_type": "code",
   "execution_count": 26,
   "id": "c9409576",
   "metadata": {
    "execution": {
     "iopub.execute_input": "2022-07-02T14:33:22.496713Z",
     "iopub.status.busy": "2022-07-02T14:33:22.496176Z",
     "iopub.status.idle": "2022-07-02T14:33:23.056916Z",
     "shell.execute_reply": "2022-07-02T14:33:23.055849Z"
    },
    "papermill": {
     "duration": 0.582294,
     "end_time": "2022-07-02T14:33:23.059178",
     "exception": false,
     "start_time": "2022-07-02T14:33:22.476884",
     "status": "completed"
    },
    "tags": []
   },
   "outputs": [
    {
     "data": {
      "image/png": "[encoded data removed]",
      "text/plain": [
       "<Figure size 720x720 with 4 Axes>"
      ]
     },
     "metadata": {
      "needs_background": "light"
     },
     "output_type": "display_data"
    }
   ],
   "source": [
    "# 스텝 1  : m행 n열 Figure 준비\n",
    "figure, axes = plt.subplots(nrows = 2, ncols = 2) # 2행 2열 Figure 생성\n",
    "plt.tight_layout() # 그래프 사이에 여백 확보\n",
    "figure.set_size_inches(10, 10) # 전체 Figure 크기를 10 x 10 inch로 설정\n",
    "\n",
    "# 스텝 2 : 서브 플롯 할당\n",
    "# 계절, 날씨, 공휴일, 근무일별 대여 수량 박스플롯\n",
    "\n",
    "sns.boxplot(x = 'season', y = 'count', data=train, ax=axes[0,0])\n",
    "sns.boxplot(x = 'weather', y = 'count', data=train, ax=axes[0,1])\n",
    "sns.boxplot(x = 'holiday', y = 'count', data=train, ax=axes[1,0])\n",
    "sns.boxplot(x = 'workingday', y = 'count', data=train, ax=axes[1,1])\n",
    "\n",
    "# 스텝 3 : 세부 설정\n",
    "# 3-1 : 서브플롯에 제목 달기\n",
    "axes[0,0].set(title='Box Plot On Count Across Season')\n",
    "axes[0,1].set(title='Box Plot On Count Across Weather')\n",
    "axes[1,0].set(title='Box Plot On Count Across Holiday')\n",
    "axes[1,1].set(title='Box Plot On Count Across Working Day')\n",
    "\n",
    "# 3-2 : x축 라벨 겹침 해결\n",
    "axes[0,1].tick_params(axis = 'x', labelrotation=10) # 10도 회전"
   ]
  },
  {
   "cell_type": "markdown",
   "id": "8ff33855",
   "metadata": {
    "papermill": {
     "duration": 0.018368,
     "end_time": "2022-07-02T14:33:23.096792",
     "exception": false,
     "start_time": "2022-07-02T14:33:23.078424",
     "status": "completed"
    },
    "tags": []
   },
   "source": [
    "## 포인트 플롯\n",
    "#### 근무일, 공휴일, 요일, 계절, 날씨에 따른 시간대별 평균 대여수량을 포인트플롯(pointplot)으로 그리기\n",
    "#### 포인트 플롯은 범주형 데이터에 따른 수치형 데이터의 평균과 신뢰구간을 점과 선으로 표시함\n",
    "#### 막대 그래프와 동일한 정보를 제공하지만, 한 화면에 여러 그래프를 그려 서로 비교해보기에 더 적합함"
   ]
  },
  {
   "cell_type": "code",
   "execution_count": 27,
   "id": "99a33fdf",
   "metadata": {
    "execution": {
     "iopub.execute_input": "2022-07-02T14:33:23.137963Z",
     "iopub.status.busy": "2022-07-02T14:33:23.137579Z",
     "iopub.status.idle": "2022-07-02T14:33:35.718772Z",
     "shell.execute_reply": "2022-07-02T14:33:35.717891Z"
    },
    "papermill": {
     "duration": 12.606288,
     "end_time": "2022-07-02T14:33:35.722721",
     "exception": false,
     "start_time": "2022-07-02T14:33:23.116433",
     "status": "completed"
    },
    "tags": []
   },
   "outputs": [
    {
     "data": {
      "image/png": "[encoded data removed]",
      "text/plain": [
       "<Figure size 864x1296 with 5 Axes>"
      ]
     },
     "metadata": {
      "needs_background": "light"
     },
     "output_type": "display_data"
    }
   ],
   "source": [
    "# 스텝 1 : m행 n열 Figure 준비\n",
    "mpl.rc('font', size = 11)\n",
    "figure, axes = plt.subplots(nrows=5) # 5행 1열\n",
    "figure.set_size_inches(12, 18)\n",
    "\n",
    "# 스텝 2 : 서브플롯 할당\n",
    "# 근무일, 공휴일, 요일, 계절, 날씨에 따른 시간대별 평균 대여 수량 포인트 플롯\n",
    "sns.pointplot(x='hour' ,y='count' ,data=train, hue='workingday' , ax=axes[0])\n",
    "sns.pointplot(x='hour' ,y='count' ,data=train, hue='holiday' , ax=axes[1])\n",
    "sns.pointplot(x='hour' ,y='count' ,data=train, hue='weekday' , ax=axes[2])\n",
    "sns.pointplot(x='hour' ,y='count' ,data=train, hue='season' , ax=axes[3])\n",
    "sns.pointplot(x='hour' ,y='count' ,data=train, hue='weather' , ax=axes[4]);"
   ]
  },
  {
   "cell_type": "markdown",
   "id": "2c2fcc5a",
   "metadata": {
    "papermill": {
     "duration": 0.022139,
     "end_time": "2022-07-02T14:33:35.768178",
     "exception": false,
     "start_time": "2022-07-02T14:33:35.746039",
     "status": "completed"
    },
    "tags": []
   },
   "source": [
    "#### 분석 결과 weather의 4번의 이상치를 제거하는게 성능이 더 좋았음 // weather == 4 제거"
   ]
  },
  {
   "cell_type": "markdown",
   "id": "ef7bdb8b",
   "metadata": {
    "papermill": {
     "duration": 0.022376,
     "end_time": "2022-07-02T14:33:35.812830",
     "exception": false,
     "start_time": "2022-07-02T14:33:35.790454",
     "status": "completed"
    },
    "tags": []
   },
   "source": [
    "## 회귀선을 포함한 산점도 그래프\n",
    "#### 수치형 데이터인 온도, 체감온도, 풍속, 습도별 대여 수량을 '회귀선을 포함한 산점도 그래프'로 그려봄\n",
    "#### 회귀선이 포함한 산점도 그래프는 수치형 데이터 간 상관관계를 파악하는데 사용함"
   ]
  },
  {
   "cell_type": "code",
   "execution_count": 28,
   "id": "c869ccc7",
   "metadata": {
    "execution": {
     "iopub.execute_input": "2022-07-02T14:33:35.859900Z",
     "iopub.status.busy": "2022-07-02T14:33:35.859174Z",
     "iopub.status.idle": "2022-07-02T14:33:38.887299Z",
     "shell.execute_reply": "2022-07-02T14:33:38.886517Z"
    },
    "papermill": {
     "duration": 3.05519,
     "end_time": "2022-07-02T14:33:38.890240",
     "exception": false,
     "start_time": "2022-07-02T14:33:35.835050",
     "status": "completed"
    },
    "tags": []
   },
   "outputs": [
    {
     "data": {
      "text/plain": [
       "<AxesSubplot:xlabel='humidity', ylabel='count'>"
      ]
     },
     "execution_count": 28,
     "metadata": {},
     "output_type": "execute_result"
    },
    {
     "data": {
      "image/png": "[encoded data removed]",
      "text/plain": [
       "<Figure size 504x432 with 4 Axes>"
      ]
     },
     "metadata": {
      "needs_background": "light"
     },
     "output_type": "display_data"
    }
   ],
   "source": [
    "# 아래 그래프는 seaborn의 regplot() 함수로 그릴 수 있음\n",
    "mpl.rc('font',size = 15)\n",
    "figure, axes = plt.subplots(nrows=2, ncols=2) # 2행 2열\n",
    "plt.tight_layout()\n",
    "figure.set_size_inches(7,6)\n",
    "\n",
    "# 스텝 2 : 서브플롯 할당\n",
    "# 온도, 체감온도, 풍속, 습도 별 대여 수량 산점도 그래프\n",
    "sns.regplot(x='temp', y='count', data=train, ax=axes[0,0],\n",
    "           scatter_kws={'alpha' : 0.2}, line_kws={'color' : 'blue'})\n",
    "sns.regplot(x='atemp', y='count', data=train, ax=axes[0,1],\n",
    "           scatter_kws={'alpha' : 0.2}, line_kws={'color' : 'blue'})\n",
    "sns.regplot(x='windspeed', y='count', data=train, ax=axes[1,0],\n",
    "           scatter_kws={'alpha' : 0.2}, line_kws={'color' : 'blue'})\n",
    "sns.regplot(x='humidity', y='count', data=train, ax=axes[1,1],\n",
    "           scatter_kws={'alpha' : 0.2}, line_kws={'color' : 'blue'})"
   ]
  },
  {
   "cell_type": "markdown",
   "id": "97f8a8a1",
   "metadata": {
    "papermill": {
     "duration": 0.025835,
     "end_time": "2022-07-02T14:33:38.941556",
     "exception": false,
     "start_time": "2022-07-02T14:33:38.915721",
     "status": "completed"
    },
    "tags": []
   },
   "source": [
    "#### windspeed 회귀선을 보면 바람이 강할수록 많이 대여 수량이 많음 // 바람이 약할 수록 대여가 많을 것으로 예상 했음\n",
    "#### 회귀선이 예상과 다르게 그려진 이유는 windspeed 피처의 결측값이 많기 때문임.\n",
    "#### 자세히 보면 풍속이 0인 데이터가 많음. 실제로 풍속이 0이 아니라 관측치가 없거나 오류로 인해 0으로 기록되었을 가능성이 높음\n",
    "#### 결측값이 많아서 그래프만으로는 풍속과 대여 수량의 상관관계를 파악하기 힘듬. 결측값이 많은 데이터는 적절히 처리해야 함. // windspeed 피처 제거"
   ]
  },
  {
   "cell_type": "markdown",
   "id": "e5e865bd",
   "metadata": {
    "papermill": {
     "duration": 0.026066,
     "end_time": "2022-07-02T14:33:38.994054",
     "exception": false,
     "start_time": "2022-07-02T14:33:38.967988",
     "status": "completed"
    },
    "tags": []
   },
   "source": [
    "## 히트맵\n",
    "#### temp, atemp, humidity, windspped, count는 수치형 데이터임, 수치형 데이터끼리 어떤 상관 관계가 있는지 알아보려함.\n",
    "#### corr()함수는 DataFrame 내의 피처 간 상관계수를 반환함"
   ]
  },
  {
   "cell_type": "code",
   "execution_count": 29,
   "id": "5d5a599a",
   "metadata": {
    "execution": {
     "iopub.execute_input": "2022-07-02T14:33:39.049338Z",
     "iopub.status.busy": "2022-07-02T14:33:39.048782Z",
     "iopub.status.idle": "2022-07-02T14:33:39.064975Z",
     "shell.execute_reply": "2022-07-02T14:33:39.064249Z"
    },
    "papermill": {
     "duration": 0.04609,
     "end_time": "2022-07-02T14:33:39.066907",
     "exception": false,
     "start_time": "2022-07-02T14:33:39.020817",
     "status": "completed"
    },
    "tags": []
   },
   "outputs": [
    {
     "data": {
      "text/html": [
       "<div>\n",
       "<style scoped>\n",
       "    .dataframe tbody tr th:only-of-type {\n",
       "        vertical-align: middle;\n",
       "    }\n",
       "\n",
       "    .dataframe tbody tr th {\n",
       "        vertical-align: top;\n",
       "    }\n",
       "\n",
       "    .dataframe thead th {\n",
       "        text-align: right;\n",
       "    }\n",
       "</style>\n",
       "<table border=\"1\" class=\"dataframe\">\n",
       "  <thead>\n",
       "    <tr style=\"text-align: right;\">\n",
       "      <th></th>\n",
       "      <th>temp</th>\n",
       "      <th>atemp</th>\n",
       "      <th>humidity</th>\n",
       "      <th>windspeed</th>\n",
       "      <th>count</th>\n",
       "    </tr>\n",
       "  </thead>\n",
       "  <tbody>\n",
       "    <tr>\n",
       "      <th>temp</th>\n",
       "      <td>1.000000</td>\n",
       "      <td>0.984948</td>\n",
       "      <td>-0.064949</td>\n",
       "      <td>-0.017852</td>\n",
       "      <td>0.394454</td>\n",
       "    </tr>\n",
       "    <tr>\n",
       "      <th>atemp</th>\n",
       "      <td>0.984948</td>\n",
       "      <td>1.000000</td>\n",
       "      <td>-0.043536</td>\n",
       "      <td>-0.057473</td>\n",
       "      <td>0.389784</td>\n",
       "    </tr>\n",
       "    <tr>\n",
       "      <th>humidity</th>\n",
       "      <td>-0.064949</td>\n",
       "      <td>-0.043536</td>\n",
       "      <td>1.000000</td>\n",
       "      <td>-0.318607</td>\n",
       "      <td>-0.317371</td>\n",
       "    </tr>\n",
       "    <tr>\n",
       "      <th>windspeed</th>\n",
       "      <td>-0.017852</td>\n",
       "      <td>-0.057473</td>\n",
       "      <td>-0.318607</td>\n",
       "      <td>1.000000</td>\n",
       "      <td>0.101369</td>\n",
       "    </tr>\n",
       "    <tr>\n",
       "      <th>count</th>\n",
       "      <td>0.394454</td>\n",
       "      <td>0.389784</td>\n",
       "      <td>-0.317371</td>\n",
       "      <td>0.101369</td>\n",
       "      <td>1.000000</td>\n",
       "    </tr>\n",
       "  </tbody>\n",
       "</table>\n",
       "</div>"
      ],
      "text/plain": [
       "               temp     atemp  humidity  windspeed     count\n",
       "temp       1.000000  0.984948 -0.064949  -0.017852  0.394454\n",
       "atemp      0.984948  1.000000 -0.043536  -0.057473  0.389784\n",
       "humidity  -0.064949 -0.043536  1.000000  -0.318607 -0.317371\n",
       "windspeed -0.017852 -0.057473 -0.318607   1.000000  0.101369\n",
       "count      0.394454  0.389784 -0.317371   0.101369  1.000000"
      ]
     },
     "execution_count": 29,
     "metadata": {},
     "output_type": "execute_result"
    }
   ],
   "source": [
    "train[['temp','atemp','humidity','windspeed','count']].corr()"
   ]
  },
  {
   "cell_type": "markdown",
   "id": "45847f45",
   "metadata": {
    "papermill": {
     "duration": 0.0253,
     "end_time": "2022-07-02T14:33:39.117564",
     "exception": false,
     "start_time": "2022-07-02T14:33:39.092264",
     "status": "completed"
    },
    "tags": []
   },
   "source": [
    "#### 하지만 조합이 많아 어느 피처들의 관계가 깊은지 한눈에 들어오지 않음.\n",
    "#### 히트맵(heatmap)이 필요한 순간임\n",
    "#### 히트맵은 데이터 간 관계를 색상으로 표현하여, 여러 데이터를 한눈에 비교하기에 좋음\n",
    "#### 히트맵은 seaborn의 heatmap()함수로 그릴 수 있음"
   ]
  },
  {
   "cell_type": "code",
   "execution_count": 30,
   "id": "915c2579",
   "metadata": {
    "execution": {
     "iopub.execute_input": "2022-07-02T14:33:39.172232Z",
     "iopub.status.busy": "2022-07-02T14:33:39.171584Z",
     "iopub.status.idle": "2022-07-02T14:33:39.487633Z",
     "shell.execute_reply": "2022-07-02T14:33:39.486260Z"
    },
    "papermill": {
     "duration": 0.347466,
     "end_time": "2022-07-02T14:33:39.490870",
     "exception": false,
     "start_time": "2022-07-02T14:33:39.143404",
     "status": "completed"
    },
    "tags": []
   },
   "outputs": [
    {
     "data": {
      "image/png": "[encoded data removed]",
      "text/plain": [
       "<Figure size 720x720 with 2 Axes>"
      ]
     },
     "metadata": {
      "needs_background": "light"
     },
     "output_type": "display_data"
    }
   ],
   "source": [
    "# 피처간의 상관관계 매트릭스\n",
    "corrMat = train[['temp','atemp','humidity','windspeed','count']].corr()\n",
    "fig, ax = plt.subplots()\n",
    "fig.set_size_inches(10,10)\n",
    "sns.heatmap(corrMat, annot=True) # 상관관계 히트맵 그리기\n",
    "ax.set(title='Heatmap of Numerical Data');"
   ]
  },
  {
   "cell_type": "markdown",
   "id": "905eaa3d",
   "metadata": {
    "papermill": {
     "duration": 0.026699,
     "end_time": "2022-07-02T14:33:39.545915",
     "exception": false,
     "start_time": "2022-07-02T14:33:39.519216",
     "status": "completed"
    },
    "tags": []
   },
   "source": [
    "#### corr() 함수로 구한 상관관계 매트릭스 corrMat를 heatmap()함수에 인수로 넣어주면 됨. // 이때 annot=Ture로 설정하면 상관계수가 숫자로 표시됨\n",
    "\n",
    "### 히트맵 해석\n",
    "#### 온도(temp)와 대여수량(count)간 상관계수는 0.39임. 양의 상관관계를 보임(온도가 높을수록 대여 수량이 많다는 뜻)\n",
    "#### 반면, 습도(humidity)와 대여 수량은 음수이니 습도가 '낮을수록' 대여 수량이 많다는 뜻 // 앞서 산점도 그래프에서 분석한 내용과 동일함\n",
    "#### 풍속과 대여수량의 상관계수는 0.1임, 상관관계가 매우 약함 // windspeed 피처는 대여 수량 예측에 별 도움을 주지 못할 것 같음. // 성능을 높이기 위해 모델링 시 windspeed 피처 제거\n",
    "#### 참고로 바로 앞의 '회귀선을 포함한 산점도 그래프' 절에서는 결측값이 많다는 이유로 같은 결로에 도달했었음"
   ]
  },
  {
   "cell_type": "markdown",
   "id": "bc2b3f60",
   "metadata": {
    "papermill": {
     "duration": 0.026805,
     "end_time": "2022-07-02T14:33:39.599954",
     "exception": false,
     "start_time": "2022-07-02T14:33:39.573149",
     "status": "completed"
    },
    "tags": []
   },
   "source": [
    "## 분석 정리 및 모델링 전략\n",
    "\n",
    "### 분석 정리\n",
    "#### 지금까지 다양한 측면에서 데이터를 살펴보았음. 분석 과정에서 파악한 주요 내용을 정리\n",
    "\n",
    "#### 1. 타깃값 변환 : 분포도 확인 결과 타깃값인 count가 0근처로 치우쳐 있으므로 로그변환하여 정규분포에 가깝게 만들어야 됨. 타깃값을 count가 아닌 log(count)로 변환해 사용 할 것이므로,\n",
    "#### 마지막에 다시 지수변환해 count로 복원해야 됨.\n",
    "\n",
    "#### 2. 파생 피처 추가 : datetime 피처는 여러 가지 정보의 혼합체이므로 각각을 분리해 year, month, day, hour, minute, second 피처를 생성할 수 있음.\n",
    "#### 3. 파생 피처 추가 : datetime에 숨어 있는 또 다른 정보인 요일(weekday) 피처를 추가.\n",
    "#### 4. 피처 제거 : 테스트 데이터에는 없는 피처는 훈련에 사용해도 큰 의미가 없음. 따라서 훈련 데이터에만 있는 casual과 registered 피처는 제거.\n",
    "#### 5. 피처 제거 : datetime 피처는 인덱스 역할만 하므로 타깃값 예측에 아무런 도움이 되지 않음\n",
    "#### 6. 피처 제거 : date 피처가 제공하는 정보는 year, month, day 피처에 담겨있음\n",
    "#### 7. 피처 제거 : month는 season 피처의 세부 분류로 볼 수 있음. 데이터가 지나치게 세분화 되어있으면 분류별 데이터 수가 적어서 오히려 학습에 방해가 되기도 함\n",
    "#### 8. 피처 제거 : 막대 그래프 확인 결과 파생 피처인 day는 분변력이 없음\n",
    "#### 9. 피처 제거 : 막대 그래프 확인 결과 파생 피처인 minute와 second에는 아무런 정보가 담겨있지 않음\n",
    "#### 10. 이상치 제거 : 포인트 플롯 확인 결과 weather가 4인 데이터는 이상치임.\n",
    "#### 11. 피치 제거 : 산점도 그래프와 히트맵 확인 결과 windspeed피처에는 결측값이 많고 대여 수량과의 상관관계는 매우 약함"
   ]
  },
  {
   "cell_type": "markdown",
   "id": "931af8b8",
   "metadata": {
    "papermill": {
     "duration": 0.027072,
     "end_time": "2022-07-02T14:33:39.655271",
     "exception": false,
     "start_time": "2022-07-02T14:33:39.628199",
     "status": "completed"
    },
    "tags": []
   },
   "source": [
    "## 모델링 전략\n",
    "#### 경진대회에서 우수한 성적을 거두려면 본인만의 최적화된 모델을 구상해야 됨.\n",
    "##### (여기서는 익숙해지기 위해 사이킷런이 제공하는 기본적인 모델만 사용함, 차후 자신이 만든 모델이 최소한 기본 모델들 보다는 우수해야 대회에 참여한 의의가 있을테니 이번에는 익숙해지는데 중점을 둠)\n",
    "#### 베이스라인 모델 : 가장 기본적인 회귀 모델인 LinearRegression 채택\n",
    "#### 성능 개선 : 릿지, 라쏘, 랜덤 포레스트 회귀 모델\n",
    "#### 피처 엔지니어링 : 앞으 분석 수준에서 모든 모델에서 동일하게 수행\n",
    "#### 하이퍼파라미터 최적화 : 그리드서치\n",
    "#### 기타 : 타깃값이 count가 아닌 log(count)임\n",
    "\n",
    "#### //베이스라인 모델과 성능 개선 절들은 본 경진대회에서 추천수가 가장 많은 다음 노트북을 리팩터링하여 작성함\n",
    "##### 209,210p 참고"
   ]
  },
  {
   "cell_type": "markdown",
   "id": "45296a9e",
   "metadata": {
    "papermill": {
     "duration": 0.027243,
     "end_time": "2022-07-02T14:33:39.708795",
     "exception": false,
     "start_time": "2022-07-02T14:33:39.681552",
     "status": "completed"
    },
    "tags": []
   },
   "source": [
    "## 베이스라인 모델\n",
    "#### 이번 절에서는 앞 절에서 추린 피처들을 활용해 베이스라인 모델을 훈련하고 결과를 제출할 예정\n",
    "#### 베이스라인 모델이란 뼈대가 되는 가장 기본적인 모델을 의미함.(여기서는 베이스라인 모델에서 출발해 성능을 점차 향상시키는 방향으로 모델링 할 것임\n",
    "#### 경진대회에 참가하다 보면 다른 참가자들이 베이스라인 모델을 공유 할 것임. 공유된 모델을 사용해도 되고, 직접 자신만의 모델을 만들어도 됨\n",
    "#### 이번 장에서는 사이킷런이 제공하는 기본 선형 회귀 모델을 베이스라인으로 사용 할 것임. 전체 프로세스는 다음과 같음\n",
    "### 데이터 불러오기 -> (기본적인)피처 엔지니어링 -> 평가지표 계산 함수 작성 -> 모델 훈련 -> 성능 검증 -> 제출"
   ]
  },
  {
   "cell_type": "code",
   "execution_count": 31,
   "id": "32324c6a",
   "metadata": {
    "execution": {
     "iopub.execute_input": "2022-07-02T14:33:39.764797Z",
     "iopub.status.busy": "2022-07-02T14:33:39.764374Z",
     "iopub.status.idle": "2022-07-02T14:33:39.808666Z",
     "shell.execute_reply": "2022-07-02T14:33:39.807425Z"
    },
    "papermill": {
     "duration": 0.075666,
     "end_time": "2022-07-02T14:33:39.811409",
     "exception": false,
     "start_time": "2022-07-02T14:33:39.735743",
     "status": "completed"
    },
    "tags": []
   },
   "outputs": [],
   "source": [
    "import pandas as pd\n",
    "# 데이터 경로\n",
    "\n",
    "data_path = '/kaggle/input/bike-sharing-demand/'\n",
    "\n",
    "train = pd.read_csv(data_path + 'train.csv')\n",
    "test = pd.read_csv(data_path + 'test.csv')\n",
    "submission = pd.read_csv(data_path + 'sampleSubmission.csv')"
   ]
  },
  {
   "cell_type": "markdown",
   "id": "2e6feee4",
   "metadata": {
    "papermill": {
     "duration": 0.02473,
     "end_time": "2022-07-02T14:33:39.862496",
     "exception": false,
     "start_time": "2022-07-02T14:33:39.837766",
     "status": "completed"
    },
    "tags": []
   },
   "source": [
    "## 피처 엔지니어링\n",
    "#### 데이터를 변환하는 작업// 보통은 훈련 데이터와 테스트 데이터에 공통으로 반영해야 하기 때문에, 피처 엔지니어링 전에 두 데이터를 합쳤다가 다 끝나면 도로 나눔\n",
    "##### 데이터를 합치기 전에 훈련 데이터에서 이상치 하나를 제거"
   ]
  },
  {
   "cell_type": "markdown",
   "id": "422b3c5d",
   "metadata": {
    "papermill": {
     "duration": 0.024848,
     "end_time": "2022-07-02T14:33:39.912673",
     "exception": false,
     "start_time": "2022-07-02T14:33:39.887825",
     "status": "completed"
    },
    "tags": []
   },
   "source": [
    "### 이상치 제거\n",
    "#### 앞서 포인트 플롯에서 확인 한 결과 훈련 데이터에서 weather가 4인 데이터(폭우 폭설이 내리는 날 저녁 6시에 대여)는 이상치였음. // 해당피처 제거"
   ]
  },
  {
   "cell_type": "code",
   "execution_count": 32,
   "id": "989deffc",
   "metadata": {
    "execution": {
     "iopub.execute_input": "2022-07-02T14:33:39.964878Z",
     "iopub.status.busy": "2022-07-02T14:33:39.964171Z",
     "iopub.status.idle": "2022-07-02T14:33:39.970575Z",
     "shell.execute_reply": "2022-07-02T14:33:39.969919Z"
    },
    "papermill": {
     "duration": 0.034989,
     "end_time": "2022-07-02T14:33:39.972477",
     "exception": false,
     "start_time": "2022-07-02T14:33:39.937488",
     "status": "completed"
    },
    "tags": []
   },
   "outputs": [],
   "source": [
    "# 훈련 데이터에서 weater가 4가 아닌 데이터만 추출\n",
    "train = train[train['weather'] != 4]"
   ]
  },
  {
   "cell_type": "markdown",
   "id": "b54016ec",
   "metadata": {
    "papermill": {
     "duration": 0.024816,
     "end_time": "2022-07-02T14:33:40.022412",
     "exception": false,
     "start_time": "2022-07-02T14:33:39.997596",
     "status": "completed"
    },
    "tags": []
   },
   "source": [
    "## 데이터 합치기 \n",
    "#### 훈련 데이터와 테스트 데이터에 같은 피쳐 엔지니어링을 적용하기 위해 두 데이터를 하나로 합침\n",
    "#### 판다스의 concat()함수를 사용하면 축을 따라 DataFrame을 이어붙일 수 있음\n",
    "#### 훈련 데아터는 10,886행, 테스트 데이터는 6,439행으로 구성되어 있음 합치면 17379행임.\n",
    "#### 앞서 weather가 4인 데이터는 제거했으니(1개 있음), 최종적으로 17378행이 됨."
   ]
  },
  {
   "cell_type": "code",
   "execution_count": 33,
   "id": "288a156f",
   "metadata": {
    "execution": {
     "iopub.execute_input": "2022-07-02T14:33:40.074942Z",
     "iopub.status.busy": "2022-07-02T14:33:40.074309Z",
     "iopub.status.idle": "2022-07-02T14:33:40.098418Z",
     "shell.execute_reply": "2022-07-02T14:33:40.097329Z"
    },
    "papermill": {
     "duration": 0.052707,
     "end_time": "2022-07-02T14:33:40.100430",
     "exception": false,
     "start_time": "2022-07-02T14:33:40.047723",
     "status": "completed"
    },
    "tags": []
   },
   "outputs": [
    {
     "data": {
      "text/html": [
       "<div>\n",
       "<style scoped>\n",
       "    .dataframe tbody tr th:only-of-type {\n",
       "        vertical-align: middle;\n",
       "    }\n",
       "\n",
       "    .dataframe tbody tr th {\n",
       "        vertical-align: top;\n",
       "    }\n",
       "\n",
       "    .dataframe thead th {\n",
       "        text-align: right;\n",
       "    }\n",
       "</style>\n",
       "<table border=\"1\" class=\"dataframe\">\n",
       "  <thead>\n",
       "    <tr style=\"text-align: right;\">\n",
       "      <th></th>\n",
       "      <th>datetime</th>\n",
       "      <th>season</th>\n",
       "      <th>holiday</th>\n",
       "      <th>workingday</th>\n",
       "      <th>weather</th>\n",
       "      <th>temp</th>\n",
       "      <th>atemp</th>\n",
       "      <th>humidity</th>\n",
       "      <th>windspeed</th>\n",
       "      <th>casual</th>\n",
       "      <th>registered</th>\n",
       "      <th>count</th>\n",
       "    </tr>\n",
       "  </thead>\n",
       "  <tbody>\n",
       "    <tr>\n",
       "      <th>0</th>\n",
       "      <td>2011-01-01 00:00:00</td>\n",
       "      <td>1</td>\n",
       "      <td>0</td>\n",
       "      <td>0</td>\n",
       "      <td>1</td>\n",
       "      <td>9.84</td>\n",
       "      <td>14.395</td>\n",
       "      <td>81</td>\n",
       "      <td>0.0000</td>\n",
       "      <td>3.0</td>\n",
       "      <td>13.0</td>\n",
       "      <td>16.0</td>\n",
       "    </tr>\n",
       "    <tr>\n",
       "      <th>1</th>\n",
       "      <td>2011-01-01 01:00:00</td>\n",
       "      <td>1</td>\n",
       "      <td>0</td>\n",
       "      <td>0</td>\n",
       "      <td>1</td>\n",
       "      <td>9.02</td>\n",
       "      <td>13.635</td>\n",
       "      <td>80</td>\n",
       "      <td>0.0000</td>\n",
       "      <td>8.0</td>\n",
       "      <td>32.0</td>\n",
       "      <td>40.0</td>\n",
       "    </tr>\n",
       "    <tr>\n",
       "      <th>2</th>\n",
       "      <td>2011-01-01 02:00:00</td>\n",
       "      <td>1</td>\n",
       "      <td>0</td>\n",
       "      <td>0</td>\n",
       "      <td>1</td>\n",
       "      <td>9.02</td>\n",
       "      <td>13.635</td>\n",
       "      <td>80</td>\n",
       "      <td>0.0000</td>\n",
       "      <td>5.0</td>\n",
       "      <td>27.0</td>\n",
       "      <td>32.0</td>\n",
       "    </tr>\n",
       "    <tr>\n",
       "      <th>3</th>\n",
       "      <td>2011-01-01 03:00:00</td>\n",
       "      <td>1</td>\n",
       "      <td>0</td>\n",
       "      <td>0</td>\n",
       "      <td>1</td>\n",
       "      <td>9.84</td>\n",
       "      <td>14.395</td>\n",
       "      <td>75</td>\n",
       "      <td>0.0000</td>\n",
       "      <td>3.0</td>\n",
       "      <td>10.0</td>\n",
       "      <td>13.0</td>\n",
       "    </tr>\n",
       "    <tr>\n",
       "      <th>4</th>\n",
       "      <td>2011-01-01 04:00:00</td>\n",
       "      <td>1</td>\n",
       "      <td>0</td>\n",
       "      <td>0</td>\n",
       "      <td>1</td>\n",
       "      <td>9.84</td>\n",
       "      <td>14.395</td>\n",
       "      <td>75</td>\n",
       "      <td>0.0000</td>\n",
       "      <td>0.0</td>\n",
       "      <td>1.0</td>\n",
       "      <td>1.0</td>\n",
       "    </tr>\n",
       "    <tr>\n",
       "      <th>...</th>\n",
       "      <td>...</td>\n",
       "      <td>...</td>\n",
       "      <td>...</td>\n",
       "      <td>...</td>\n",
       "      <td>...</td>\n",
       "      <td>...</td>\n",
       "      <td>...</td>\n",
       "      <td>...</td>\n",
       "      <td>...</td>\n",
       "      <td>...</td>\n",
       "      <td>...</td>\n",
       "      <td>...</td>\n",
       "    </tr>\n",
       "    <tr>\n",
       "      <th>6488</th>\n",
       "      <td>2012-12-31 19:00:00</td>\n",
       "      <td>1</td>\n",
       "      <td>0</td>\n",
       "      <td>1</td>\n",
       "      <td>2</td>\n",
       "      <td>10.66</td>\n",
       "      <td>12.880</td>\n",
       "      <td>60</td>\n",
       "      <td>11.0014</td>\n",
       "      <td>NaN</td>\n",
       "      <td>NaN</td>\n",
       "      <td>NaN</td>\n",
       "    </tr>\n",
       "    <tr>\n",
       "      <th>6489</th>\n",
       "      <td>2012-12-31 20:00:00</td>\n",
       "      <td>1</td>\n",
       "      <td>0</td>\n",
       "      <td>1</td>\n",
       "      <td>2</td>\n",
       "      <td>10.66</td>\n",
       "      <td>12.880</td>\n",
       "      <td>60</td>\n",
       "      <td>11.0014</td>\n",
       "      <td>NaN</td>\n",
       "      <td>NaN</td>\n",
       "      <td>NaN</td>\n",
       "    </tr>\n",
       "    <tr>\n",
       "      <th>6490</th>\n",
       "      <td>2012-12-31 21:00:00</td>\n",
       "      <td>1</td>\n",
       "      <td>0</td>\n",
       "      <td>1</td>\n",
       "      <td>1</td>\n",
       "      <td>10.66</td>\n",
       "      <td>12.880</td>\n",
       "      <td>60</td>\n",
       "      <td>11.0014</td>\n",
       "      <td>NaN</td>\n",
       "      <td>NaN</td>\n",
       "      <td>NaN</td>\n",
       "    </tr>\n",
       "    <tr>\n",
       "      <th>6491</th>\n",
       "      <td>2012-12-31 22:00:00</td>\n",
       "      <td>1</td>\n",
       "      <td>0</td>\n",
       "      <td>1</td>\n",
       "      <td>1</td>\n",
       "      <td>10.66</td>\n",
       "      <td>13.635</td>\n",
       "      <td>56</td>\n",
       "      <td>8.9981</td>\n",
       "      <td>NaN</td>\n",
       "      <td>NaN</td>\n",
       "      <td>NaN</td>\n",
       "    </tr>\n",
       "    <tr>\n",
       "      <th>6492</th>\n",
       "      <td>2012-12-31 23:00:00</td>\n",
       "      <td>1</td>\n",
       "      <td>0</td>\n",
       "      <td>1</td>\n",
       "      <td>1</td>\n",
       "      <td>10.66</td>\n",
       "      <td>13.635</td>\n",
       "      <td>65</td>\n",
       "      <td>8.9981</td>\n",
       "      <td>NaN</td>\n",
       "      <td>NaN</td>\n",
       "      <td>NaN</td>\n",
       "    </tr>\n",
       "  </tbody>\n",
       "</table>\n",
       "<p>17378 rows × 12 columns</p>\n",
       "</div>"
      ],
      "text/plain": [
       "                 datetime  season  holiday  workingday  weather   temp  \\\n",
       "0     2011-01-01 00:00:00       1        0           0        1   9.84   \n",
       "1     2011-01-01 01:00:00       1        0           0        1   9.02   \n",
       "2     2011-01-01 02:00:00       1        0           0        1   9.02   \n",
       "3     2011-01-01 03:00:00       1        0           0        1   9.84   \n",
       "4     2011-01-01 04:00:00       1        0           0        1   9.84   \n",
       "...                   ...     ...      ...         ...      ...    ...   \n",
       "6488  2012-12-31 19:00:00       1        0           1        2  10.66   \n",
       "6489  2012-12-31 20:00:00       1        0           1        2  10.66   \n",
       "6490  2012-12-31 21:00:00       1        0           1        1  10.66   \n",
       "6491  2012-12-31 22:00:00       1        0           1        1  10.66   \n",
       "6492  2012-12-31 23:00:00       1        0           1        1  10.66   \n",
       "\n",
       "       atemp  humidity  windspeed  casual  registered  count  \n",
       "0     14.395        81     0.0000     3.0        13.0   16.0  \n",
       "1     13.635        80     0.0000     8.0        32.0   40.0  \n",
       "2     13.635        80     0.0000     5.0        27.0   32.0  \n",
       "3     14.395        75     0.0000     3.0        10.0   13.0  \n",
       "4     14.395        75     0.0000     0.0         1.0    1.0  \n",
       "...      ...       ...        ...     ...         ...    ...  \n",
       "6488  12.880        60    11.0014     NaN         NaN    NaN  \n",
       "6489  12.880        60    11.0014     NaN         NaN    NaN  \n",
       "6490  12.880        60    11.0014     NaN         NaN    NaN  \n",
       "6491  13.635        56     8.9981     NaN         NaN    NaN  \n",
       "6492  13.635        65     8.9981     NaN         NaN    NaN  \n",
       "\n",
       "[17378 rows x 12 columns]"
      ]
     },
     "execution_count": 33,
     "metadata": {},
     "output_type": "execute_result"
    }
   ],
   "source": [
    "# 제대로 합쳐졌는지 확인\n",
    "all_data_temp = pd.concat([train, test])\n",
    "all_data_temp"
   ]
  },
  {
   "cell_type": "markdown",
   "id": "30d24f82",
   "metadata": {
    "papermill": {
     "duration": 0.025623,
     "end_time": "2022-07-02T14:33:40.151743",
     "exception": false,
     "start_time": "2022-07-02T14:33:40.126120",
     "status": "completed"
    },
    "tags": []
   },
   "source": [
    "### 총 17378개의 행인데 인덱스가 6492까지 밖에 안보임(그림에서는 중간과정이 생략되어있고, 실제로는 0부터 10885까지 매기고, 다시 0부터 6,492까지 매긴 결과임(중간에 앞서 제거한 인덱스도 있음\n",
    "### 원래 데이터의 인덱스를 무시하고 이어붙이려면 ignore_index = True를 전달하면 됨"
   ]
  },
  {
   "cell_type": "code",
   "execution_count": 34,
   "id": "cd069132",
   "metadata": {
    "execution": {
     "iopub.execute_input": "2022-07-02T14:33:40.205324Z",
     "iopub.status.busy": "2022-07-02T14:33:40.204590Z",
     "iopub.status.idle": "2022-07-02T14:33:40.228551Z",
     "shell.execute_reply": "2022-07-02T14:33:40.227748Z"
    },
    "papermill": {
     "duration": 0.053126,
     "end_time": "2022-07-02T14:33:40.230608",
     "exception": false,
     "start_time": "2022-07-02T14:33:40.177482",
     "status": "completed"
    },
    "tags": []
   },
   "outputs": [
    {
     "data": {
      "text/html": [
       "<div>\n",
       "<style scoped>\n",
       "    .dataframe tbody tr th:only-of-type {\n",
       "        vertical-align: middle;\n",
       "    }\n",
       "\n",
       "    .dataframe tbody tr th {\n",
       "        vertical-align: top;\n",
       "    }\n",
       "\n",
       "    .dataframe thead th {\n",
       "        text-align: right;\n",
       "    }\n",
       "</style>\n",
       "<table border=\"1\" class=\"dataframe\">\n",
       "  <thead>\n",
       "    <tr style=\"text-align: right;\">\n",
       "      <th></th>\n",
       "      <th>datetime</th>\n",
       "      <th>season</th>\n",
       "      <th>holiday</th>\n",
       "      <th>workingday</th>\n",
       "      <th>weather</th>\n",
       "      <th>temp</th>\n",
       "      <th>atemp</th>\n",
       "      <th>humidity</th>\n",
       "      <th>windspeed</th>\n",
       "      <th>casual</th>\n",
       "      <th>registered</th>\n",
       "      <th>count</th>\n",
       "    </tr>\n",
       "  </thead>\n",
       "  <tbody>\n",
       "    <tr>\n",
       "      <th>0</th>\n",
       "      <td>2011-01-01 00:00:00</td>\n",
       "      <td>1</td>\n",
       "      <td>0</td>\n",
       "      <td>0</td>\n",
       "      <td>1</td>\n",
       "      <td>9.84</td>\n",
       "      <td>14.395</td>\n",
       "      <td>81</td>\n",
       "      <td>0.0000</td>\n",
       "      <td>3.0</td>\n",
       "      <td>13.0</td>\n",
       "      <td>16.0</td>\n",
       "    </tr>\n",
       "    <tr>\n",
       "      <th>1</th>\n",
       "      <td>2011-01-01 01:00:00</td>\n",
       "      <td>1</td>\n",
       "      <td>0</td>\n",
       "      <td>0</td>\n",
       "      <td>1</td>\n",
       "      <td>9.02</td>\n",
       "      <td>13.635</td>\n",
       "      <td>80</td>\n",
       "      <td>0.0000</td>\n",
       "      <td>8.0</td>\n",
       "      <td>32.0</td>\n",
       "      <td>40.0</td>\n",
       "    </tr>\n",
       "    <tr>\n",
       "      <th>2</th>\n",
       "      <td>2011-01-01 02:00:00</td>\n",
       "      <td>1</td>\n",
       "      <td>0</td>\n",
       "      <td>0</td>\n",
       "      <td>1</td>\n",
       "      <td>9.02</td>\n",
       "      <td>13.635</td>\n",
       "      <td>80</td>\n",
       "      <td>0.0000</td>\n",
       "      <td>5.0</td>\n",
       "      <td>27.0</td>\n",
       "      <td>32.0</td>\n",
       "    </tr>\n",
       "    <tr>\n",
       "      <th>3</th>\n",
       "      <td>2011-01-01 03:00:00</td>\n",
       "      <td>1</td>\n",
       "      <td>0</td>\n",
       "      <td>0</td>\n",
       "      <td>1</td>\n",
       "      <td>9.84</td>\n",
       "      <td>14.395</td>\n",
       "      <td>75</td>\n",
       "      <td>0.0000</td>\n",
       "      <td>3.0</td>\n",
       "      <td>10.0</td>\n",
       "      <td>13.0</td>\n",
       "    </tr>\n",
       "    <tr>\n",
       "      <th>4</th>\n",
       "      <td>2011-01-01 04:00:00</td>\n",
       "      <td>1</td>\n",
       "      <td>0</td>\n",
       "      <td>0</td>\n",
       "      <td>1</td>\n",
       "      <td>9.84</td>\n",
       "      <td>14.395</td>\n",
       "      <td>75</td>\n",
       "      <td>0.0000</td>\n",
       "      <td>0.0</td>\n",
       "      <td>1.0</td>\n",
       "      <td>1.0</td>\n",
       "    </tr>\n",
       "    <tr>\n",
       "      <th>...</th>\n",
       "      <td>...</td>\n",
       "      <td>...</td>\n",
       "      <td>...</td>\n",
       "      <td>...</td>\n",
       "      <td>...</td>\n",
       "      <td>...</td>\n",
       "      <td>...</td>\n",
       "      <td>...</td>\n",
       "      <td>...</td>\n",
       "      <td>...</td>\n",
       "      <td>...</td>\n",
       "      <td>...</td>\n",
       "    </tr>\n",
       "    <tr>\n",
       "      <th>17373</th>\n",
       "      <td>2012-12-31 19:00:00</td>\n",
       "      <td>1</td>\n",
       "      <td>0</td>\n",
       "      <td>1</td>\n",
       "      <td>2</td>\n",
       "      <td>10.66</td>\n",
       "      <td>12.880</td>\n",
       "      <td>60</td>\n",
       "      <td>11.0014</td>\n",
       "      <td>NaN</td>\n",
       "      <td>NaN</td>\n",
       "      <td>NaN</td>\n",
       "    </tr>\n",
       "    <tr>\n",
       "      <th>17374</th>\n",
       "      <td>2012-12-31 20:00:00</td>\n",
       "      <td>1</td>\n",
       "      <td>0</td>\n",
       "      <td>1</td>\n",
       "      <td>2</td>\n",
       "      <td>10.66</td>\n",
       "      <td>12.880</td>\n",
       "      <td>60</td>\n",
       "      <td>11.0014</td>\n",
       "      <td>NaN</td>\n",
       "      <td>NaN</td>\n",
       "      <td>NaN</td>\n",
       "    </tr>\n",
       "    <tr>\n",
       "      <th>17375</th>\n",
       "      <td>2012-12-31 21:00:00</td>\n",
       "      <td>1</td>\n",
       "      <td>0</td>\n",
       "      <td>1</td>\n",
       "      <td>1</td>\n",
       "      <td>10.66</td>\n",
       "      <td>12.880</td>\n",
       "      <td>60</td>\n",
       "      <td>11.0014</td>\n",
       "      <td>NaN</td>\n",
       "      <td>NaN</td>\n",
       "      <td>NaN</td>\n",
       "    </tr>\n",
       "    <tr>\n",
       "      <th>17376</th>\n",
       "      <td>2012-12-31 22:00:00</td>\n",
       "      <td>1</td>\n",
       "      <td>0</td>\n",
       "      <td>1</td>\n",
       "      <td>1</td>\n",
       "      <td>10.66</td>\n",
       "      <td>13.635</td>\n",
       "      <td>56</td>\n",
       "      <td>8.9981</td>\n",
       "      <td>NaN</td>\n",
       "      <td>NaN</td>\n",
       "      <td>NaN</td>\n",
       "    </tr>\n",
       "    <tr>\n",
       "      <th>17377</th>\n",
       "      <td>2012-12-31 23:00:00</td>\n",
       "      <td>1</td>\n",
       "      <td>0</td>\n",
       "      <td>1</td>\n",
       "      <td>1</td>\n",
       "      <td>10.66</td>\n",
       "      <td>13.635</td>\n",
       "      <td>65</td>\n",
       "      <td>8.9981</td>\n",
       "      <td>NaN</td>\n",
       "      <td>NaN</td>\n",
       "      <td>NaN</td>\n",
       "    </tr>\n",
       "  </tbody>\n",
       "</table>\n",
       "<p>17378 rows × 12 columns</p>\n",
       "</div>"
      ],
      "text/plain": [
       "                  datetime  season  holiday  workingday  weather   temp  \\\n",
       "0      2011-01-01 00:00:00       1        0           0        1   9.84   \n",
       "1      2011-01-01 01:00:00       1        0           0        1   9.02   \n",
       "2      2011-01-01 02:00:00       1        0           0        1   9.02   \n",
       "3      2011-01-01 03:00:00       1        0           0        1   9.84   \n",
       "4      2011-01-01 04:00:00       1        0           0        1   9.84   \n",
       "...                    ...     ...      ...         ...      ...    ...   \n",
       "17373  2012-12-31 19:00:00       1        0           1        2  10.66   \n",
       "17374  2012-12-31 20:00:00       1        0           1        2  10.66   \n",
       "17375  2012-12-31 21:00:00       1        0           1        1  10.66   \n",
       "17376  2012-12-31 22:00:00       1        0           1        1  10.66   \n",
       "17377  2012-12-31 23:00:00       1        0           1        1  10.66   \n",
       "\n",
       "        atemp  humidity  windspeed  casual  registered  count  \n",
       "0      14.395        81     0.0000     3.0        13.0   16.0  \n",
       "1      13.635        80     0.0000     8.0        32.0   40.0  \n",
       "2      13.635        80     0.0000     5.0        27.0   32.0  \n",
       "3      14.395        75     0.0000     3.0        10.0   13.0  \n",
       "4      14.395        75     0.0000     0.0         1.0    1.0  \n",
       "...       ...       ...        ...     ...         ...    ...  \n",
       "17373  12.880        60    11.0014     NaN         NaN    NaN  \n",
       "17374  12.880        60    11.0014     NaN         NaN    NaN  \n",
       "17375  12.880        60    11.0014     NaN         NaN    NaN  \n",
       "17376  13.635        56     8.9981     NaN         NaN    NaN  \n",
       "17377  13.635        65     8.9981     NaN         NaN    NaN  \n",
       "\n",
       "[17378 rows x 12 columns]"
      ]
     },
     "execution_count": 34,
     "metadata": {},
     "output_type": "execute_result"
    }
   ],
   "source": [
    "all_data = pd.concat([train, test],ignore_index=True)\n",
    "all_data"
   ]
  },
  {
   "cell_type": "markdown",
   "id": "355e1372",
   "metadata": {
    "execution": {
     "iopub.execute_input": "2022-06-30T07:48:37.055161Z",
     "iopub.status.busy": "2022-06-30T07:48:37.054259Z",
     "iopub.status.idle": "2022-06-30T07:48:37.060948Z",
     "shell.execute_reply": "2022-06-30T07:48:37.059831Z",
     "shell.execute_reply.started": "2022-06-30T07:48:37.055127Z"
    },
    "papermill": {
     "duration": 0.025514,
     "end_time": "2022-07-02T14:33:40.282094",
     "exception": false,
     "start_time": "2022-07-02T14:33:40.256580",
     "status": "completed"
    },
    "tags": []
   },
   "source": [
    "#### 인덱스가 0부터 17377까지 출력된것을 확인 할 수 있음\n",
    "#### 테스트 데이터에 casual, registered 피처와 count 타깃값이 없으므로 NaN으로 표시된 것도 볼 수 있음."
   ]
  },
  {
   "cell_type": "markdown",
   "id": "75076050",
   "metadata": {
    "papermill": {
     "duration": 0.025659,
     "end_time": "2022-07-02T14:33:40.334403",
     "exception": false,
     "start_time": "2022-07-02T14:33:40.308744",
     "status": "completed"
    },
    "tags": []
   },
   "source": [
    "## 파생 피처(변수) 추가\n",
    "#### 이전에 다룬 피처 엔지니어링(파생 피처 추가)을 비슷한 방식으로 적용"
   ]
  },
  {
   "cell_type": "code",
   "execution_count": 35,
   "id": "a776f640",
   "metadata": {
    "execution": {
     "iopub.execute_input": "2022-07-02T14:33:40.388592Z",
     "iopub.status.busy": "2022-07-02T14:33:40.387646Z",
     "iopub.status.idle": "2022-07-02T14:33:40.579643Z",
     "shell.execute_reply": "2022-07-02T14:33:40.578172Z"
    },
    "papermill": {
     "duration": 0.222152,
     "end_time": "2022-07-02T14:33:40.582587",
     "exception": false,
     "start_time": "2022-07-02T14:33:40.360435",
     "status": "completed"
    },
    "scrolled": true,
    "tags": []
   },
   "outputs": [],
   "source": [
    "from datetime import datetime\n",
    "\n",
    "#날짜 피처 생성\n",
    "all_data['date'] = all_data['datetime'].apply(lambda x:x.split()[0])\n",
    "\n",
    "#연도 피처 생성\n",
    "all_data['year'] = all_data['datetime'].apply(lambda x:x.split()[0].split('-')[0])\n",
    "\n",
    "#월 피처 생성\n",
    "all_data['month'] = all_data['datetime'].apply(lambda x:x.split()[0].split('-')[1])\n",
    "\n",
    "#시 피처 생성\n",
    "all_data['hour'] = all_data['datetime'].apply(lambda x:x.split()[1].split(':')[0])\n",
    "\n",
    "#요일 피처 생성\n",
    "all_data['weekday'] = all_data['date'].apply(lambda dateString : datetime.strptime(dateString,\"%Y-%m-%d\").weekday())"
   ]
  },
  {
   "cell_type": "code",
   "execution_count": 36,
   "id": "6617da73",
   "metadata": {
    "execution": {
     "iopub.execute_input": "2022-07-02T14:33:40.648009Z",
     "iopub.status.busy": "2022-07-02T14:33:40.646973Z",
     "iopub.status.idle": "2022-07-02T14:33:40.667584Z",
     "shell.execute_reply": "2022-07-02T14:33:40.666533Z"
    },
    "papermill": {
     "duration": 0.054014,
     "end_time": "2022-07-02T14:33:40.670256",
     "exception": false,
     "start_time": "2022-07-02T14:33:40.616242",
     "status": "completed"
    },
    "tags": []
   },
   "outputs": [
    {
     "data": {
      "text/html": [
       "<div>\n",
       "<style scoped>\n",
       "    .dataframe tbody tr th:only-of-type {\n",
       "        vertical-align: middle;\n",
       "    }\n",
       "\n",
       "    .dataframe tbody tr th {\n",
       "        vertical-align: top;\n",
       "    }\n",
       "\n",
       "    .dataframe thead th {\n",
       "        text-align: right;\n",
       "    }\n",
       "</style>\n",
       "<table border=\"1\" class=\"dataframe\">\n",
       "  <thead>\n",
       "    <tr style=\"text-align: right;\">\n",
       "      <th></th>\n",
       "      <th>datetime</th>\n",
       "      <th>season</th>\n",
       "      <th>holiday</th>\n",
       "      <th>workingday</th>\n",
       "      <th>weather</th>\n",
       "      <th>temp</th>\n",
       "      <th>atemp</th>\n",
       "      <th>humidity</th>\n",
       "      <th>windspeed</th>\n",
       "      <th>casual</th>\n",
       "      <th>registered</th>\n",
       "      <th>count</th>\n",
       "      <th>date</th>\n",
       "      <th>year</th>\n",
       "      <th>month</th>\n",
       "      <th>hour</th>\n",
       "      <th>weekday</th>\n",
       "    </tr>\n",
       "  </thead>\n",
       "  <tbody>\n",
       "    <tr>\n",
       "      <th>0</th>\n",
       "      <td>2011-01-01 00:00:00</td>\n",
       "      <td>1</td>\n",
       "      <td>0</td>\n",
       "      <td>0</td>\n",
       "      <td>1</td>\n",
       "      <td>9.84</td>\n",
       "      <td>14.395</td>\n",
       "      <td>81</td>\n",
       "      <td>0.0</td>\n",
       "      <td>3.0</td>\n",
       "      <td>13.0</td>\n",
       "      <td>16.0</td>\n",
       "      <td>2011-01-01</td>\n",
       "      <td>2011</td>\n",
       "      <td>01</td>\n",
       "      <td>00</td>\n",
       "      <td>5</td>\n",
       "    </tr>\n",
       "    <tr>\n",
       "      <th>1</th>\n",
       "      <td>2011-01-01 01:00:00</td>\n",
       "      <td>1</td>\n",
       "      <td>0</td>\n",
       "      <td>0</td>\n",
       "      <td>1</td>\n",
       "      <td>9.02</td>\n",
       "      <td>13.635</td>\n",
       "      <td>80</td>\n",
       "      <td>0.0</td>\n",
       "      <td>8.0</td>\n",
       "      <td>32.0</td>\n",
       "      <td>40.0</td>\n",
       "      <td>2011-01-01</td>\n",
       "      <td>2011</td>\n",
       "      <td>01</td>\n",
       "      <td>01</td>\n",
       "      <td>5</td>\n",
       "    </tr>\n",
       "    <tr>\n",
       "      <th>2</th>\n",
       "      <td>2011-01-01 02:00:00</td>\n",
       "      <td>1</td>\n",
       "      <td>0</td>\n",
       "      <td>0</td>\n",
       "      <td>1</td>\n",
       "      <td>9.02</td>\n",
       "      <td>13.635</td>\n",
       "      <td>80</td>\n",
       "      <td>0.0</td>\n",
       "      <td>5.0</td>\n",
       "      <td>27.0</td>\n",
       "      <td>32.0</td>\n",
       "      <td>2011-01-01</td>\n",
       "      <td>2011</td>\n",
       "      <td>01</td>\n",
       "      <td>02</td>\n",
       "      <td>5</td>\n",
       "    </tr>\n",
       "    <tr>\n",
       "      <th>3</th>\n",
       "      <td>2011-01-01 03:00:00</td>\n",
       "      <td>1</td>\n",
       "      <td>0</td>\n",
       "      <td>0</td>\n",
       "      <td>1</td>\n",
       "      <td>9.84</td>\n",
       "      <td>14.395</td>\n",
       "      <td>75</td>\n",
       "      <td>0.0</td>\n",
       "      <td>3.0</td>\n",
       "      <td>10.0</td>\n",
       "      <td>13.0</td>\n",
       "      <td>2011-01-01</td>\n",
       "      <td>2011</td>\n",
       "      <td>01</td>\n",
       "      <td>03</td>\n",
       "      <td>5</td>\n",
       "    </tr>\n",
       "    <tr>\n",
       "      <th>4</th>\n",
       "      <td>2011-01-01 04:00:00</td>\n",
       "      <td>1</td>\n",
       "      <td>0</td>\n",
       "      <td>0</td>\n",
       "      <td>1</td>\n",
       "      <td>9.84</td>\n",
       "      <td>14.395</td>\n",
       "      <td>75</td>\n",
       "      <td>0.0</td>\n",
       "      <td>0.0</td>\n",
       "      <td>1.0</td>\n",
       "      <td>1.0</td>\n",
       "      <td>2011-01-01</td>\n",
       "      <td>2011</td>\n",
       "      <td>01</td>\n",
       "      <td>04</td>\n",
       "      <td>5</td>\n",
       "    </tr>\n",
       "  </tbody>\n",
       "</table>\n",
       "</div>"
      ],
      "text/plain": [
       "              datetime  season  holiday  workingday  weather  temp   atemp  \\\n",
       "0  2011-01-01 00:00:00       1        0           0        1  9.84  14.395   \n",
       "1  2011-01-01 01:00:00       1        0           0        1  9.02  13.635   \n",
       "2  2011-01-01 02:00:00       1        0           0        1  9.02  13.635   \n",
       "3  2011-01-01 03:00:00       1        0           0        1  9.84  14.395   \n",
       "4  2011-01-01 04:00:00       1        0           0        1  9.84  14.395   \n",
       "\n",
       "   humidity  windspeed  casual  registered  count        date  year month  \\\n",
       "0        81        0.0     3.0        13.0   16.0  2011-01-01  2011    01   \n",
       "1        80        0.0     8.0        32.0   40.0  2011-01-01  2011    01   \n",
       "2        80        0.0     5.0        27.0   32.0  2011-01-01  2011    01   \n",
       "3        75        0.0     3.0        10.0   13.0  2011-01-01  2011    01   \n",
       "4        75        0.0     0.0         1.0    1.0  2011-01-01  2011    01   \n",
       "\n",
       "  hour  weekday  \n",
       "0   00        5  \n",
       "1   01        5  \n",
       "2   02        5  \n",
       "3   03        5  \n",
       "4   04        5  "
      ]
     },
     "execution_count": 36,
     "metadata": {},
     "output_type": "execute_result"
    }
   ],
   "source": [
    "all_data.head()"
   ]
  },
  {
   "cell_type": "markdown",
   "id": "326ab1d2",
   "metadata": {
    "papermill": {
     "duration": 0.025979,
     "end_time": "2022-07-02T14:33:40.724542",
     "exception": false,
     "start_time": "2022-07-02T14:33:40.698563",
     "status": "completed"
    },
    "tags": []
   },
   "source": [
    "### 훈련 데이터는 매달 1일부터 19일까지의 기록이고, 테스트 데이터는 매달 20일부터 월말까지의 기록임\n",
    "### 그러므로 대여 수량을 예측할 때 일(day) 피처는 사용 할 필요가 없음, minute와 second 피처도 모든 기록에서 값이 같으므로 예측에 사용 할 필요가 없음\n",
    "### 그래서 day, minute, second는 피처로 생성하지 않았음"
   ]
  },
  {
   "cell_type": "markdown",
   "id": "4ea5a4e0",
   "metadata": {
    "papermill": {
     "duration": 0.064853,
     "end_time": "2022-07-02T14:33:40.819711",
     "exception": false,
     "start_time": "2022-07-02T14:33:40.754858",
     "status": "completed"
    },
    "tags": []
   },
   "source": [
    "## 필요 없는 피처 제거\n",
    "#### casual과 registered 피처는 테스트 데이터에 없는 피처이므로 제거\n",
    "#### datetime 피처는 인덱스 역할이고, date 피처가 갖는 정보는 다른 피처들(year, month, day)에도 담겨 있기 때문에 datetime과 date 피처도 필요 없음\n",
    "#### season 피처가 month의 대분류 성격이라서 month 피처도 제거 windspeed도 타깃값과 상관관계가 약해서 제거"
   ]
  },
  {
   "cell_type": "code",
   "execution_count": 37,
   "id": "01771d06",
   "metadata": {
    "execution": {
     "iopub.execute_input": "2022-07-02T14:33:40.877063Z",
     "iopub.status.busy": "2022-07-02T14:33:40.876701Z",
     "iopub.status.idle": "2022-07-02T14:33:40.886892Z",
     "shell.execute_reply": "2022-07-02T14:33:40.885983Z"
    },
    "papermill": {
     "duration": 0.042163,
     "end_time": "2022-07-02T14:33:40.890109",
     "exception": false,
     "start_time": "2022-07-02T14:33:40.847946",
     "status": "completed"
    },
    "tags": []
   },
   "outputs": [],
   "source": [
    "drop_features = ['casual','registered','datetime','date','windspeed','month']\n",
    "\n",
    "all_data = all_data.drop(drop_features, axis=1)"
   ]
  },
  {
   "cell_type": "markdown",
   "id": "460724f4",
   "metadata": {
    "papermill": {
     "duration": 0.030749,
     "end_time": "2022-07-02T14:33:40.961885",
     "exception": false,
     "start_time": "2022-07-02T14:33:40.931136",
     "status": "completed"
    },
    "tags": []
   },
   "source": [
    "### casual, registered, datetime, date, windspeed, month 피처 제거\n",
    "##### 필요없는 피처를 제거함으로써 모델링할 때 사용할 피처를 모두 선별했음 // 탐색적 데이터 분석에서 얻은 인사이트를 활용해 의미 있는 피처와 불필요한 피처를 구분\n",
    "##### 이러한 과정을 피처 선택이라 함\n",
    "\n",
    "#### 피처 선택이란 모델링시 데이터의 특징을 잘 나타내는 주요 피처만 선택하는 작업을 피처 선택이라고 함 // 피처 선택은 머신러닝 모델 성능에 큰 영향을 줌.\n",
    "#### 타깃값 예측과 관련 없는 피처가 많으면 오히려 예측 성능이 떨어짐 피처가 만다고 무조건 좋은건 아님 // 성능을 올리려면 관련있는 피처가 필요\n",
    "#### 피처 선택에는 정답이 없음 -> 어떤 피처를 선택해야 가장 좋을지 바로 알 방법은 없음 -> 탐색적 데이터 분석, 피처 중요도 -> 상관관계 매트릭스 등을 활용해 종합적으로 판단해야 함"
   ]
  },
  {
   "cell_type": "markdown",
   "id": "681e221c",
   "metadata": {
    "papermill": {
     "duration": 0.029842,
     "end_time": "2022-07-02T14:33:41.021785",
     "exception": false,
     "start_time": "2022-07-02T14:33:40.991943",
     "status": "completed"
    },
    "tags": []
   },
   "source": [
    "## 데이터 나누기\n",
    "#### 모든 피처 엔지니어링을 적용했으므로 훈련 데이터와 테스트 데이터를 다시 나눔"
   ]
  },
  {
   "cell_type": "code",
   "execution_count": 38,
   "id": "69312a2d",
   "metadata": {
    "execution": {
     "iopub.execute_input": "2022-07-02T14:33:41.087659Z",
     "iopub.status.busy": "2022-07-02T14:33:41.086810Z",
     "iopub.status.idle": "2022-07-02T14:33:41.096772Z",
     "shell.execute_reply": "2022-07-02T14:33:41.095767Z"
    },
    "papermill": {
     "duration": 0.046368,
     "end_time": "2022-07-02T14:33:41.099389",
     "exception": false,
     "start_time": "2022-07-02T14:33:41.053021",
     "status": "completed"
    },
    "tags": []
   },
   "outputs": [],
   "source": [
    "# 훈련 데이터와 테스트 데이터 나누기\n",
    "X_train = all_data[~pd.isnull(all_data['count'])]\n",
    "X_test = all_data[pd.isnull(all_data['count'])]"
   ]
  },
  {
   "cell_type": "code",
   "execution_count": 39,
   "id": "0ad169d0",
   "metadata": {
    "execution": {
     "iopub.execute_input": "2022-07-02T14:33:41.162782Z",
     "iopub.status.busy": "2022-07-02T14:33:41.162346Z",
     "iopub.status.idle": "2022-07-02T14:33:41.173645Z",
     "shell.execute_reply": "2022-07-02T14:33:41.172417Z"
    },
    "papermill": {
     "duration": 0.046367,
     "end_time": "2022-07-02T14:33:41.176021",
     "exception": false,
     "start_time": "2022-07-02T14:33:41.129654",
     "status": "completed"
    },
    "tags": []
   },
   "outputs": [],
   "source": [
    "# 타깃값 count 제거\n",
    "X_train = X_train.drop(['count'], axis = 1)\n",
    "X_test = X_test.drop(['count'], axis = 1)\n",
    "\n",
    "y = train['count'] # 타깃값"
   ]
  },
  {
   "cell_type": "code",
   "execution_count": 40,
   "id": "0950db26",
   "metadata": {
    "execution": {
     "iopub.execute_input": "2022-07-02T14:33:41.239274Z",
     "iopub.status.busy": "2022-07-02T14:33:41.238412Z",
     "iopub.status.idle": "2022-07-02T14:33:41.257908Z",
     "shell.execute_reply": "2022-07-02T14:33:41.256324Z"
    },
    "papermill": {
     "duration": 0.053887,
     "end_time": "2022-07-02T14:33:41.260633",
     "exception": false,
     "start_time": "2022-07-02T14:33:41.206746",
     "status": "completed"
    },
    "tags": []
   },
   "outputs": [
    {
     "data": {
      "text/html": [
       "<div>\n",
       "<style scoped>\n",
       "    .dataframe tbody tr th:only-of-type {\n",
       "        vertical-align: middle;\n",
       "    }\n",
       "\n",
       "    .dataframe tbody tr th {\n",
       "        vertical-align: top;\n",
       "    }\n",
       "\n",
       "    .dataframe thead th {\n",
       "        text-align: right;\n",
       "    }\n",
       "</style>\n",
       "<table border=\"1\" class=\"dataframe\">\n",
       "  <thead>\n",
       "    <tr style=\"text-align: right;\">\n",
       "      <th></th>\n",
       "      <th>season</th>\n",
       "      <th>holiday</th>\n",
       "      <th>workingday</th>\n",
       "      <th>weather</th>\n",
       "      <th>temp</th>\n",
       "      <th>atemp</th>\n",
       "      <th>humidity</th>\n",
       "      <th>year</th>\n",
       "      <th>hour</th>\n",
       "      <th>weekday</th>\n",
       "    </tr>\n",
       "  </thead>\n",
       "  <tbody>\n",
       "    <tr>\n",
       "      <th>0</th>\n",
       "      <td>1</td>\n",
       "      <td>0</td>\n",
       "      <td>0</td>\n",
       "      <td>1</td>\n",
       "      <td>9.84</td>\n",
       "      <td>14.395</td>\n",
       "      <td>81</td>\n",
       "      <td>2011</td>\n",
       "      <td>00</td>\n",
       "      <td>5</td>\n",
       "    </tr>\n",
       "    <tr>\n",
       "      <th>1</th>\n",
       "      <td>1</td>\n",
       "      <td>0</td>\n",
       "      <td>0</td>\n",
       "      <td>1</td>\n",
       "      <td>9.02</td>\n",
       "      <td>13.635</td>\n",
       "      <td>80</td>\n",
       "      <td>2011</td>\n",
       "      <td>01</td>\n",
       "      <td>5</td>\n",
       "    </tr>\n",
       "    <tr>\n",
       "      <th>2</th>\n",
       "      <td>1</td>\n",
       "      <td>0</td>\n",
       "      <td>0</td>\n",
       "      <td>1</td>\n",
       "      <td>9.02</td>\n",
       "      <td>13.635</td>\n",
       "      <td>80</td>\n",
       "      <td>2011</td>\n",
       "      <td>02</td>\n",
       "      <td>5</td>\n",
       "    </tr>\n",
       "    <tr>\n",
       "      <th>3</th>\n",
       "      <td>1</td>\n",
       "      <td>0</td>\n",
       "      <td>0</td>\n",
       "      <td>1</td>\n",
       "      <td>9.84</td>\n",
       "      <td>14.395</td>\n",
       "      <td>75</td>\n",
       "      <td>2011</td>\n",
       "      <td>03</td>\n",
       "      <td>5</td>\n",
       "    </tr>\n",
       "    <tr>\n",
       "      <th>4</th>\n",
       "      <td>1</td>\n",
       "      <td>0</td>\n",
       "      <td>0</td>\n",
       "      <td>1</td>\n",
       "      <td>9.84</td>\n",
       "      <td>14.395</td>\n",
       "      <td>75</td>\n",
       "      <td>2011</td>\n",
       "      <td>04</td>\n",
       "      <td>5</td>\n",
       "    </tr>\n",
       "  </tbody>\n",
       "</table>\n",
       "</div>"
      ],
      "text/plain": [
       "   season  holiday  workingday  weather  temp   atemp  humidity  year hour  \\\n",
       "0       1        0           0        1  9.84  14.395        81  2011   00   \n",
       "1       1        0           0        1  9.02  13.635        80  2011   01   \n",
       "2       1        0           0        1  9.02  13.635        80  2011   02   \n",
       "3       1        0           0        1  9.84  14.395        75  2011   03   \n",
       "4       1        0           0        1  9.84  14.395        75  2011   04   \n",
       "\n",
       "   weekday  \n",
       "0        5  \n",
       "1        5  \n",
       "2        5  \n",
       "3        5  \n",
       "4        5  "
      ]
     },
     "execution_count": 40,
     "metadata": {},
     "output_type": "execute_result"
    }
   ],
   "source": [
    "X_train.head()"
   ]
  },
  {
   "cell_type": "markdown",
   "id": "163a055b",
   "metadata": {
    "papermill": {
     "duration": 0.031223,
     "end_time": "2022-07-02T14:33:41.322899",
     "exception": false,
     "start_time": "2022-07-02T14:33:41.291676",
     "status": "completed"
    },
    "tags": []
   },
   "source": [
    "## 평가지표 계산 함수 작성(RMSLE)"
   ]
  },
  {
   "cell_type": "code",
   "execution_count": 41,
   "id": "5799c6d4",
   "metadata": {
    "execution": {
     "iopub.execute_input": "2022-07-02T14:33:41.387135Z",
     "iopub.status.busy": "2022-07-02T14:33:41.386243Z",
     "iopub.status.idle": "2022-07-02T14:33:41.394563Z",
     "shell.execute_reply": "2022-07-02T14:33:41.393665Z"
    },
    "papermill": {
     "duration": 0.042743,
     "end_time": "2022-07-02T14:33:41.396647",
     "exception": false,
     "start_time": "2022-07-02T14:33:41.353904",
     "status": "completed"
    },
    "tags": []
   },
   "outputs": [],
   "source": [
    "import numpy as np\n",
    "\n",
    "def rmsle(y_true, y_pred, convertExp = True):\n",
    "    # 지수변환\n",
    "    if convertExp:\n",
    "        y_true = np.exp(y_true)\n",
    "        y_pred = np.exp(y_pred)\n",
    "        \n",
    "    # 로그변환 후 결측값을 0으로 변환\n",
    "    log_true = np.nan_to_num(np.log(y_true+1))\n",
    "    log_pred = np.nan_to_num(np.log(y_pred+1))\n",
    "    \n",
    "    #RMSLE 계산\n",
    "    output = np.sqrt(np.mean((log_true - log_pred)**2))\n",
    "    return output"
   ]
  },
  {
   "cell_type": "markdown",
   "id": "961c6917",
   "metadata": {
    "papermill": {
     "duration": 0.031817,
     "end_time": "2022-07-02T14:33:41.458774",
     "exception": false,
     "start_time": "2022-07-02T14:33:41.426957",
     "status": "completed"
    },
    "tags": []
   },
   "source": [
    "## 모델 훈련(LinearRegression)"
   ]
  },
  {
   "cell_type": "code",
   "execution_count": 42,
   "id": "8102e8b2",
   "metadata": {
    "execution": {
     "iopub.execute_input": "2022-07-02T14:33:41.522389Z",
     "iopub.status.busy": "2022-07-02T14:33:41.521945Z",
     "iopub.status.idle": "2022-07-02T14:33:42.067999Z",
     "shell.execute_reply": "2022-07-02T14:33:42.065185Z"
    },
    "papermill": {
     "duration": 0.582327,
     "end_time": "2022-07-02T14:33:42.072857",
     "exception": false,
     "start_time": "2022-07-02T14:33:41.490530",
     "status": "completed"
    },
    "tags": []
   },
   "outputs": [
    {
     "data": {
      "text/plain": [
       "LinearRegression()"
      ]
     },
     "execution_count": 42,
     "metadata": {},
     "output_type": "execute_result"
    }
   ],
   "source": [
    "from sklearn.linear_model import LinearRegression\n",
    "\n",
    "lr = LinearRegression()\n",
    "\n",
    "log_y = np.log(y) # 타깃값 로그변환\n",
    "lr.fit(X_train, log_y) # 모델 훈련"
   ]
  },
  {
   "cell_type": "markdown",
   "id": "2b28cf9a",
   "metadata": {
    "papermill": {
     "duration": 0.047482,
     "end_time": "2022-07-02T14:33:42.183477",
     "exception": false,
     "start_time": "2022-07-02T14:33:42.135995",
     "status": "completed"
    },
    "tags": []
   },
   "source": [
    "## 모델 성능 검증"
   ]
  },
  {
   "cell_type": "code",
   "execution_count": 43,
   "id": "ccc61734",
   "metadata": {
    "execution": {
     "iopub.execute_input": "2022-07-02T14:33:42.239197Z",
     "iopub.status.busy": "2022-07-02T14:33:42.238813Z",
     "iopub.status.idle": "2022-07-02T14:33:42.256384Z",
     "shell.execute_reply": "2022-07-02T14:33:42.255162Z"
    },
    "papermill": {
     "duration": 0.049921,
     "end_time": "2022-07-02T14:33:42.259924",
     "exception": false,
     "start_time": "2022-07-02T14:33:42.210003",
     "status": "completed"
    },
    "tags": []
   },
   "outputs": [],
   "source": [
    "preds = lr.predict(X_train)"
   ]
  },
  {
   "cell_type": "code",
   "execution_count": 44,
   "id": "4ca185b5",
   "metadata": {
    "execution": {
     "iopub.execute_input": "2022-07-02T14:33:42.375863Z",
     "iopub.status.busy": "2022-07-02T14:33:42.375485Z",
     "iopub.status.idle": "2022-07-02T14:33:42.384781Z",
     "shell.execute_reply": "2022-07-02T14:33:42.383455Z"
    },
    "papermill": {
     "duration": 0.071997,
     "end_time": "2022-07-02T14:33:42.388152",
     "exception": false,
     "start_time": "2022-07-02T14:33:42.316155",
     "status": "completed"
    },
    "tags": []
   },
   "outputs": [
    {
     "name": "stdout",
     "output_type": "stream",
     "text": [
      "선형 회귀의 rmsle의 값 : 1.0205\n"
     ]
    }
   ],
   "source": [
    "print('선형 회귀의 rmsle의 값 : {}'.format(round(rmsle(log_y, preds, True),4)))"
   ]
  },
  {
   "cell_type": "markdown",
   "id": "487bb012",
   "metadata": {
    "papermill": {
     "duration": 0.028087,
     "end_time": "2022-07-02T14:33:42.446211",
     "exception": false,
     "start_time": "2022-07-02T14:33:42.418124",
     "status": "completed"
    },
    "tags": []
   },
   "source": [
    "## 예측 및 결과 제출"
   ]
  },
  {
   "cell_type": "code",
   "execution_count": 45,
   "id": "cdf32666",
   "metadata": {
    "execution": {
     "iopub.execute_input": "2022-07-02T14:33:42.509524Z",
     "iopub.status.busy": "2022-07-02T14:33:42.508278Z",
     "iopub.status.idle": "2022-07-02T14:33:42.567893Z",
     "shell.execute_reply": "2022-07-02T14:33:42.566417Z"
    },
    "papermill": {
     "duration": 0.099398,
     "end_time": "2022-07-02T14:33:42.574194",
     "exception": false,
     "start_time": "2022-07-02T14:33:42.474796",
     "status": "completed"
    },
    "tags": []
   },
   "outputs": [],
   "source": [
    "lr_preds = lr.predict(X_test) # 테스트 데이터로 예측\n",
    "\n",
    "submission['count'] = np.exp(lr_preds) # 지수 변환\n",
    "submission.to_csv('submission.csv',index = False) # 파일로 저장"
   ]
  },
  {
   "cell_type": "code",
   "execution_count": null,
   "id": "cfcd27c4",
   "metadata": {
    "papermill": {
     "duration": 0.032848,
     "end_time": "2022-07-02T14:33:42.665555",
     "exception": false,
     "start_time": "2022-07-02T14:33:42.632707",
     "status": "completed"
    },
    "tags": []
   },
   "outputs": [],
   "source": []
  },
  {
   "cell_type": "code",
   "execution_count": null,
   "id": "80bdfa2d",
   "metadata": {
    "papermill": {
     "duration": 0.026487,
     "end_time": "2022-07-02T14:33:42.719156",
     "exception": false,
     "start_time": "2022-07-02T14:33:42.692669",
     "status": "completed"
    },
    "tags": []
   },
   "outputs": [],
   "source": []
  },
  {
   "cell_type": "code",
   "execution_count": null,
   "id": "aec09949",
   "metadata": {
    "papermill": {
     "duration": 0.026181,
     "end_time": "2022-07-02T14:33:42.771521",
     "exception": false,
     "start_time": "2022-07-02T14:33:42.745340",
     "status": "completed"
    },
    "tags": []
   },
   "outputs": [],
   "source": []
  },
  {
   "cell_type": "code",
   "execution_count": null,
   "id": "ffa94b34",
   "metadata": {
    "papermill": {
     "duration": 0.026654,
     "end_time": "2022-07-02T14:33:42.824298",
     "exception": false,
     "start_time": "2022-07-02T14:33:42.797644",
     "status": "completed"
    },
    "tags": []
   },
   "outputs": [],
   "source": []
  },
  {
   "cell_type": "code",
   "execution_count": null,
   "id": "bf382563",
   "metadata": {
    "papermill": {
     "duration": 0.026146,
     "end_time": "2022-07-02T14:33:42.876974",
     "exception": false,
     "start_time": "2022-07-02T14:33:42.850828",
     "status": "completed"
    },
    "tags": []
   },
   "outputs": [],
   "source": []
  },
  {
   "cell_type": "code",
   "execution_count": null,
   "id": "72d0349f",
   "metadata": {
    "papermill": {
     "duration": 0.027011,
     "end_time": "2022-07-02T14:33:42.930906",
     "exception": false,
     "start_time": "2022-07-02T14:33:42.903895",
     "status": "completed"
    },
    "tags": []
   },
   "outputs": [],
   "source": []
  },
  {
   "cell_type": "code",
   "execution_count": null,
   "id": "31c93913",
   "metadata": {
    "papermill": {
     "duration": 0.029134,
     "end_time": "2022-07-02T14:33:42.987969",
     "exception": false,
     "start_time": "2022-07-02T14:33:42.958835",
     "status": "completed"
    },
    "tags": []
   },
   "outputs": [],
   "source": []
  },
  {
   "cell_type": "code",
   "execution_count": null,
   "id": "91fd79d3",
   "metadata": {
    "papermill": {
     "duration": 0.027511,
     "end_time": "2022-07-02T14:33:43.043695",
     "exception": false,
     "start_time": "2022-07-02T14:33:43.016184",
     "status": "completed"
    },
    "tags": []
   },
   "outputs": [],
   "source": []
  }
 ],
 "metadata": {
  "kernelspec": {
   "display_name": "Python 3",
   "language": "python",
   "name": "python3"
  },
  "language_info": {
   "codemirror_mode": {
    "name": "ipython",
    "version": 3
   },
   "file_extension": ".py",
   "mimetype": "text/x-python",
   "name": "python",
   "nbconvert_exporter": "python",
   "pygments_lexer": "ipython3",
   "version": "3.7.12"
  },
  "papermill": {
   "default_parameters": {},
   "duration": 44.046688,
   "end_time": "2022-07-02T14:33:43.793479",
   "environment_variables": {},
   "exception": null,
   "input_path": "__notebook__.ipynb",
   "output_path": "__notebook__.ipynb",
   "parameters": {},
   "start_time": "2022-07-02T14:32:59.746791",
   "version": "2.3.4"
  }
 },
 "nbformat": 4,
 "nbformat_minor": 5
}
