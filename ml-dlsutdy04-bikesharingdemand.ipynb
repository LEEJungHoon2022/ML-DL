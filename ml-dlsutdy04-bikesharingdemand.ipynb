{
 "cells": [
  {
   "cell_type": "code",
   "execution_count": 1,
   "id": "a319fbf7",
   "metadata": {
    "_cell_guid": "b1076dfc-b9ad-4769-8c92-a6c4dae69d19",
    "_uuid": "8f2839f25d086af736a60e9eeb907d3b93b6e0e5",
    "execution": {
     "iopub.execute_input": "2022-07-04T16:01:26.516915Z",
     "iopub.status.busy": "2022-07-04T16:01:26.516436Z",
     "iopub.status.idle": "2022-07-04T16:01:26.532767Z",
     "shell.execute_reply": "2022-07-04T16:01:26.531392Z"
    },
    "papermill": {
     "duration": 0.054635,
     "end_time": "2022-07-04T16:01:26.536729",
     "exception": false,
     "start_time": "2022-07-04T16:01:26.482094",
     "status": "completed"
    },
    "tags": []
   },
   "outputs": [
    {
     "name": "stdout",
     "output_type": "stream",
     "text": [
      "/kaggle/input/bike-sharing-demand/sampleSubmission.csv\n",
      "/kaggle/input/bike-sharing-demand/train.csv\n",
      "/kaggle/input/bike-sharing-demand/test.csv\n"
     ]
    }
   ],
   "source": [
    "# This Python 3 environment comes with many helpful analytics libraries installed\n",
    "# It is defined by the kaggle/python Docker image: https://github.com/kaggle/docker-python\n",
    "# For example, here's several helpful packages to load\n",
    "\n",
    "import numpy as np # linear algebra\n",
    "import pandas as pd # data processing, CSV file I/O (e.g. pd.read_csv)\n",
    "\n",
    "# Input data files are available in the read-only \"../input/\" directory\n",
    "# For example, running this (by clicking run or pressing Shift+Enter) will list all files under the input directory\n",
    "\n",
    "import os\n",
    "for dirname, _, filenames in os.walk('/kaggle/input'):\n",
    "    for filename in filenames:\n",
    "        print(os.path.join(dirname, filename))\n",
    "\n",
    "# You can write up to 20GB to the current directory (/kaggle/working/) that gets preserved as output when you create a version using \"Save & Run All\" \n",
    "# You can also write temporary files to /kaggle/temp/, but they won't be saved outside of the current session"
   ]
  },
  {
   "cell_type": "markdown",
   "id": "3d78da4c",
   "metadata": {
    "papermill": {
     "duration": 0.031039,
     "end_time": "2022-07-04T16:01:26.599618",
     "exception": false,
     "start_time": "2022-07-04T16:01:26.568579",
     "status": "completed"
    },
    "tags": []
   },
   "source": [
    "## 데이터 둘러보기"
   ]
  },
  {
   "cell_type": "code",
   "execution_count": 2,
   "id": "8db65231",
   "metadata": {
    "execution": {
     "iopub.execute_input": "2022-07-04T16:01:26.665438Z",
     "iopub.status.busy": "2022-07-04T16:01:26.664973Z",
     "iopub.status.idle": "2022-07-04T16:01:26.736899Z",
     "shell.execute_reply": "2022-07-04T16:01:26.735740Z"
    },
    "papermill": {
     "duration": 0.107662,
     "end_time": "2022-07-04T16:01:26.739474",
     "exception": false,
     "start_time": "2022-07-04T16:01:26.631812",
     "status": "completed"
    },
    "tags": []
   },
   "outputs": [],
   "source": [
    "import numpy as np\n",
    "import pandas as pd\n",
    "\n",
    "data_path = '/kaggle/input/bike-sharing-demand/'\n",
    "\n",
    "train = pd.read_csv(data_path + 'train.csv')\n",
    "test = pd.read_csv(data_path + 'test.csv')\n",
    "submission = pd.read_csv(data_path + 'sampleSubmission.csv')"
   ]
  },
  {
   "cell_type": "code",
   "execution_count": 3,
   "id": "579c084c",
   "metadata": {
    "execution": {
     "iopub.execute_input": "2022-07-04T16:01:26.808269Z",
     "iopub.status.busy": "2022-07-04T16:01:26.807766Z",
     "iopub.status.idle": "2022-07-04T16:01:26.818730Z",
     "shell.execute_reply": "2022-07-04T16:01:26.817624Z"
    },
    "papermill": {
     "duration": 0.050082,
     "end_time": "2022-07-04T16:01:26.821053",
     "exception": false,
     "start_time": "2022-07-04T16:01:26.770971",
     "status": "completed"
    },
    "tags": []
   },
   "outputs": [
    {
     "data": {
      "text/plain": [
       "((10886, 12), (6493, 9))"
      ]
     },
     "execution_count": 3,
     "metadata": {},
     "output_type": "execute_result"
    }
   ],
   "source": [
    "train.shape, test.shape"
   ]
  },
  {
   "cell_type": "code",
   "execution_count": 4,
   "id": "aae4468c",
   "metadata": {
    "execution": {
     "iopub.execute_input": "2022-07-04T16:01:26.885900Z",
     "iopub.status.busy": "2022-07-04T16:01:26.885084Z",
     "iopub.status.idle": "2022-07-04T16:01:26.910072Z",
     "shell.execute_reply": "2022-07-04T16:01:26.908887Z"
    },
    "papermill": {
     "duration": 0.061254,
     "end_time": "2022-07-04T16:01:26.913271",
     "exception": false,
     "start_time": "2022-07-04T16:01:26.852017",
     "status": "completed"
    },
    "tags": []
   },
   "outputs": [
    {
     "data": {
      "text/html": [
       "<div>\n",
       "<style scoped>\n",
       "    .dataframe tbody tr th:only-of-type {\n",
       "        vertical-align: middle;\n",
       "    }\n",
       "\n",
       "    .dataframe tbody tr th {\n",
       "        vertical-align: top;\n",
       "    }\n",
       "\n",
       "    .dataframe thead th {\n",
       "        text-align: right;\n",
       "    }\n",
       "</style>\n",
       "<table border=\"1\" class=\"dataframe\">\n",
       "  <thead>\n",
       "    <tr style=\"text-align: right;\">\n",
       "      <th></th>\n",
       "      <th>datetime</th>\n",
       "      <th>season</th>\n",
       "      <th>holiday</th>\n",
       "      <th>workingday</th>\n",
       "      <th>weather</th>\n",
       "      <th>temp</th>\n",
       "      <th>atemp</th>\n",
       "      <th>humidity</th>\n",
       "      <th>windspeed</th>\n",
       "      <th>casual</th>\n",
       "      <th>registered</th>\n",
       "      <th>count</th>\n",
       "    </tr>\n",
       "  </thead>\n",
       "  <tbody>\n",
       "    <tr>\n",
       "      <th>0</th>\n",
       "      <td>2011-01-01 00:00:00</td>\n",
       "      <td>1</td>\n",
       "      <td>0</td>\n",
       "      <td>0</td>\n",
       "      <td>1</td>\n",
       "      <td>9.84</td>\n",
       "      <td>14.395</td>\n",
       "      <td>81</td>\n",
       "      <td>0.0</td>\n",
       "      <td>3</td>\n",
       "      <td>13</td>\n",
       "      <td>16</td>\n",
       "    </tr>\n",
       "    <tr>\n",
       "      <th>1</th>\n",
       "      <td>2011-01-01 01:00:00</td>\n",
       "      <td>1</td>\n",
       "      <td>0</td>\n",
       "      <td>0</td>\n",
       "      <td>1</td>\n",
       "      <td>9.02</td>\n",
       "      <td>13.635</td>\n",
       "      <td>80</td>\n",
       "      <td>0.0</td>\n",
       "      <td>8</td>\n",
       "      <td>32</td>\n",
       "      <td>40</td>\n",
       "    </tr>\n",
       "    <tr>\n",
       "      <th>2</th>\n",
       "      <td>2011-01-01 02:00:00</td>\n",
       "      <td>1</td>\n",
       "      <td>0</td>\n",
       "      <td>0</td>\n",
       "      <td>1</td>\n",
       "      <td>9.02</td>\n",
       "      <td>13.635</td>\n",
       "      <td>80</td>\n",
       "      <td>0.0</td>\n",
       "      <td>5</td>\n",
       "      <td>27</td>\n",
       "      <td>32</td>\n",
       "    </tr>\n",
       "    <tr>\n",
       "      <th>3</th>\n",
       "      <td>2011-01-01 03:00:00</td>\n",
       "      <td>1</td>\n",
       "      <td>0</td>\n",
       "      <td>0</td>\n",
       "      <td>1</td>\n",
       "      <td>9.84</td>\n",
       "      <td>14.395</td>\n",
       "      <td>75</td>\n",
       "      <td>0.0</td>\n",
       "      <td>3</td>\n",
       "      <td>10</td>\n",
       "      <td>13</td>\n",
       "    </tr>\n",
       "    <tr>\n",
       "      <th>4</th>\n",
       "      <td>2011-01-01 04:00:00</td>\n",
       "      <td>1</td>\n",
       "      <td>0</td>\n",
       "      <td>0</td>\n",
       "      <td>1</td>\n",
       "      <td>9.84</td>\n",
       "      <td>14.395</td>\n",
       "      <td>75</td>\n",
       "      <td>0.0</td>\n",
       "      <td>0</td>\n",
       "      <td>1</td>\n",
       "      <td>1</td>\n",
       "    </tr>\n",
       "  </tbody>\n",
       "</table>\n",
       "</div>"
      ],
      "text/plain": [
       "              datetime  season  holiday  workingday  weather  temp   atemp  \\\n",
       "0  2011-01-01 00:00:00       1        0           0        1  9.84  14.395   \n",
       "1  2011-01-01 01:00:00       1        0           0        1  9.02  13.635   \n",
       "2  2011-01-01 02:00:00       1        0           0        1  9.02  13.635   \n",
       "3  2011-01-01 03:00:00       1        0           0        1  9.84  14.395   \n",
       "4  2011-01-01 04:00:00       1        0           0        1  9.84  14.395   \n",
       "\n",
       "   humidity  windspeed  casual  registered  count  \n",
       "0        81        0.0       3          13     16  \n",
       "1        80        0.0       8          32     40  \n",
       "2        80        0.0       5          27     32  \n",
       "3        75        0.0       3          10     13  \n",
       "4        75        0.0       0           1      1  "
      ]
     },
     "execution_count": 4,
     "metadata": {},
     "output_type": "execute_result"
    }
   ],
   "source": [
    "train.head()"
   ]
  },
  {
   "cell_type": "code",
   "execution_count": 5,
   "id": "c55a7331",
   "metadata": {
    "execution": {
     "iopub.execute_input": "2022-07-04T16:01:26.980143Z",
     "iopub.status.busy": "2022-07-04T16:01:26.979323Z",
     "iopub.status.idle": "2022-07-04T16:01:26.994781Z",
     "shell.execute_reply": "2022-07-04T16:01:26.993484Z"
    },
    "papermill": {
     "duration": 0.051501,
     "end_time": "2022-07-04T16:01:26.997478",
     "exception": false,
     "start_time": "2022-07-04T16:01:26.945977",
     "status": "completed"
    },
    "tags": []
   },
   "outputs": [
    {
     "data": {
      "text/html": [
       "<div>\n",
       "<style scoped>\n",
       "    .dataframe tbody tr th:only-of-type {\n",
       "        vertical-align: middle;\n",
       "    }\n",
       "\n",
       "    .dataframe tbody tr th {\n",
       "        vertical-align: top;\n",
       "    }\n",
       "\n",
       "    .dataframe thead th {\n",
       "        text-align: right;\n",
       "    }\n",
       "</style>\n",
       "<table border=\"1\" class=\"dataframe\">\n",
       "  <thead>\n",
       "    <tr style=\"text-align: right;\">\n",
       "      <th></th>\n",
       "      <th>datetime</th>\n",
       "      <th>season</th>\n",
       "      <th>holiday</th>\n",
       "      <th>workingday</th>\n",
       "      <th>weather</th>\n",
       "      <th>temp</th>\n",
       "      <th>atemp</th>\n",
       "      <th>humidity</th>\n",
       "      <th>windspeed</th>\n",
       "    </tr>\n",
       "  </thead>\n",
       "  <tbody>\n",
       "    <tr>\n",
       "      <th>0</th>\n",
       "      <td>2011-01-20 00:00:00</td>\n",
       "      <td>1</td>\n",
       "      <td>0</td>\n",
       "      <td>1</td>\n",
       "      <td>1</td>\n",
       "      <td>10.66</td>\n",
       "      <td>11.365</td>\n",
       "      <td>56</td>\n",
       "      <td>26.0027</td>\n",
       "    </tr>\n",
       "    <tr>\n",
       "      <th>1</th>\n",
       "      <td>2011-01-20 01:00:00</td>\n",
       "      <td>1</td>\n",
       "      <td>0</td>\n",
       "      <td>1</td>\n",
       "      <td>1</td>\n",
       "      <td>10.66</td>\n",
       "      <td>13.635</td>\n",
       "      <td>56</td>\n",
       "      <td>0.0000</td>\n",
       "    </tr>\n",
       "    <tr>\n",
       "      <th>2</th>\n",
       "      <td>2011-01-20 02:00:00</td>\n",
       "      <td>1</td>\n",
       "      <td>0</td>\n",
       "      <td>1</td>\n",
       "      <td>1</td>\n",
       "      <td>10.66</td>\n",
       "      <td>13.635</td>\n",
       "      <td>56</td>\n",
       "      <td>0.0000</td>\n",
       "    </tr>\n",
       "    <tr>\n",
       "      <th>3</th>\n",
       "      <td>2011-01-20 03:00:00</td>\n",
       "      <td>1</td>\n",
       "      <td>0</td>\n",
       "      <td>1</td>\n",
       "      <td>1</td>\n",
       "      <td>10.66</td>\n",
       "      <td>12.880</td>\n",
       "      <td>56</td>\n",
       "      <td>11.0014</td>\n",
       "    </tr>\n",
       "    <tr>\n",
       "      <th>4</th>\n",
       "      <td>2011-01-20 04:00:00</td>\n",
       "      <td>1</td>\n",
       "      <td>0</td>\n",
       "      <td>1</td>\n",
       "      <td>1</td>\n",
       "      <td>10.66</td>\n",
       "      <td>12.880</td>\n",
       "      <td>56</td>\n",
       "      <td>11.0014</td>\n",
       "    </tr>\n",
       "  </tbody>\n",
       "</table>\n",
       "</div>"
      ],
      "text/plain": [
       "              datetime  season  holiday  workingday  weather   temp   atemp  \\\n",
       "0  2011-01-20 00:00:00       1        0           1        1  10.66  11.365   \n",
       "1  2011-01-20 01:00:00       1        0           1        1  10.66  13.635   \n",
       "2  2011-01-20 02:00:00       1        0           1        1  10.66  13.635   \n",
       "3  2011-01-20 03:00:00       1        0           1        1  10.66  12.880   \n",
       "4  2011-01-20 04:00:00       1        0           1        1  10.66  12.880   \n",
       "\n",
       "   humidity  windspeed  \n",
       "0        56    26.0027  \n",
       "1        56     0.0000  \n",
       "2        56     0.0000  \n",
       "3        56    11.0014  \n",
       "4        56    11.0014  "
      ]
     },
     "execution_count": 5,
     "metadata": {},
     "output_type": "execute_result"
    }
   ],
   "source": [
    "test.head()"
   ]
  },
  {
   "cell_type": "code",
   "execution_count": 6,
   "id": "0662298c",
   "metadata": {
    "execution": {
     "iopub.execute_input": "2022-07-04T16:01:27.063270Z",
     "iopub.status.busy": "2022-07-04T16:01:27.062870Z",
     "iopub.status.idle": "2022-07-04T16:01:27.073165Z",
     "shell.execute_reply": "2022-07-04T16:01:27.072003Z"
    },
    "papermill": {
     "duration": 0.045734,
     "end_time": "2022-07-04T16:01:27.075428",
     "exception": false,
     "start_time": "2022-07-04T16:01:27.029694",
     "status": "completed"
    },
    "tags": []
   },
   "outputs": [
    {
     "data": {
      "text/html": [
       "<div>\n",
       "<style scoped>\n",
       "    .dataframe tbody tr th:only-of-type {\n",
       "        vertical-align: middle;\n",
       "    }\n",
       "\n",
       "    .dataframe tbody tr th {\n",
       "        vertical-align: top;\n",
       "    }\n",
       "\n",
       "    .dataframe thead th {\n",
       "        text-align: right;\n",
       "    }\n",
       "</style>\n",
       "<table border=\"1\" class=\"dataframe\">\n",
       "  <thead>\n",
       "    <tr style=\"text-align: right;\">\n",
       "      <th></th>\n",
       "      <th>datetime</th>\n",
       "      <th>count</th>\n",
       "    </tr>\n",
       "  </thead>\n",
       "  <tbody>\n",
       "    <tr>\n",
       "      <th>0</th>\n",
       "      <td>2011-01-20 00:00:00</td>\n",
       "      <td>0</td>\n",
       "    </tr>\n",
       "    <tr>\n",
       "      <th>1</th>\n",
       "      <td>2011-01-20 01:00:00</td>\n",
       "      <td>0</td>\n",
       "    </tr>\n",
       "    <tr>\n",
       "      <th>2</th>\n",
       "      <td>2011-01-20 02:00:00</td>\n",
       "      <td>0</td>\n",
       "    </tr>\n",
       "    <tr>\n",
       "      <th>3</th>\n",
       "      <td>2011-01-20 03:00:00</td>\n",
       "      <td>0</td>\n",
       "    </tr>\n",
       "    <tr>\n",
       "      <th>4</th>\n",
       "      <td>2011-01-20 04:00:00</td>\n",
       "      <td>0</td>\n",
       "    </tr>\n",
       "  </tbody>\n",
       "</table>\n",
       "</div>"
      ],
      "text/plain": [
       "              datetime  count\n",
       "0  2011-01-20 00:00:00      0\n",
       "1  2011-01-20 01:00:00      0\n",
       "2  2011-01-20 02:00:00      0\n",
       "3  2011-01-20 03:00:00      0\n",
       "4  2011-01-20 04:00:00      0"
      ]
     },
     "execution_count": 6,
     "metadata": {},
     "output_type": "execute_result"
    }
   ],
   "source": [
    "submission.head()"
   ]
  },
  {
   "cell_type": "code",
   "execution_count": 7,
   "id": "a438ba57",
   "metadata": {
    "execution": {
     "iopub.execute_input": "2022-07-04T16:01:27.142687Z",
     "iopub.status.busy": "2022-07-04T16:01:27.142101Z",
     "iopub.status.idle": "2022-07-04T16:01:27.172597Z",
     "shell.execute_reply": "2022-07-04T16:01:27.170957Z"
    },
    "papermill": {
     "duration": 0.066752,
     "end_time": "2022-07-04T16:01:27.175200",
     "exception": false,
     "start_time": "2022-07-04T16:01:27.108448",
     "status": "completed"
    },
    "tags": []
   },
   "outputs": [
    {
     "name": "stdout",
     "output_type": "stream",
     "text": [
      "<class 'pandas.core.frame.DataFrame'>\n",
      "RangeIndex: 10886 entries, 0 to 10885\n",
      "Data columns (total 12 columns):\n",
      " #   Column      Non-Null Count  Dtype  \n",
      "---  ------      --------------  -----  \n",
      " 0   datetime    10886 non-null  object \n",
      " 1   season      10886 non-null  int64  \n",
      " 2   holiday     10886 non-null  int64  \n",
      " 3   workingday  10886 non-null  int64  \n",
      " 4   weather     10886 non-null  int64  \n",
      " 5   temp        10886 non-null  float64\n",
      " 6   atemp       10886 non-null  float64\n",
      " 7   humidity    10886 non-null  int64  \n",
      " 8   windspeed   10886 non-null  float64\n",
      " 9   casual      10886 non-null  int64  \n",
      " 10  registered  10886 non-null  int64  \n",
      " 11  count       10886 non-null  int64  \n",
      "dtypes: float64(3), int64(8), object(1)\n",
      "memory usage: 1020.7+ KB\n"
     ]
    }
   ],
   "source": [
    "train.info()"
   ]
  },
  {
   "cell_type": "code",
   "execution_count": 8,
   "id": "ddc2c8be",
   "metadata": {
    "execution": {
     "iopub.execute_input": "2022-07-04T16:01:27.242766Z",
     "iopub.status.busy": "2022-07-04T16:01:27.242043Z",
     "iopub.status.idle": "2022-07-04T16:01:27.255173Z",
     "shell.execute_reply": "2022-07-04T16:01:27.254328Z"
    },
    "papermill": {
     "duration": 0.048514,
     "end_time": "2022-07-04T16:01:27.257314",
     "exception": false,
     "start_time": "2022-07-04T16:01:27.208800",
     "status": "completed"
    },
    "tags": []
   },
   "outputs": [
    {
     "name": "stdout",
     "output_type": "stream",
     "text": [
      "<class 'pandas.core.frame.DataFrame'>\n",
      "RangeIndex: 6493 entries, 0 to 6492\n",
      "Data columns (total 9 columns):\n",
      " #   Column      Non-Null Count  Dtype  \n",
      "---  ------      --------------  -----  \n",
      " 0   datetime    6493 non-null   object \n",
      " 1   season      6493 non-null   int64  \n",
      " 2   holiday     6493 non-null   int64  \n",
      " 3   workingday  6493 non-null   int64  \n",
      " 4   weather     6493 non-null   int64  \n",
      " 5   temp        6493 non-null   float64\n",
      " 6   atemp       6493 non-null   float64\n",
      " 7   humidity    6493 non-null   int64  \n",
      " 8   windspeed   6493 non-null   float64\n",
      "dtypes: float64(3), int64(5), object(1)\n",
      "memory usage: 456.7+ KB\n"
     ]
    }
   ],
   "source": [
    "test.info()"
   ]
  },
  {
   "cell_type": "markdown",
   "id": "bfcf61af",
   "metadata": {
    "papermill": {
     "duration": 0.031772,
     "end_time": "2022-07-04T16:01:27.322131",
     "exception": false,
     "start_time": "2022-07-04T16:01:27.290359",
     "status": "completed"
    },
    "tags": []
   },
   "source": [
    "## 피처 엔지니어링"
   ]
  },
  {
   "cell_type": "code",
   "execution_count": 9,
   "id": "6f1fc927",
   "metadata": {
    "execution": {
     "iopub.execute_input": "2022-07-04T16:01:27.390129Z",
     "iopub.status.busy": "2022-07-04T16:01:27.389424Z",
     "iopub.status.idle": "2022-07-04T16:01:27.395764Z",
     "shell.execute_reply": "2022-07-04T16:01:27.394941Z"
    },
    "papermill": {
     "duration": 0.043196,
     "end_time": "2022-07-04T16:01:27.398090",
     "exception": false,
     "start_time": "2022-07-04T16:01:27.354894",
     "status": "completed"
    },
    "tags": []
   },
   "outputs": [
    {
     "name": "stdout",
     "output_type": "stream",
     "text": [
      "2011-01-05 09:00:00\n",
      "['2011-01-05', '09:00:00']\n",
      "2011-01-05\n",
      "09:00:00\n"
     ]
    }
   ],
   "source": [
    "print(train['datetime'][100]) # datetime의 100번째 원소\n",
    "print(train['datetime'][100].split())\n",
    "print(train['datetime'][100].split()[0])\n",
    "print(train['datetime'][100].split()[1])"
   ]
  },
  {
   "cell_type": "code",
   "execution_count": 10,
   "id": "361b6e84",
   "metadata": {
    "execution": {
     "iopub.execute_input": "2022-07-04T16:01:27.466405Z",
     "iopub.status.busy": "2022-07-04T16:01:27.465671Z",
     "iopub.status.idle": "2022-07-04T16:01:27.473725Z",
     "shell.execute_reply": "2022-07-04T16:01:27.472568Z"
    },
    "papermill": {
     "duration": 0.045198,
     "end_time": "2022-07-04T16:01:27.476342",
     "exception": false,
     "start_time": "2022-07-04T16:01:27.431144",
     "status": "completed"
    },
    "tags": []
   },
   "outputs": [
    {
     "name": "stdout",
     "output_type": "stream",
     "text": [
      "2011-01-05\n",
      "['2011', '01', '05']\n",
      "2011\n",
      "01\n",
      "05\n"
     ]
    }
   ],
   "source": [
    "print(train['datetime'][100].split()[0])\n",
    "print(train['datetime'][100].split()[0].split('-'))\n",
    "print(train['datetime'][100].split()[0].split('-')[0])\n",
    "print(train['datetime'][100].split()[0].split('-')[1])\n",
    "print(train['datetime'][100].split()[0].split('-')[2])"
   ]
  },
  {
   "cell_type": "code",
   "execution_count": 11,
   "id": "99aa81a7",
   "metadata": {
    "execution": {
     "iopub.execute_input": "2022-07-04T16:01:27.543273Z",
     "iopub.status.busy": "2022-07-04T16:01:27.542847Z",
     "iopub.status.idle": "2022-07-04T16:01:27.551681Z",
     "shell.execute_reply": "2022-07-04T16:01:27.550620Z"
    },
    "papermill": {
     "duration": 0.046114,
     "end_time": "2022-07-04T16:01:27.554923",
     "exception": false,
     "start_time": "2022-07-04T16:01:27.508809",
     "status": "completed"
    },
    "tags": []
   },
   "outputs": [
    {
     "name": "stdout",
     "output_type": "stream",
     "text": [
      "09:00:00\n",
      "['09', '00', '00']\n",
      "09\n",
      "00\n",
      "00\n"
     ]
    }
   ],
   "source": [
    "print(train['datetime'][100].split()[1])\n",
    "print(train['datetime'][100].split()[1].split(':'))\n",
    "print(train['datetime'][100].split()[1].split(':')[0])\n",
    "print(train['datetime'][100].split()[1].split(':')[1])\n",
    "print(train['datetime'][100].split()[1].split(':')[2])"
   ]
  },
  {
   "cell_type": "code",
   "execution_count": 12,
   "id": "f7917ed9",
   "metadata": {
    "execution": {
     "iopub.execute_input": "2022-07-04T16:01:27.625518Z",
     "iopub.status.busy": "2022-07-04T16:01:27.624155Z",
     "iopub.status.idle": "2022-07-04T16:01:27.701384Z",
     "shell.execute_reply": "2022-07-04T16:01:27.700021Z"
    },
    "papermill": {
     "duration": 0.115029,
     "end_time": "2022-07-04T16:01:27.704061",
     "exception": false,
     "start_time": "2022-07-04T16:01:27.589032",
     "status": "completed"
    },
    "tags": []
   },
   "outputs": [],
   "source": [
    "# 기존 피처에서 날짜, 연, 월, 일, 시, 분, 초 피처를 생성(기존피처에서 파생된 피처 : '파생 피처' 혹은 '파생 변수'라 함)\n",
    "train['date'] = train['datetime'].apply(lambda x: x.split()[0]) # 날짜 피처 생성\n",
    "\n",
    "# 연도, 월, 일, 시, 분, 초 피처를 차례로 생성\n",
    "train['year'] = train['datetime'].apply(lambda x: x.split()[0].split('-')[0])\n",
    "train['month'] = train['datetime'].apply(lambda x: x.split()[0].split('-')[1])\n",
    "train['day'] = train['datetime'].apply(lambda x: x.split()[0].split('-')[2])\n",
    "train['hour'] = train['datetime'].apply(lambda x: x.split()[1].split(':')[0])\n",
    "train['minute'] = train['datetime'].apply(lambda x: x.split()[1].split(':')[1])\n",
    "train['second'] = train['datetime'].apply(lambda x: x.split()[1].split(':')[2])"
   ]
  },
  {
   "cell_type": "code",
   "execution_count": 13,
   "id": "f321cc86",
   "metadata": {
    "execution": {
     "iopub.execute_input": "2022-07-04T16:01:27.773022Z",
     "iopub.status.busy": "2022-07-04T16:01:27.772581Z",
     "iopub.status.idle": "2022-07-04T16:01:27.782013Z",
     "shell.execute_reply": "2022-07-04T16:01:27.780877Z"
    },
    "papermill": {
     "duration": 0.046857,
     "end_time": "2022-07-04T16:01:27.784167",
     "exception": false,
     "start_time": "2022-07-04T16:01:27.737310",
     "status": "completed"
    },
    "scrolled": true,
    "tags": []
   },
   "outputs": [
    {
     "name": "stdout",
     "output_type": "stream",
     "text": [
      "2011-01-05\n",
      "2011-01-05 00:00:00\n",
      "2\n",
      "Wednesday\n"
     ]
    }
   ],
   "source": [
    "from datetime import datetime # datetime 라이브러리 import\n",
    "import calendar\n",
    "\n",
    "print(train['date'][100]) # 날짜\n",
    "print(datetime.strptime(train['date'][100], '%Y-%m-%d')) # datetime 타입으로 변경\n",
    "# 정수를 요일로 변환\n",
    "print(datetime.strptime(train['date'][100], '%Y-%m-%d').weekday()) \n",
    "# 문자열로 요일 변환(0은 월요일, 1은 화요일, 2는 수요일순으로 매핑 됨, 단 머신러닝을 훈련할 때는 피처 값을 숫자로 변경하면 안 됨 // 여기서는 그래프로 확인하려 하기 때문에 문자열로 변경함)\n",
    "print(calendar.day_name[datetime.strptime(train['date'][100], '%Y-%m-%d').weekday()])"
   ]
  },
  {
   "cell_type": "code",
   "execution_count": 14,
   "id": "a1b06842",
   "metadata": {
    "execution": {
     "iopub.execute_input": "2022-07-04T16:01:27.852384Z",
     "iopub.status.busy": "2022-07-04T16:01:27.850875Z",
     "iopub.status.idle": "2022-07-04T16:01:28.048638Z",
     "shell.execute_reply": "2022-07-04T16:01:28.047518Z"
    },
    "papermill": {
     "duration": 0.234661,
     "end_time": "2022-07-04T16:01:28.051389",
     "exception": false,
     "start_time": "2022-07-04T16:01:27.816728",
     "status": "completed"
    },
    "tags": []
   },
   "outputs": [],
   "source": [
    "train['weekday'] = train['date'].apply(\n",
    "lambda dateString:\n",
    "    calendar.day_name[datetime.strptime(dateString,'%Y-%m-%d').weekday()]\n",
    ")"
   ]
  },
  {
   "cell_type": "code",
   "execution_count": 15,
   "id": "629ecadd",
   "metadata": {
    "execution": {
     "iopub.execute_input": "2022-07-04T16:01:28.118441Z",
     "iopub.status.busy": "2022-07-04T16:01:28.117736Z",
     "iopub.status.idle": "2022-07-04T16:01:28.128550Z",
     "shell.execute_reply": "2022-07-04T16:01:28.127379Z"
    },
    "papermill": {
     "duration": 0.046641,
     "end_time": "2022-07-04T16:01:28.130795",
     "exception": false,
     "start_time": "2022-07-04T16:01:28.084154",
     "status": "completed"
    },
    "tags": []
   },
   "outputs": [],
   "source": [
    "train['season'] = train['season'].map({1: 'Spring',\n",
    "                                       2: 'Summer',\n",
    "                                       3: 'Fall',\n",
    "                                       4: 'Winter'})\n",
    "train['weather'] = train['weather'].map({1: 'Clear',\n",
    "                                         2: 'Mist, Few clouds',\n",
    "                                        3: 'Light Snow, Rain, Thunderstrom',\n",
    "                                        4: 'Heavy Rain, Thunderstrom, Snow, Fog'})"
   ]
  },
  {
   "cell_type": "code",
   "execution_count": 16,
   "id": "2af88df2",
   "metadata": {
    "execution": {
     "iopub.execute_input": "2022-07-04T16:01:28.199741Z",
     "iopub.status.busy": "2022-07-04T16:01:28.199351Z",
     "iopub.status.idle": "2022-07-04T16:01:28.220040Z",
     "shell.execute_reply": "2022-07-04T16:01:28.219205Z"
    },
    "papermill": {
     "duration": 0.057507,
     "end_time": "2022-07-04T16:01:28.222161",
     "exception": false,
     "start_time": "2022-07-04T16:01:28.164654",
     "status": "completed"
    },
    "tags": []
   },
   "outputs": [
    {
     "data": {
      "text/html": [
       "<div>\n",
       "<style scoped>\n",
       "    .dataframe tbody tr th:only-of-type {\n",
       "        vertical-align: middle;\n",
       "    }\n",
       "\n",
       "    .dataframe tbody tr th {\n",
       "        vertical-align: top;\n",
       "    }\n",
       "\n",
       "    .dataframe thead th {\n",
       "        text-align: right;\n",
       "    }\n",
       "</style>\n",
       "<table border=\"1\" class=\"dataframe\">\n",
       "  <thead>\n",
       "    <tr style=\"text-align: right;\">\n",
       "      <th></th>\n",
       "      <th>datetime</th>\n",
       "      <th>season</th>\n",
       "      <th>holiday</th>\n",
       "      <th>workingday</th>\n",
       "      <th>weather</th>\n",
       "      <th>temp</th>\n",
       "      <th>atemp</th>\n",
       "      <th>humidity</th>\n",
       "      <th>windspeed</th>\n",
       "      <th>casual</th>\n",
       "      <th>registered</th>\n",
       "      <th>count</th>\n",
       "      <th>date</th>\n",
       "      <th>year</th>\n",
       "      <th>month</th>\n",
       "      <th>day</th>\n",
       "      <th>hour</th>\n",
       "      <th>minute</th>\n",
       "      <th>second</th>\n",
       "      <th>weekday</th>\n",
       "    </tr>\n",
       "  </thead>\n",
       "  <tbody>\n",
       "    <tr>\n",
       "      <th>0</th>\n",
       "      <td>2011-01-01 00:00:00</td>\n",
       "      <td>Spring</td>\n",
       "      <td>0</td>\n",
       "      <td>0</td>\n",
       "      <td>Clear</td>\n",
       "      <td>9.84</td>\n",
       "      <td>14.395</td>\n",
       "      <td>81</td>\n",
       "      <td>0.0</td>\n",
       "      <td>3</td>\n",
       "      <td>13</td>\n",
       "      <td>16</td>\n",
       "      <td>2011-01-01</td>\n",
       "      <td>2011</td>\n",
       "      <td>01</td>\n",
       "      <td>01</td>\n",
       "      <td>00</td>\n",
       "      <td>00</td>\n",
       "      <td>00</td>\n",
       "      <td>Saturday</td>\n",
       "    </tr>\n",
       "    <tr>\n",
       "      <th>1</th>\n",
       "      <td>2011-01-01 01:00:00</td>\n",
       "      <td>Spring</td>\n",
       "      <td>0</td>\n",
       "      <td>0</td>\n",
       "      <td>Clear</td>\n",
       "      <td>9.02</td>\n",
       "      <td>13.635</td>\n",
       "      <td>80</td>\n",
       "      <td>0.0</td>\n",
       "      <td>8</td>\n",
       "      <td>32</td>\n",
       "      <td>40</td>\n",
       "      <td>2011-01-01</td>\n",
       "      <td>2011</td>\n",
       "      <td>01</td>\n",
       "      <td>01</td>\n",
       "      <td>01</td>\n",
       "      <td>00</td>\n",
       "      <td>00</td>\n",
       "      <td>Saturday</td>\n",
       "    </tr>\n",
       "    <tr>\n",
       "      <th>2</th>\n",
       "      <td>2011-01-01 02:00:00</td>\n",
       "      <td>Spring</td>\n",
       "      <td>0</td>\n",
       "      <td>0</td>\n",
       "      <td>Clear</td>\n",
       "      <td>9.02</td>\n",
       "      <td>13.635</td>\n",
       "      <td>80</td>\n",
       "      <td>0.0</td>\n",
       "      <td>5</td>\n",
       "      <td>27</td>\n",
       "      <td>32</td>\n",
       "      <td>2011-01-01</td>\n",
       "      <td>2011</td>\n",
       "      <td>01</td>\n",
       "      <td>01</td>\n",
       "      <td>02</td>\n",
       "      <td>00</td>\n",
       "      <td>00</td>\n",
       "      <td>Saturday</td>\n",
       "    </tr>\n",
       "    <tr>\n",
       "      <th>3</th>\n",
       "      <td>2011-01-01 03:00:00</td>\n",
       "      <td>Spring</td>\n",
       "      <td>0</td>\n",
       "      <td>0</td>\n",
       "      <td>Clear</td>\n",
       "      <td>9.84</td>\n",
       "      <td>14.395</td>\n",
       "      <td>75</td>\n",
       "      <td>0.0</td>\n",
       "      <td>3</td>\n",
       "      <td>10</td>\n",
       "      <td>13</td>\n",
       "      <td>2011-01-01</td>\n",
       "      <td>2011</td>\n",
       "      <td>01</td>\n",
       "      <td>01</td>\n",
       "      <td>03</td>\n",
       "      <td>00</td>\n",
       "      <td>00</td>\n",
       "      <td>Saturday</td>\n",
       "    </tr>\n",
       "    <tr>\n",
       "      <th>4</th>\n",
       "      <td>2011-01-01 04:00:00</td>\n",
       "      <td>Spring</td>\n",
       "      <td>0</td>\n",
       "      <td>0</td>\n",
       "      <td>Clear</td>\n",
       "      <td>9.84</td>\n",
       "      <td>14.395</td>\n",
       "      <td>75</td>\n",
       "      <td>0.0</td>\n",
       "      <td>0</td>\n",
       "      <td>1</td>\n",
       "      <td>1</td>\n",
       "      <td>2011-01-01</td>\n",
       "      <td>2011</td>\n",
       "      <td>01</td>\n",
       "      <td>01</td>\n",
       "      <td>04</td>\n",
       "      <td>00</td>\n",
       "      <td>00</td>\n",
       "      <td>Saturday</td>\n",
       "    </tr>\n",
       "  </tbody>\n",
       "</table>\n",
       "</div>"
      ],
      "text/plain": [
       "              datetime  season  holiday  workingday weather  temp   atemp  \\\n",
       "0  2011-01-01 00:00:00  Spring        0           0   Clear  9.84  14.395   \n",
       "1  2011-01-01 01:00:00  Spring        0           0   Clear  9.02  13.635   \n",
       "2  2011-01-01 02:00:00  Spring        0           0   Clear  9.02  13.635   \n",
       "3  2011-01-01 03:00:00  Spring        0           0   Clear  9.84  14.395   \n",
       "4  2011-01-01 04:00:00  Spring        0           0   Clear  9.84  14.395   \n",
       "\n",
       "   humidity  windspeed  casual  registered  count        date  year month day  \\\n",
       "0        81        0.0       3          13     16  2011-01-01  2011    01  01   \n",
       "1        80        0.0       8          32     40  2011-01-01  2011    01  01   \n",
       "2        80        0.0       5          27     32  2011-01-01  2011    01  01   \n",
       "3        75        0.0       3          10     13  2011-01-01  2011    01  01   \n",
       "4        75        0.0       0           1      1  2011-01-01  2011    01  01   \n",
       "\n",
       "  hour minute second   weekday  \n",
       "0   00     00     00  Saturday  \n",
       "1   01     00     00  Saturday  \n",
       "2   02     00     00  Saturday  \n",
       "3   03     00     00  Saturday  \n",
       "4   04     00     00  Saturday  "
      ]
     },
     "execution_count": 16,
     "metadata": {},
     "output_type": "execute_result"
    }
   ],
   "source": [
    "train.head() # 분석 결과 date 피처 삭제, month 피쳐 제거"
   ]
  },
  {
   "cell_type": "markdown",
   "id": "5431a618",
   "metadata": {
    "papermill": {
     "duration": 0.0326,
     "end_time": "2022-07-04T16:01:28.287499",
     "exception": false,
     "start_time": "2022-07-04T16:01:28.254899",
     "status": "completed"
    },
    "tags": []
   },
   "source": [
    "## 데이터 시각화"
   ]
  },
  {
   "cell_type": "code",
   "execution_count": 17,
   "id": "e8b755bb",
   "metadata": {
    "execution": {
     "iopub.execute_input": "2022-07-04T16:01:28.355896Z",
     "iopub.status.busy": "2022-07-04T16:01:28.354825Z",
     "iopub.status.idle": "2022-07-04T16:01:29.646488Z",
     "shell.execute_reply": "2022-07-04T16:01:29.644998Z"
    },
    "papermill": {
     "duration": 1.329711,
     "end_time": "2022-07-04T16:01:29.649912",
     "exception": false,
     "start_time": "2022-07-04T16:01:28.320201",
     "status": "completed"
    },
    "tags": []
   },
   "outputs": [],
   "source": [
    "import seaborn as sns\n",
    "import matplotlib as mpl\n",
    "import matplotlib.pyplot as plt \n",
    "%matplotlib inline\n",
    "# matplot이 그린 그래프를 주피터 노트북에서 바로 출력해줌(캐클 환경에서는 %matplot inline이 없어도 그래프를 보여주지만 matplot을 사용하는 경우 관습적으로 쓰는 경향이 있음)"
   ]
  },
  {
   "cell_type": "markdown",
   "id": "312b4145",
   "metadata": {
    "papermill": {
     "duration": 0.032743,
     "end_time": "2022-07-04T16:01:29.715770",
     "exception": false,
     "start_time": "2022-07-04T16:01:29.683027",
     "status": "completed"
    },
    "tags": []
   },
   "source": [
    "## 분포도\n",
    "#### 수치형 데이터의 집계 값을 나타내는 그래프이다. // 집계값은 총 개수나 비율등을 의미함\n",
    "#### 이번장에서는 타깃값의 분포를 알면 훈련 시 타깃값을 그대로 사용할 지 변환해 사용할지 파악할 수 있기 때문"
   ]
  },
  {
   "cell_type": "code",
   "execution_count": 18,
   "id": "4c97c1fd",
   "metadata": {
    "execution": {
     "iopub.execute_input": "2022-07-04T16:01:29.785581Z",
     "iopub.status.busy": "2022-07-04T16:01:29.784416Z",
     "iopub.status.idle": "2022-07-04T16:01:30.198009Z",
     "shell.execute_reply": "2022-07-04T16:01:30.196711Z"
    },
    "papermill": {
     "duration": 0.450756,
     "end_time": "2022-07-04T16:01:30.200600",
     "exception": false,
     "start_time": "2022-07-04T16:01:29.749844",
     "status": "completed"
    },
    "tags": []
   },
   "outputs": [
    {
     "data": {
      "image/png": "[encoded data removed]",
      "text/plain": [
       "<Figure size 360x360 with 1 Axes>"
      ]
     },
     "metadata": {
      "needs_background": "light"
     },
     "output_type": "display_data"
    }
   ],
   "source": [
    "mpl.rc('font', size=15) # 폰트 크기를 15로 설정\n",
    "sns.displot(train['count']); # 분포도 출력"
   ]
  },
  {
   "cell_type": "markdown",
   "id": "ab13c746",
   "metadata": {
    "papermill": {
     "duration": 0.03274,
     "end_time": "2022-07-04T16:01:30.266592",
     "exception": false,
     "start_time": "2022-07-04T16:01:30.233852",
     "status": "completed"
    },
    "tags": []
   },
   "source": [
    "#### x 축은 타깃값인 count를 나타내고, y축은 총 개수를 나타냄. 분포도를 보면 타깃값인 count가 0근처에 모여있음\n",
    "#### 즉, 분포가 왼쪽으로 많이 편향되어있음 // 회귀 모델이 좋은 성능을 내려면 데이터가 정규 분포를 따라야함 // 현재 타깃값을 그대로 사용해 모델링 한다면 좋은 성능을 기대하기 어려움\n",
    "#### 데이터 분포를 정규 분포에 가깝게 만들기 위해 가장 많이 사용하는 방법은 로그변환임, 로그변환은 count 분포와 같이 데이터가 왼쪽으로 편향되어 있을 때 사용함\n",
    "#### 로그변환 방법 : 원하는 값에 로그를 취해주면 됨"
   ]
  },
  {
   "cell_type": "code",
   "execution_count": 19,
   "id": "fd94e653",
   "metadata": {
    "execution": {
     "iopub.execute_input": "2022-07-04T16:01:30.334475Z",
     "iopub.status.busy": "2022-07-04T16:01:30.334046Z",
     "iopub.status.idle": "2022-07-04T16:01:30.683240Z",
     "shell.execute_reply": "2022-07-04T16:01:30.682099Z"
    },
    "papermill": {
     "duration": 0.386019,
     "end_time": "2022-07-04T16:01:30.685619",
     "exception": false,
     "start_time": "2022-07-04T16:01:30.299600",
     "status": "completed"
    },
    "tags": []
   },
   "outputs": [
    {
     "data": {
      "image/png": "[encoded data removed]",
      "text/plain": [
       "<Figure size 360x360 with 1 Axes>"
      ]
     },
     "metadata": {
      "needs_background": "light"
     },
     "output_type": "display_data"
    }
   ],
   "source": [
    "# count를 로그 변환한 값의 분포\n",
    "sns.displot(np.log(train['count']));\n",
    "\n",
    "# 변환 전보다 정규분포에 가까워짐 // 회귀모델의 성능 향상을 기대할 수 있음\n",
    "# 피처를 바로 활용해 count를 예측하는 것보다 log(count)를 예측하는 편이 더 정확함 // 따라서 타깃값을 log(count)로 변환해 사용\n",
    "# 다만, 마지막에 지수변환을 하여 실제 타깃값인 count로 복원해야 됨 // log(y)를 지수 변환하면 y가 됨 = y = e^log(y) // 성능 그래프는 194p참고"
   ]
  },
  {
   "cell_type": "markdown",
   "id": "8f543577",
   "metadata": {
    "papermill": {
     "duration": 0.03288,
     "end_time": "2022-07-04T16:01:30.751732",
     "exception": false,
     "start_time": "2022-07-04T16:01:30.718852",
     "status": "completed"
    },
    "tags": []
   },
   "source": [
    "## 막대 그래프\n",
    "#### 연도, 월, 일, 시, 분, 초별로 총 여섯가지 평균 대여 수량을 막대 그래프로 그리기 // 이 피처들은 범주형 데이터 임 // 각 범주형 데이터에 따라 평균 대여 수량이 어떻게 다른지 파악(중요 피처 확인)\n",
    "#### 이럴때는 막대 그래프를 이용해서 확인"
   ]
  },
  {
   "cell_type": "markdown",
   "id": "79de453d",
   "metadata": {
    "papermill": {
     "duration": 0.03288,
     "end_time": "2022-07-04T16:01:30.818047",
     "exception": false,
     "start_time": "2022-07-04T16:01:30.785167",
     "status": "completed"
    },
    "tags": []
   },
   "source": [
    "## 스텝 1 : m행 n열 Figure 준비하기\n",
    "#### 첫 번째로 총 6개의 그래프(서브플롯)를 품느 3행 2열짜리 Figure를 준비"
   ]
  },
  {
   "cell_type": "code",
   "execution_count": 20,
   "id": "53cf93e7",
   "metadata": {
    "execution": {
     "iopub.execute_input": "2022-07-04T16:01:30.889258Z",
     "iopub.status.busy": "2022-07-04T16:01:30.888479Z",
     "iopub.status.idle": "2022-07-04T16:01:31.505331Z",
     "shell.execute_reply": "2022-07-04T16:01:31.504196Z"
    },
    "papermill": {
     "duration": 0.654955,
     "end_time": "2022-07-04T16:01:31.507752",
     "exception": false,
     "start_time": "2022-07-04T16:01:30.852797",
     "status": "completed"
    },
    "tags": []
   },
   "outputs": [
    {
     "data": {
      "image/png": "[encoded data removed]",
      "text/plain": [
       "<Figure size 720x648 with 6 Axes>"
      ]
     },
     "metadata": {
      "needs_background": "light"
     },
     "output_type": "display_data"
    }
   ],
   "source": [
    "mpl.rc('font', size = 14) # 폰트 크기 설정 (이책의 196p ,195는 그래프를 그린 후 자세한 설명 확인)\n",
    "mpl.rc('axes', titlesize = 15) # 각 축의 제목 크기 설정\n",
    "figure, axes = plt.subplots(nrows=3, ncols=2) # 3행 2열 Figure 생성 (1)\n",
    "plt.tight_layout() # 그래프 사이에 여백 확보 (2)\n",
    "figure.set_size_inches(10, 9) # 전체 Figure의 크기를 10x9인치로 설정 (3)\n",
    "# train.head()"
   ]
  },
  {
   "cell_type": "markdown",
   "id": "d57e859d",
   "metadata": {
    "papermill": {
     "duration": 0.035591,
     "end_time": "2022-07-04T16:01:31.577639",
     "exception": false,
     "start_time": "2022-07-04T16:01:31.542048",
     "status": "completed"
    },
    "tags": []
   },
   "source": [
    "#### 코드 (1)은 matplotlib 라이브러리의 subplots() 함수 사용 예시임. // 한 화면에 여러 그래프를 동시에 그릴 때 사용\n",
    "#### 파라미터를 두 개 받는데 nrows : 행의 개수, ncols : 열의 개수\n",
    "#### (1)을 실행하면 3행 2열의 서브플롯(subplot) 전체가 figure 변수에 할당되며, 각각의 서브플롯 축 6개는 axes 변수에 할당 됨 // 위는 1까지만 실행해 figure를 출력 해본 모습임"
   ]
  },
  {
   "cell_type": "code",
   "execution_count": 21,
   "id": "a1e847fd",
   "metadata": {
    "execution": {
     "iopub.execute_input": "2022-07-04T16:01:31.647515Z",
     "iopub.status.busy": "2022-07-04T16:01:31.647093Z",
     "iopub.status.idle": "2022-07-04T16:01:31.653039Z",
     "shell.execute_reply": "2022-07-04T16:01:31.652223Z"
    },
    "papermill": {
     "duration": 0.043819,
     "end_time": "2022-07-04T16:01:31.655047",
     "exception": false,
     "start_time": "2022-07-04T16:01:31.611228",
     "status": "completed"
    },
    "tags": []
   },
   "outputs": [
    {
     "data": {
      "text/plain": [
       "array([[<AxesSubplot:>, <AxesSubplot:>],\n",
       "       [<AxesSubplot:>, <AxesSubplot:>],\n",
       "       [<AxesSubplot:>, <AxesSubplot:>]], dtype=object)"
      ]
     },
     "execution_count": 21,
     "metadata": {},
     "output_type": "execute_result"
    }
   ],
   "source": [
    "# axes에는 어떤 객체가 할당 되어있는지 출력\n",
    "axes"
   ]
  },
  {
   "cell_type": "markdown",
   "id": "b46dec16",
   "metadata": {
    "papermill": {
     "duration": 0.033552,
     "end_time": "2022-07-04T16:01:31.722419",
     "exception": false,
     "start_time": "2022-07-04T16:01:31.688867",
     "status": "completed"
    },
    "tags": []
   },
   "source": [
    "### AxeSubplot 객체가 6개가 3행 2열로 구성된 배열이 출력 됨 // 이 배열을 입력으로 axes.shape을 실행하면(3,2)가 출력됨\n",
    "### 출력 결과의 각 AxesSubplot 객체는 순서대로 서브플롯의 0행 0열, 0행 1열, 1행 0열, 1행 1열, 2의 0열 2의 1열 // ex) axes[0,0] : subplot의 0행 0열 축을 의미함"
   ]
  },
  {
   "cell_type": "markdown",
   "id": "7ca7a0a5",
   "metadata": {
    "papermill": {
     "duration": 0.033338,
     "end_time": "2022-07-04T16:01:31.789483",
     "exception": false,
     "start_time": "2022-07-04T16:01:31.756145",
     "status": "completed"
    },
    "tags": []
   },
   "source": [
    "### 코드(2)의 plt.tight_layout()은 서브플롯 사이에 여백을 줘 간격을 넓이는 기능을 함"
   ]
  },
  {
   "cell_type": "code",
   "execution_count": 22,
   "id": "53b1f7f4",
   "metadata": {
    "execution": {
     "iopub.execute_input": "2022-07-04T16:01:31.860157Z",
     "iopub.status.busy": "2022-07-04T16:01:31.859469Z",
     "iopub.status.idle": "2022-07-04T16:01:32.379871Z",
     "shell.execute_reply": "2022-07-04T16:01:32.379047Z"
    },
    "papermill": {
     "duration": 0.559566,
     "end_time": "2022-07-04T16:01:32.382757",
     "exception": false,
     "start_time": "2022-07-04T16:01:31.823191",
     "status": "completed"
    },
    "tags": []
   },
   "outputs": [
    {
     "data": {
      "image/png": "[encoded data removed]",
      "text/plain": [
       "<Figure size 432x288 with 6 Axes>"
      ]
     },
     "metadata": {
      "needs_background": "light"
     },
     "output_type": "display_data"
    }
   ],
   "source": [
    "figure, axes = plt.subplots(nrows=3, ncols=2)\n",
    "plt.tight_layout() # subplot 사이의 공간이 넓어짐"
   ]
  },
  {
   "cell_type": "markdown",
   "id": "b8179c5d",
   "metadata": {
    "papermill": {
     "duration": 0.03625,
     "end_time": "2022-07-04T16:01:32.453838",
     "exception": false,
     "start_time": "2022-07-04T16:01:32.417588",
     "status": "completed"
    },
    "tags": []
   },
   "source": [
    "#### 코드(3)의 figure.set_size_inches(10,9)로는 Figure 크기를 지정함 // 서브플롯 하나의 크기가 아니라 서브플롯 6개를 합친 '전체' Figure 크기이며, 단위는 함수 이름에서 알수 있듯이 inch 임.\n",
    "#### 첫 번째 파라미터로는 너비, 두 번째 파라미터로는 높이를 조절 함. 여기서 너비는 10 inch, 높이는 9 inch 임."
   ]
  },
  {
   "cell_type": "markdown",
   "id": "ff80c0dc",
   "metadata": {
    "papermill": {
     "duration": 0.03408,
     "end_time": "2022-07-04T16:01:32.522719",
     "exception": false,
     "start_time": "2022-07-04T16:01:32.488639",
     "status": "completed"
    },
    "tags": []
   },
   "source": [
    "## 스텝 2 : 각 축에 서브플롯 할당\n",
    "#### 이어서 연도, 월, 일, 시간, 분, 초별 평균 대여 수량 막대 그래프를 스텝 1에서 준비한 Figure의 각 축에 할당\n",
    "#### 막대 그래프 생성에는 seaborn의 barplot()함수를 이용했음. x 파라미터에 연도, 월, 일, 시간, 분, 초를 전달하고, y 파라미터에 대여 수량을 전달\n",
    "#### data 파라미터에는 훈련 데이터를 DataFrame 형식으로 전달하면 됨\n",
    "#### ax 파라미터에는 AxesSubplot 객체를 전달하면 됨 // 0행 0열 축부터 2행 1열의 축까지 순서대로 전달했음"
   ]
  },
  {
   "cell_type": "code",
   "execution_count": 23,
   "id": "0b9b6f7e",
   "metadata": {
    "execution": {
     "iopub.execute_input": "2022-07-04T16:01:32.594081Z",
     "iopub.status.busy": "2022-07-04T16:01:32.593373Z",
     "iopub.status.idle": "2022-07-04T16:01:36.354043Z",
     "shell.execute_reply": "2022-07-04T16:01:36.352853Z"
    },
    "papermill": {
     "duration": 3.79922,
     "end_time": "2022-07-04T16:01:36.356533",
     "exception": false,
     "start_time": "2022-07-04T16:01:32.557313",
     "status": "completed"
    },
    "tags": []
   },
   "outputs": [
    {
     "data": {
      "image/png": "[encoded data removed]",
      "text/plain": [
       "<Figure size 432x288 with 6 Axes>"
      ]
     },
     "metadata": {
      "needs_background": "light"
     },
     "output_type": "display_data"
    }
   ],
   "source": [
    "figure, axes = plt.subplots(nrows=3, ncols=2)\n",
    "plt.tight_layout() # subplot 사이의 공간이 넓어짐\n",
    "\n",
    "#각 축에 서브플롯 할당\n",
    "sns.barplot(x='year', y='count',data=train, ax=axes[0,0])\n",
    "sns.barplot(x='month', y='count',data=train, ax=axes[0,1])\n",
    "sns.barplot(x='day', y='count',data=train, ax=axes[1,0])\n",
    "sns.barplot(x='hour', y='count',data=train, ax=axes[1,1])\n",
    "sns.barplot(x='minute', y='count',data=train, ax=axes[2,0])\n",
    "sns.barplot(x='second', y='count',data=train, ax=axes[2,1]);\n",
    "\n",
    "# 의도한 대로 잘 할당 되었지만, 각 서브플롯이 어떤 정보를 표현하는지가 한눈에 안들어오고, 어떤 서브플롯은 x축 라벨이 서로 겹치는 등 아쉬운 점이 있음"
   ]
  },
  {
   "cell_type": "markdown",
   "id": "47ddc652",
   "metadata": {
    "papermill": {
     "duration": 0.034575,
     "end_time": "2022-07-04T16:01:36.425765",
     "exception": false,
     "start_time": "2022-07-04T16:01:36.391190",
     "status": "completed"
    },
    "tags": []
   },
   "source": [
    "## 스텝 3 : (선택) 세부 설정\n",
    "#### 아쉬움이 남는다면 다양한 형태로 세부 속성을 설정할 수 있음\n",
    "#### 각 서브플롯에 제목 추가 및 x축 라벨이 겹치지 않게 개선"
   ]
  },
  {
   "cell_type": "code",
   "execution_count": 24,
   "id": "303e4207",
   "metadata": {
    "execution": {
     "iopub.execute_input": "2022-07-04T16:01:36.496541Z",
     "iopub.status.busy": "2022-07-04T16:01:36.496138Z",
     "iopub.status.idle": "2022-07-04T16:01:40.013881Z",
     "shell.execute_reply": "2022-07-04T16:01:40.012398Z"
    },
    "papermill": {
     "duration": 3.556462,
     "end_time": "2022-07-04T16:01:40.016596",
     "exception": false,
     "start_time": "2022-07-04T16:01:36.460134",
     "status": "completed"
    },
    "tags": []
   },
   "outputs": [
    {
     "data": {
      "image/png": "[encoded data removed]",
      "text/plain": [
       "<Figure size 432x288 with 6 Axes>"
      ]
     },
     "metadata": {
      "needs_background": "light"
     },
     "output_type": "display_data"
    }
   ],
   "source": [
    "figure, axes = plt.subplots(nrows=3, ncols=2)\n",
    "\n",
    "sns.barplot(x='year', y='count',data=train, ax=axes[0,0])\n",
    "sns.barplot(x='month', y='count',data=train, ax=axes[0,1])\n",
    "sns.barplot(x='day', y='count',data=train, ax=axes[1,0])\n",
    "sns.barplot(x='hour', y='count',data=train, ax=axes[1,1])\n",
    "sns.barplot(x='minute', y='count',data=train, ax=axes[2,0])\n",
    "sns.barplot(x='second', y='count',data=train, ax=axes[2,1]);\n",
    "\n",
    "# 먼저 각 축에 그려진 서브플롯에 제목 달아주기\n",
    "\n",
    "axes[0, 0].set(title = 'Rental amount by year')\n",
    "axes[0, 1].set(title = 'Rental amount by month')\n",
    "axes[1, 0].set(title = 'Rental amount by day')\n",
    "axes[1, 1].set(title = 'Rental amount by hour')\n",
    "axes[2, 0].set(title = 'Rental amount by minute')\n",
    "axes[2, 1].set(title = 'Rental amount by second')\n",
    "\n",
    "# 이어서 1행의 두 서브플롯의 x 축 라벨들을 90도 회전\n",
    "\n",
    "axes[1, 0].tick_params(axis = 'x', labelrotation=90)\n",
    "axes[1, 1].tick_params(axis = 'x', labelrotation=90)\n",
    "\n",
    "# 보다시피 axis 파라미터에 원하는 축을 명시하고 labelrotation 파라미터에 회전 각도를 입력하면 됨.\n",
    "# axis의 값으로는 'x', 'y', 'both',를 지정 할 수 있으며, 기본값이 'both'이므로 생략하면 두축을 한꺼번에 회전 시킴"
   ]
  },
  {
   "cell_type": "markdown",
   "id": "b7a6bbbd",
   "metadata": {
    "papermill": {
     "duration": 0.035375,
     "end_time": "2022-07-04T16:01:40.088505",
     "exception": false,
     "start_time": "2022-07-04T16:01:40.053130",
     "status": "completed"
    },
    "tags": []
   },
   "source": [
    "### 이상 세부설정을 마쳤음. 다음의 전체 코드를 실행하면 막대 그래프가 화면에 출력됨."
   ]
  },
  {
   "cell_type": "code",
   "execution_count": 25,
   "id": "03586aea",
   "metadata": {
    "execution": {
     "iopub.execute_input": "2022-07-04T16:01:40.161384Z",
     "iopub.status.busy": "2022-07-04T16:01:40.160953Z",
     "iopub.status.idle": "2022-07-04T16:01:43.808094Z",
     "shell.execute_reply": "2022-07-04T16:01:43.806584Z"
    },
    "papermill": {
     "duration": 3.68691,
     "end_time": "2022-07-04T16:01:43.810821",
     "exception": false,
     "start_time": "2022-07-04T16:01:40.123911",
     "status": "completed"
    },
    "tags": []
   },
   "outputs": [
    {
     "data": {
      "image/png": "[encoded data removed]",
      "text/plain": [
       "<Figure size 720x648 with 6 Axes>"
      ]
     },
     "metadata": {
      "needs_background": "light"
     },
     "output_type": "display_data"
    }
   ],
   "source": [
    "# 스텝 1 : m 행 n열 Figure 준비\n",
    "mpl.rc('font', size = 14) #  폰트 크기 설정\n",
    "mpl.rc('axes', titlesize = 15) # 각 축의 제목 크기 설정\n",
    "figure, axes = plt.subplots(nrows = 3, ncols = 2) # 3행 2열 Figure 생성\n",
    "plt.tight_layout()\n",
    "figure.set_size_inches(10,9)\n",
    "\n",
    "# 스텝 2 : 각 축에 서브플롯 할당\n",
    "# 각 축에 연도, 월, 일, 시, 분, 초별 평균 대여 수량 막대 그래프 할당\n",
    "sns.barplot(x = 'year', y = 'count', data=train, ax = axes[0,0])\n",
    "sns.barplot(x = 'month', y = 'count', data=train, ax = axes[0,1])\n",
    "sns.barplot(x = 'day', y = 'count', data=train, ax = axes[1,0])\n",
    "sns.barplot(x = 'hour', y = 'count', data=train, ax = axes[1,1])\n",
    "sns.barplot(x = 'minute', y = 'count', data=train, ax = axes[2,0])\n",
    "sns.barplot(x = 'second', y = 'count', data=train, ax = axes[2,1])\n",
    "\n",
    "# 스텝 3 : 세부 설정\n",
    "# 3-1 : 서브플롯에 제목 달기\n",
    "\n",
    "axes[0,0].set(title='Rental amounts by year')\n",
    "axes[0,1].set(title='Rental amounts by month')\n",
    "axes[1,0].set(title='Rental amounts by day')\n",
    "axes[1,1].set(title='Rental amounts by hour')\n",
    "axes[2,0].set(title='Rental amounts by minute')\n",
    "axes[2,1].set(title='Rental amounts by second')\n",
    "\n",
    "# 3-2 : 1행에 위치한 서브플롯들의 x축 라벨 90도 회전\n",
    "\n",
    "axes[1, 0].tick_params(axis = 'x', labelrotation=90)\n",
    "axes[1, 1].tick_params(axis = 'x', labelrotation=90)"
   ]
  },
  {
   "cell_type": "markdown",
   "id": "56cb1a39",
   "metadata": {
    "papermill": {
     "duration": 0.035476,
     "end_time": "2022-07-04T16:01:43.882362",
     "exception": false,
     "start_time": "2022-07-04T16:01:43.846886",
     "status": "completed"
    },
    "tags": []
   },
   "source": [
    "## 박스플롯\n",
    "#### 범주형 데이터에 따른 수치형 데이터 정보를 나타내는 그래프이다. // 막대 그래프보다 더 많은 정보를 제공하는 특징이 있음\n",
    "#### 여기서는 계절, 날씨, 공휴일, 근무일(범주형 데이터)별 대여 수량(수치형 데이터)을 박스 플롯으로 그려봄\n",
    "#### 각 범주형 데이터에 따라 타깃값인 대여 수량이 어떻게 변하는지 알 수 있음\n",
    "\n",
    "#### 이번에는 2행 2열 figure를 만들것이며, 코드는 막대 그래프 때와 같은 Figure 준비 -> 서브 플롯 할당 -> 세부 설정 순서로 작성"
   ]
  },
  {
   "cell_type": "code",
   "execution_count": 26,
   "id": "93953eb0",
   "metadata": {
    "execution": {
     "iopub.execute_input": "2022-07-04T16:01:43.956059Z",
     "iopub.status.busy": "2022-07-04T16:01:43.955455Z",
     "iopub.status.idle": "2022-07-04T16:01:44.675428Z",
     "shell.execute_reply": "2022-07-04T16:01:44.674337Z"
    },
    "papermill": {
     "duration": 0.760271,
     "end_time": "2022-07-04T16:01:44.678337",
     "exception": false,
     "start_time": "2022-07-04T16:01:43.918066",
     "status": "completed"
    },
    "tags": []
   },
   "outputs": [
    {
     "data": {
      "image/png": "[encoded data removed]",
      "text/plain": [
       "<Figure size 720x720 with 4 Axes>"
      ]
     },
     "metadata": {
      "needs_background": "light"
     },
     "output_type": "display_data"
    }
   ],
   "source": [
    "# 스텝 1  : m행 n열 Figure 준비\n",
    "figure, axes = plt.subplots(nrows = 2, ncols = 2) # 2행 2열 Figure 생성\n",
    "plt.tight_layout() # 그래프 사이에 여백 확보\n",
    "figure.set_size_inches(10, 10) # 전체 Figure 크기를 10 x 10 inch로 설정\n",
    "\n",
    "# 스텝 2 : 서브 플롯 할당\n",
    "# 계절, 날씨, 공휴일, 근무일별 대여 수량 박스플롯\n",
    "\n",
    "sns.boxplot(x = 'season', y = 'count', data=train, ax=axes[0,0])\n",
    "sns.boxplot(x = 'weather', y = 'count', data=train, ax=axes[0,1])\n",
    "sns.boxplot(x = 'holiday', y = 'count', data=train, ax=axes[1,0])\n",
    "sns.boxplot(x = 'workingday', y = 'count', data=train, ax=axes[1,1])\n",
    "\n",
    "# 스텝 3 : 세부 설정\n",
    "# 3-1 : 서브플롯에 제목 달기\n",
    "axes[0,0].set(title='Box Plot On Count Across Season')\n",
    "axes[0,1].set(title='Box Plot On Count Across Weather')\n",
    "axes[1,0].set(title='Box Plot On Count Across Holiday')\n",
    "axes[1,1].set(title='Box Plot On Count Across Working Day')\n",
    "\n",
    "# 3-2 : x축 라벨 겹침 해결\n",
    "axes[0,1].tick_params(axis = 'x', labelrotation=10) # 10도 회전"
   ]
  },
  {
   "cell_type": "markdown",
   "id": "89da6480",
   "metadata": {
    "papermill": {
     "duration": 0.038505,
     "end_time": "2022-07-04T16:01:44.761727",
     "exception": false,
     "start_time": "2022-07-04T16:01:44.723222",
     "status": "completed"
    },
    "tags": []
   },
   "source": [
    "## 포인트 플롯\n",
    "#### 근무일, 공휴일, 요일, 계절, 날씨에 따른 시간대별 평균 대여수량을 포인트플롯(pointplot)으로 그리기\n",
    "#### 포인트 플롯은 범주형 데이터에 따른 수치형 데이터의 평균과 신뢰구간을 점과 선으로 표시함\n",
    "#### 막대 그래프와 동일한 정보를 제공하지만, 한 화면에 여러 그래프를 그려 서로 비교해보기에 더 적합함"
   ]
  },
  {
   "cell_type": "code",
   "execution_count": 27,
   "id": "3942bb4b",
   "metadata": {
    "execution": {
     "iopub.execute_input": "2022-07-04T16:01:44.839335Z",
     "iopub.status.busy": "2022-07-04T16:01:44.838557Z",
     "iopub.status.idle": "2022-07-04T16:02:01.711700Z",
     "shell.execute_reply": "2022-07-04T16:02:01.710272Z"
    },
    "papermill": {
     "duration": 16.916931,
     "end_time": "2022-07-04T16:02:01.716321",
     "exception": false,
     "start_time": "2022-07-04T16:01:44.799390",
     "status": "completed"
    },
    "tags": []
   },
   "outputs": [
    {
     "data": {
      "image/png": "[encoded data removed]",
      "text/plain": [
       "<Figure size 864x1296 with 5 Axes>"
      ]
     },
     "metadata": {
      "needs_background": "light"
     },
     "output_type": "display_data"
    }
   ],
   "source": [
    "# 스텝 1 : m행 n열 Figure 준비\n",
    "mpl.rc('font', size = 11)\n",
    "figure, axes = plt.subplots(nrows=5) # 5행 1열\n",
    "figure.set_size_inches(12, 18)\n",
    "\n",
    "# 스텝 2 : 서브플롯 할당\n",
    "# 근무일, 공휴일, 요일, 계절, 날씨에 따른 시간대별 평균 대여 수량 포인트 플롯\n",
    "sns.pointplot(x='hour' ,y='count' ,data=train, hue='workingday' , ax=axes[0])\n",
    "sns.pointplot(x='hour' ,y='count' ,data=train, hue='holiday' , ax=axes[1])\n",
    "sns.pointplot(x='hour' ,y='count' ,data=train, hue='weekday' , ax=axes[2])\n",
    "sns.pointplot(x='hour' ,y='count' ,data=train, hue='season' , ax=axes[3])\n",
    "sns.pointplot(x='hour' ,y='count' ,data=train, hue='weather' , ax=axes[4]);"
   ]
  },
  {
   "cell_type": "markdown",
   "id": "d3d7e0eb",
   "metadata": {
    "papermill": {
     "duration": 0.041154,
     "end_time": "2022-07-04T16:02:01.799814",
     "exception": false,
     "start_time": "2022-07-04T16:02:01.758660",
     "status": "completed"
    },
    "tags": []
   },
   "source": [
    "#### 분석 결과 weather의 4번의 이상치를 제거하는게 성능이 더 좋았음 // weather == 4 제거"
   ]
  },
  {
   "cell_type": "markdown",
   "id": "110ee2dc",
   "metadata": {
    "papermill": {
     "duration": 0.040283,
     "end_time": "2022-07-04T16:02:01.881362",
     "exception": false,
     "start_time": "2022-07-04T16:02:01.841079",
     "status": "completed"
    },
    "tags": []
   },
   "source": [
    "## 회귀선을 포함한 산점도 그래프\n",
    "#### 수치형 데이터인 온도, 체감온도, 풍속, 습도별 대여 수량을 '회귀선을 포함한 산점도 그래프'로 그려봄\n",
    "#### 회귀선이 포함한 산점도 그래프는 수치형 데이터 간 상관관계를 파악하는데 사용함"
   ]
  },
  {
   "cell_type": "code",
   "execution_count": 28,
   "id": "282a889c",
   "metadata": {
    "execution": {
     "iopub.execute_input": "2022-07-04T16:02:01.966337Z",
     "iopub.status.busy": "2022-07-04T16:02:01.965639Z",
     "iopub.status.idle": "2022-07-04T16:02:05.409663Z",
     "shell.execute_reply": "2022-07-04T16:02:05.408440Z"
    },
    "papermill": {
     "duration": 3.489867,
     "end_time": "2022-07-04T16:02:05.412670",
     "exception": false,
     "start_time": "2022-07-04T16:02:01.922803",
     "status": "completed"
    },
    "tags": []
   },
   "outputs": [
    {
     "data": {
      "text/plain": [
       "<AxesSubplot:xlabel='humidity', ylabel='count'>"
      ]
     },
     "execution_count": 28,
     "metadata": {},
     "output_type": "execute_result"
    },
    {
     "data": {
      "image/png": "[encoded data removed]",
      "text/plain": [
       "<Figure size 504x432 with 4 Axes>"
      ]
     },
     "metadata": {
      "needs_background": "light"
     },
     "output_type": "display_data"
    }
   ],
   "source": [
    "# 아래 그래프는 seaborn의 regplot() 함수로 그릴 수 있음\n",
    "mpl.rc('font',size = 15)\n",
    "figure, axes = plt.subplots(nrows=2, ncols=2) # 2행 2열\n",
    "plt.tight_layout()\n",
    "figure.set_size_inches(7,6)\n",
    "\n",
    "# 스텝 2 : 서브플롯 할당\n",
    "# 온도, 체감온도, 풍속, 습도 별 대여 수량 산점도 그래프\n",
    "sns.regplot(x='temp', y='count', data=train, ax=axes[0,0],\n",
    "           scatter_kws={'alpha' : 0.2}, line_kws={'color' : 'blue'})\n",
    "sns.regplot(x='atemp', y='count', data=train, ax=axes[0,1],\n",
    "           scatter_kws={'alpha' : 0.2}, line_kws={'color' : 'blue'})\n",
    "sns.regplot(x='windspeed', y='count', data=train, ax=axes[1,0],\n",
    "           scatter_kws={'alpha' : 0.2}, line_kws={'color' : 'blue'})\n",
    "sns.regplot(x='humidity', y='count', data=train, ax=axes[1,1],\n",
    "           scatter_kws={'alpha' : 0.2}, line_kws={'color' : 'blue'})"
   ]
  },
  {
   "cell_type": "markdown",
   "id": "f7174794",
   "metadata": {
    "papermill": {
     "duration": 0.04264,
     "end_time": "2022-07-04T16:02:05.499204",
     "exception": false,
     "start_time": "2022-07-04T16:02:05.456564",
     "status": "completed"
    },
    "tags": []
   },
   "source": [
    "#### windspeed 회귀선을 보면 바람이 강할수록 많이 대여 수량이 많음 // 바람이 약할 수록 대여가 많을 것으로 예상 했음\n",
    "#### 회귀선이 예상과 다르게 그려진 이유는 windspeed 피처의 결측값이 많기 때문임.\n",
    "#### 자세히 보면 풍속이 0인 데이터가 많음. 실제로 풍속이 0이 아니라 관측치가 없거나 오류로 인해 0으로 기록되었을 가능성이 높음\n",
    "#### 결측값이 많아서 그래프만으로는 풍속과 대여 수량의 상관관계를 파악하기 힘듬. 결측값이 많은 데이터는 적절히 처리해야 함. // windspeed 피처 제거"
   ]
  },
  {
   "cell_type": "markdown",
   "id": "e964973f",
   "metadata": {
    "papermill": {
     "duration": 0.042292,
     "end_time": "2022-07-04T16:02:05.584414",
     "exception": false,
     "start_time": "2022-07-04T16:02:05.542122",
     "status": "completed"
    },
    "tags": []
   },
   "source": [
    "## 히트맵\n",
    "#### temp, atemp, humidity, windspped, count는 수치형 데이터임, 수치형 데이터끼리 어떤 상관 관계가 있는지 알아보려함.\n",
    "#### corr()함수는 DataFrame 내의 피처 간 상관계수를 반환함"
   ]
  },
  {
   "cell_type": "code",
   "execution_count": 29,
   "id": "69b259e8",
   "metadata": {
    "execution": {
     "iopub.execute_input": "2022-07-04T16:02:05.675387Z",
     "iopub.status.busy": "2022-07-04T16:02:05.674414Z",
     "iopub.status.idle": "2022-07-04T16:02:05.693649Z",
     "shell.execute_reply": "2022-07-04T16:02:05.692505Z"
    },
    "papermill": {
     "duration": 0.068321,
     "end_time": "2022-07-04T16:02:05.696086",
     "exception": false,
     "start_time": "2022-07-04T16:02:05.627765",
     "status": "completed"
    },
    "tags": []
   },
   "outputs": [
    {
     "data": {
      "text/html": [
       "<div>\n",
       "<style scoped>\n",
       "    .dataframe tbody tr th:only-of-type {\n",
       "        vertical-align: middle;\n",
       "    }\n",
       "\n",
       "    .dataframe tbody tr th {\n",
       "        vertical-align: top;\n",
       "    }\n",
       "\n",
       "    .dataframe thead th {\n",
       "        text-align: right;\n",
       "    }\n",
       "</style>\n",
       "<table border=\"1\" class=\"dataframe\">\n",
       "  <thead>\n",
       "    <tr style=\"text-align: right;\">\n",
       "      <th></th>\n",
       "      <th>temp</th>\n",
       "      <th>atemp</th>\n",
       "      <th>humidity</th>\n",
       "      <th>windspeed</th>\n",
       "      <th>count</th>\n",
       "    </tr>\n",
       "  </thead>\n",
       "  <tbody>\n",
       "    <tr>\n",
       "      <th>temp</th>\n",
       "      <td>1.000000</td>\n",
       "      <td>0.984948</td>\n",
       "      <td>-0.064949</td>\n",
       "      <td>-0.017852</td>\n",
       "      <td>0.394454</td>\n",
       "    </tr>\n",
       "    <tr>\n",
       "      <th>atemp</th>\n",
       "      <td>0.984948</td>\n",
       "      <td>1.000000</td>\n",
       "      <td>-0.043536</td>\n",
       "      <td>-0.057473</td>\n",
       "      <td>0.389784</td>\n",
       "    </tr>\n",
       "    <tr>\n",
       "      <th>humidity</th>\n",
       "      <td>-0.064949</td>\n",
       "      <td>-0.043536</td>\n",
       "      <td>1.000000</td>\n",
       "      <td>-0.318607</td>\n",
       "      <td>-0.317371</td>\n",
       "    </tr>\n",
       "    <tr>\n",
       "      <th>windspeed</th>\n",
       "      <td>-0.017852</td>\n",
       "      <td>-0.057473</td>\n",
       "      <td>-0.318607</td>\n",
       "      <td>1.000000</td>\n",
       "      <td>0.101369</td>\n",
       "    </tr>\n",
       "    <tr>\n",
       "      <th>count</th>\n",
       "      <td>0.394454</td>\n",
       "      <td>0.389784</td>\n",
       "      <td>-0.317371</td>\n",
       "      <td>0.101369</td>\n",
       "      <td>1.000000</td>\n",
       "    </tr>\n",
       "  </tbody>\n",
       "</table>\n",
       "</div>"
      ],
      "text/plain": [
       "               temp     atemp  humidity  windspeed     count\n",
       "temp       1.000000  0.984948 -0.064949  -0.017852  0.394454\n",
       "atemp      0.984948  1.000000 -0.043536  -0.057473  0.389784\n",
       "humidity  -0.064949 -0.043536  1.000000  -0.318607 -0.317371\n",
       "windspeed -0.017852 -0.057473 -0.318607   1.000000  0.101369\n",
       "count      0.394454  0.389784 -0.317371   0.101369  1.000000"
      ]
     },
     "execution_count": 29,
     "metadata": {},
     "output_type": "execute_result"
    }
   ],
   "source": [
    "train[['temp','atemp','humidity','windspeed','count']].corr()"
   ]
  },
  {
   "cell_type": "markdown",
   "id": "b10c6d24",
   "metadata": {
    "papermill": {
     "duration": 0.043618,
     "end_time": "2022-07-04T16:02:05.783042",
     "exception": false,
     "start_time": "2022-07-04T16:02:05.739424",
     "status": "completed"
    },
    "tags": []
   },
   "source": [
    "#### 하지만 조합이 많아 어느 피처들의 관계가 깊은지 한눈에 들어오지 않음.\n",
    "#### 히트맵(heatmap)이 필요한 순간임\n",
    "#### 히트맵은 데이터 간 관계를 색상으로 표현하여, 여러 데이터를 한눈에 비교하기에 좋음\n",
    "#### 히트맵은 seaborn의 heatmap()함수로 그릴 수 있음"
   ]
  },
  {
   "cell_type": "code",
   "execution_count": 30,
   "id": "b2e0bb25",
   "metadata": {
    "execution": {
     "iopub.execute_input": "2022-07-04T16:02:05.872047Z",
     "iopub.status.busy": "2022-07-04T16:02:05.871029Z",
     "iopub.status.idle": "2022-07-04T16:02:06.202446Z",
     "shell.execute_reply": "2022-07-04T16:02:06.201575Z"
    },
    "papermill": {
     "duration": 0.378189,
     "end_time": "2022-07-04T16:02:06.204709",
     "exception": false,
     "start_time": "2022-07-04T16:02:05.826520",
     "status": "completed"
    },
    "tags": []
   },
   "outputs": [
    {
     "data": {
      "image/png": "[encoded data removed]",
      "text/plain": [
       "<Figure size 720x720 with 2 Axes>"
      ]
     },
     "metadata": {
      "needs_background": "light"
     },
     "output_type": "display_data"
    }
   ],
   "source": [
    "# 피처간의 상관관계 매트릭스\n",
    "corrMat = train[['temp','atemp','humidity','windspeed','count']].corr()\n",
    "fig, ax = plt.subplots()\n",
    "fig.set_size_inches(10,10)\n",
    "sns.heatmap(corrMat, annot=True) # 상관관계 히트맵 그리기\n",
    "ax.set(title='Heatmap of Numerical Data');"
   ]
  },
  {
   "cell_type": "markdown",
   "id": "df3d3e4f",
   "metadata": {
    "papermill": {
     "duration": 0.043781,
     "end_time": "2022-07-04T16:02:06.292648",
     "exception": false,
     "start_time": "2022-07-04T16:02:06.248867",
     "status": "completed"
    },
    "tags": []
   },
   "source": [
    "#### corr() 함수로 구한 상관관계 매트릭스 corrMat를 heatmap()함수에 인수로 넣어주면 됨. // 이때 annot=Ture로 설정하면 상관계수가 숫자로 표시됨\n",
    "\n",
    "### 히트맵 해석\n",
    "#### 온도(temp)와 대여수량(count)간 상관계수는 0.39임. 양의 상관관계를 보임(온도가 높을수록 대여 수량이 많다는 뜻)\n",
    "#### 반면, 습도(humidity)와 대여 수량은 음수이니 습도가 '낮을수록' 대여 수량이 많다는 뜻 // 앞서 산점도 그래프에서 분석한 내용과 동일함\n",
    "#### 풍속과 대여수량의 상관계수는 0.1임, 상관관계가 매우 약함 // windspeed 피처는 대여 수량 예측에 별 도움을 주지 못할 것 같음. // 성능을 높이기 위해 모델링 시 windspeed 피처 제거\n",
    "#### 참고로 바로 앞의 '회귀선을 포함한 산점도 그래프' 절에서는 결측값이 많다는 이유로 같은 결로에 도달했었음"
   ]
  },
  {
   "cell_type": "markdown",
   "id": "86a6405f",
   "metadata": {
    "papermill": {
     "duration": 0.043925,
     "end_time": "2022-07-04T16:02:06.380293",
     "exception": false,
     "start_time": "2022-07-04T16:02:06.336368",
     "status": "completed"
    },
    "tags": []
   },
   "source": [
    "## 분석 정리 및 모델링 전략\n",
    "\n",
    "### 분석 정리\n",
    "#### 지금까지 다양한 측면에서 데이터를 살펴보았음. 분석 과정에서 파악한 주요 내용을 정리\n",
    "\n",
    "#### 1. 타깃값 변환 : 분포도 확인 결과 타깃값인 count가 0근처로 치우쳐 있으므로 로그변환하여 정규분포에 가깝게 만들어야 됨. 타깃값을 count가 아닌 log(count)로 변환해 사용 할 것이므로,\n",
    "#### 마지막에 다시 지수변환해 count로 복원해야 됨.\n",
    "\n",
    "#### 2. 파생 피처 추가 : datetime 피처는 여러 가지 정보의 혼합체이므로 각각을 분리해 year, month, day, hour, minute, second 피처를 생성할 수 있음.\n",
    "#### 3. 파생 피처 추가 : datetime에 숨어 있는 또 다른 정보인 요일(weekday) 피처를 추가.\n",
    "#### 4. 피처 제거 : 테스트 데이터에는 없는 피처는 훈련에 사용해도 큰 의미가 없음. 따라서 훈련 데이터에만 있는 casual과 registered 피처는 제거.\n",
    "#### 5. 피처 제거 : datetime 피처는 인덱스 역할만 하므로 타깃값 예측에 아무런 도움이 되지 않음\n",
    "#### 6. 피처 제거 : date 피처가 제공하는 정보는 year, month, day 피처에 담겨있음\n",
    "#### 7. 피처 제거 : month는 season 피처의 세부 분류로 볼 수 있음. 데이터가 지나치게 세분화 되어있으면 분류별 데이터 수가 적어서 오히려 학습에 방해가 되기도 함\n",
    "#### 8. 피처 제거 : 막대 그래프 확인 결과 파생 피처인 day는 분변력이 없음\n",
    "#### 9. 피처 제거 : 막대 그래프 확인 결과 파생 피처인 minute와 second에는 아무런 정보가 담겨있지 않음\n",
    "#### 10. 이상치 제거 : 포인트 플롯 확인 결과 weather가 4인 데이터는 이상치임.\n",
    "#### 11. 피치 제거 : 산점도 그래프와 히트맵 확인 결과 windspeed피처에는 결측값이 많고 대여 수량과의 상관관계는 매우 약함"
   ]
  },
  {
   "cell_type": "markdown",
   "id": "c9827ed6",
   "metadata": {
    "papermill": {
     "duration": 0.043967,
     "end_time": "2022-07-04T16:02:06.468775",
     "exception": false,
     "start_time": "2022-07-04T16:02:06.424808",
     "status": "completed"
    },
    "tags": []
   },
   "source": [
    "## 모델링 전략\n",
    "#### 경진대회에서 우수한 성적을 거두려면 본인만의 최적화된 모델을 구상해야 됨.\n",
    "##### (여기서는 익숙해지기 위해 사이킷런이 제공하는 기본적인 모델만 사용함, 차후 자신이 만든 모델이 최소한 기본 모델들 보다는 우수해야 대회에 참여한 의의가 있을테니 이번에는 익숙해지는데 중점을 둠)\n",
    "#### 베이스라인 모델 : 가장 기본적인 회귀 모델인 LinearRegression 채택\n",
    "#### 성능 개선 : 릿지, 라쏘, 랜덤 포레스트 회귀 모델\n",
    "#### 피처 엔지니어링 : 앞으 분석 수준에서 모든 모델에서 동일하게 수행\n",
    "#### 하이퍼파라미터 최적화 : 그리드서치\n",
    "#### 기타 : 타깃값이 count가 아닌 log(count)임\n",
    "\n",
    "#### //베이스라인 모델과 성능 개선 절들은 본 경진대회에서 추천수가 가장 많은 다음 노트북을 리팩터링하여 작성함\n",
    "##### 209,210p 참고"
   ]
  },
  {
   "cell_type": "markdown",
   "id": "70041e75",
   "metadata": {
    "papermill": {
     "duration": 0.043896,
     "end_time": "2022-07-04T16:02:06.556967",
     "exception": false,
     "start_time": "2022-07-04T16:02:06.513071",
     "status": "completed"
    },
    "tags": []
   },
   "source": [
    "## 베이스라인 모델\n",
    "#### 이번 절에서는 앞 절에서 추린 피처들을 활용해 베이스라인 모델을 훈련하고 결과를 제출할 예정\n",
    "#### 베이스라인 모델이란 뼈대가 되는 가장 기본적인 모델을 의미함.(여기서는 베이스라인 모델에서 출발해 성능을 점차 향상시키는 방향으로 모델링 할 것임\n",
    "#### 경진대회에 참가하다 보면 다른 참가자들이 베이스라인 모델을 공유 할 것임. 공유된 모델을 사용해도 되고, 직접 자신만의 모델을 만들어도 됨\n",
    "#### 이번 장에서는 사이킷런이 제공하는 기본 선형 회귀 모델을 베이스라인으로 사용 할 것임. 전체 프로세스는 다음과 같음\n",
    "### 데이터 불러오기 -> (기본적인)피처 엔지니어링 -> 평가지표 계산 함수 작성 -> 모델 훈련 -> 성능 검증 -> 제출"
   ]
  },
  {
   "cell_type": "code",
   "execution_count": 31,
   "id": "32bd59af",
   "metadata": {
    "execution": {
     "iopub.execute_input": "2022-07-04T16:02:06.646823Z",
     "iopub.status.busy": "2022-07-04T16:02:06.646435Z",
     "iopub.status.idle": "2022-07-04T16:02:06.693568Z",
     "shell.execute_reply": "2022-07-04T16:02:06.692605Z"
    },
    "papermill": {
     "duration": 0.094974,
     "end_time": "2022-07-04T16:02:06.695981",
     "exception": false,
     "start_time": "2022-07-04T16:02:06.601007",
     "status": "completed"
    },
    "tags": []
   },
   "outputs": [],
   "source": [
    "import pandas as pd\n",
    "# 데이터 경로\n",
    "\n",
    "data_path = '/kaggle/input/bike-sharing-demand/'\n",
    "\n",
    "train = pd.read_csv(data_path + 'train.csv')\n",
    "test = pd.read_csv(data_path + 'test.csv')\n",
    "submission = pd.read_csv(data_path + 'sampleSubmission.csv')"
   ]
  },
  {
   "cell_type": "markdown",
   "id": "ac4c588e",
   "metadata": {
    "papermill": {
     "duration": 0.046464,
     "end_time": "2022-07-04T16:02:06.787412",
     "exception": false,
     "start_time": "2022-07-04T16:02:06.740948",
     "status": "completed"
    },
    "tags": []
   },
   "source": [
    "## 피처 엔지니어링\n",
    "#### 데이터를 변환하는 작업// 보통은 훈련 데이터와 테스트 데이터에 공통으로 반영해야 하기 때문에, 피처 엔지니어링 전에 두 데이터를 합쳤다가 다 끝나면 도로 나눔\n",
    "##### 데이터를 합치기 전에 훈련 데이터에서 이상치 하나를 제거"
   ]
  },
  {
   "cell_type": "markdown",
   "id": "72b25118",
   "metadata": {
    "papermill": {
     "duration": 0.043681,
     "end_time": "2022-07-04T16:02:06.875655",
     "exception": false,
     "start_time": "2022-07-04T16:02:06.831974",
     "status": "completed"
    },
    "tags": []
   },
   "source": [
    "### 이상치 제거\n",
    "#### 앞서 포인트 플롯에서 확인 한 결과 훈련 데이터에서 weather가 4인 데이터(폭우 폭설이 내리는 날 저녁 6시에 대여)는 이상치였음. // 해당피처 제거"
   ]
  },
  {
   "cell_type": "code",
   "execution_count": 32,
   "id": "eb95538b",
   "metadata": {
    "execution": {
     "iopub.execute_input": "2022-07-04T16:02:06.968501Z",
     "iopub.status.busy": "2022-07-04T16:02:06.967849Z",
     "iopub.status.idle": "2022-07-04T16:02:06.975155Z",
     "shell.execute_reply": "2022-07-04T16:02:06.973966Z"
    },
    "papermill": {
     "duration": 0.057033,
     "end_time": "2022-07-04T16:02:06.977597",
     "exception": false,
     "start_time": "2022-07-04T16:02:06.920564",
     "status": "completed"
    },
    "tags": []
   },
   "outputs": [],
   "source": [
    "# 훈련 데이터에서 weater가 4가 아닌 데이터만 추출\n",
    "train = train[train['weather'] != 4]"
   ]
  },
  {
   "cell_type": "markdown",
   "id": "4260e5cb",
   "metadata": {
    "papermill": {
     "duration": 0.0442,
     "end_time": "2022-07-04T16:02:07.066150",
     "exception": false,
     "start_time": "2022-07-04T16:02:07.021950",
     "status": "completed"
    },
    "tags": []
   },
   "source": [
    "## 데이터 합치기 \n",
    "#### 훈련 데이터와 테스트 데이터에 같은 피쳐 엔지니어링을 적용하기 위해 두 데이터를 하나로 합침\n",
    "#### 판다스의 concat()함수를 사용하면 축을 따라 DataFrame을 이어붙일 수 있음\n",
    "#### 훈련 데아터는 10,886행, 테스트 데이터는 6,439행으로 구성되어 있음 합치면 17379행임.\n",
    "#### 앞서 weather가 4인 데이터는 제거했으니(1개 있음), 최종적으로 17378행이 됨."
   ]
  },
  {
   "cell_type": "code",
   "execution_count": 33,
   "id": "e4c90d80",
   "metadata": {
    "execution": {
     "iopub.execute_input": "2022-07-04T16:02:07.157742Z",
     "iopub.status.busy": "2022-07-04T16:02:07.156940Z",
     "iopub.status.idle": "2022-07-04T16:02:07.184875Z",
     "shell.execute_reply": "2022-07-04T16:02:07.184040Z"
    },
    "papermill": {
     "duration": 0.077223,
     "end_time": "2022-07-04T16:02:07.187046",
     "exception": false,
     "start_time": "2022-07-04T16:02:07.109823",
     "status": "completed"
    },
    "tags": []
   },
   "outputs": [
    {
     "data": {
      "text/html": [
       "<div>\n",
       "<style scoped>\n",
       "    .dataframe tbody tr th:only-of-type {\n",
       "        vertical-align: middle;\n",
       "    }\n",
       "\n",
       "    .dataframe tbody tr th {\n",
       "        vertical-align: top;\n",
       "    }\n",
       "\n",
       "    .dataframe thead th {\n",
       "        text-align: right;\n",
       "    }\n",
       "</style>\n",
       "<table border=\"1\" class=\"dataframe\">\n",
       "  <thead>\n",
       "    <tr style=\"text-align: right;\">\n",
       "      <th></th>\n",
       "      <th>datetime</th>\n",
       "      <th>season</th>\n",
       "      <th>holiday</th>\n",
       "      <th>workingday</th>\n",
       "      <th>weather</th>\n",
       "      <th>temp</th>\n",
       "      <th>atemp</th>\n",
       "      <th>humidity</th>\n",
       "      <th>windspeed</th>\n",
       "      <th>casual</th>\n",
       "      <th>registered</th>\n",
       "      <th>count</th>\n",
       "    </tr>\n",
       "  </thead>\n",
       "  <tbody>\n",
       "    <tr>\n",
       "      <th>0</th>\n",
       "      <td>2011-01-01 00:00:00</td>\n",
       "      <td>1</td>\n",
       "      <td>0</td>\n",
       "      <td>0</td>\n",
       "      <td>1</td>\n",
       "      <td>9.84</td>\n",
       "      <td>14.395</td>\n",
       "      <td>81</td>\n",
       "      <td>0.0000</td>\n",
       "      <td>3.0</td>\n",
       "      <td>13.0</td>\n",
       "      <td>16.0</td>\n",
       "    </tr>\n",
       "    <tr>\n",
       "      <th>1</th>\n",
       "      <td>2011-01-01 01:00:00</td>\n",
       "      <td>1</td>\n",
       "      <td>0</td>\n",
       "      <td>0</td>\n",
       "      <td>1</td>\n",
       "      <td>9.02</td>\n",
       "      <td>13.635</td>\n",
       "      <td>80</td>\n",
       "      <td>0.0000</td>\n",
       "      <td>8.0</td>\n",
       "      <td>32.0</td>\n",
       "      <td>40.0</td>\n",
       "    </tr>\n",
       "    <tr>\n",
       "      <th>2</th>\n",
       "      <td>2011-01-01 02:00:00</td>\n",
       "      <td>1</td>\n",
       "      <td>0</td>\n",
       "      <td>0</td>\n",
       "      <td>1</td>\n",
       "      <td>9.02</td>\n",
       "      <td>13.635</td>\n",
       "      <td>80</td>\n",
       "      <td>0.0000</td>\n",
       "      <td>5.0</td>\n",
       "      <td>27.0</td>\n",
       "      <td>32.0</td>\n",
       "    </tr>\n",
       "    <tr>\n",
       "      <th>3</th>\n",
       "      <td>2011-01-01 03:00:00</td>\n",
       "      <td>1</td>\n",
       "      <td>0</td>\n",
       "      <td>0</td>\n",
       "      <td>1</td>\n",
       "      <td>9.84</td>\n",
       "      <td>14.395</td>\n",
       "      <td>75</td>\n",
       "      <td>0.0000</td>\n",
       "      <td>3.0</td>\n",
       "      <td>10.0</td>\n",
       "      <td>13.0</td>\n",
       "    </tr>\n",
       "    <tr>\n",
       "      <th>4</th>\n",
       "      <td>2011-01-01 04:00:00</td>\n",
       "      <td>1</td>\n",
       "      <td>0</td>\n",
       "      <td>0</td>\n",
       "      <td>1</td>\n",
       "      <td>9.84</td>\n",
       "      <td>14.395</td>\n",
       "      <td>75</td>\n",
       "      <td>0.0000</td>\n",
       "      <td>0.0</td>\n",
       "      <td>1.0</td>\n",
       "      <td>1.0</td>\n",
       "    </tr>\n",
       "    <tr>\n",
       "      <th>...</th>\n",
       "      <td>...</td>\n",
       "      <td>...</td>\n",
       "      <td>...</td>\n",
       "      <td>...</td>\n",
       "      <td>...</td>\n",
       "      <td>...</td>\n",
       "      <td>...</td>\n",
       "      <td>...</td>\n",
       "      <td>...</td>\n",
       "      <td>...</td>\n",
       "      <td>...</td>\n",
       "      <td>...</td>\n",
       "    </tr>\n",
       "    <tr>\n",
       "      <th>6488</th>\n",
       "      <td>2012-12-31 19:00:00</td>\n",
       "      <td>1</td>\n",
       "      <td>0</td>\n",
       "      <td>1</td>\n",
       "      <td>2</td>\n",
       "      <td>10.66</td>\n",
       "      <td>12.880</td>\n",
       "      <td>60</td>\n",
       "      <td>11.0014</td>\n",
       "      <td>NaN</td>\n",
       "      <td>NaN</td>\n",
       "      <td>NaN</td>\n",
       "    </tr>\n",
       "    <tr>\n",
       "      <th>6489</th>\n",
       "      <td>2012-12-31 20:00:00</td>\n",
       "      <td>1</td>\n",
       "      <td>0</td>\n",
       "      <td>1</td>\n",
       "      <td>2</td>\n",
       "      <td>10.66</td>\n",
       "      <td>12.880</td>\n",
       "      <td>60</td>\n",
       "      <td>11.0014</td>\n",
       "      <td>NaN</td>\n",
       "      <td>NaN</td>\n",
       "      <td>NaN</td>\n",
       "    </tr>\n",
       "    <tr>\n",
       "      <th>6490</th>\n",
       "      <td>2012-12-31 21:00:00</td>\n",
       "      <td>1</td>\n",
       "      <td>0</td>\n",
       "      <td>1</td>\n",
       "      <td>1</td>\n",
       "      <td>10.66</td>\n",
       "      <td>12.880</td>\n",
       "      <td>60</td>\n",
       "      <td>11.0014</td>\n",
       "      <td>NaN</td>\n",
       "      <td>NaN</td>\n",
       "      <td>NaN</td>\n",
       "    </tr>\n",
       "    <tr>\n",
       "      <th>6491</th>\n",
       "      <td>2012-12-31 22:00:00</td>\n",
       "      <td>1</td>\n",
       "      <td>0</td>\n",
       "      <td>1</td>\n",
       "      <td>1</td>\n",
       "      <td>10.66</td>\n",
       "      <td>13.635</td>\n",
       "      <td>56</td>\n",
       "      <td>8.9981</td>\n",
       "      <td>NaN</td>\n",
       "      <td>NaN</td>\n",
       "      <td>NaN</td>\n",
       "    </tr>\n",
       "    <tr>\n",
       "      <th>6492</th>\n",
       "      <td>2012-12-31 23:00:00</td>\n",
       "      <td>1</td>\n",
       "      <td>0</td>\n",
       "      <td>1</td>\n",
       "      <td>1</td>\n",
       "      <td>10.66</td>\n",
       "      <td>13.635</td>\n",
       "      <td>65</td>\n",
       "      <td>8.9981</td>\n",
       "      <td>NaN</td>\n",
       "      <td>NaN</td>\n",
       "      <td>NaN</td>\n",
       "    </tr>\n",
       "  </tbody>\n",
       "</table>\n",
       "<p>17378 rows × 12 columns</p>\n",
       "</div>"
      ],
      "text/plain": [
       "                 datetime  season  holiday  workingday  weather   temp  \\\n",
       "0     2011-01-01 00:00:00       1        0           0        1   9.84   \n",
       "1     2011-01-01 01:00:00       1        0           0        1   9.02   \n",
       "2     2011-01-01 02:00:00       1        0           0        1   9.02   \n",
       "3     2011-01-01 03:00:00       1        0           0        1   9.84   \n",
       "4     2011-01-01 04:00:00       1        0           0        1   9.84   \n",
       "...                   ...     ...      ...         ...      ...    ...   \n",
       "6488  2012-12-31 19:00:00       1        0           1        2  10.66   \n",
       "6489  2012-12-31 20:00:00       1        0           1        2  10.66   \n",
       "6490  2012-12-31 21:00:00       1        0           1        1  10.66   \n",
       "6491  2012-12-31 22:00:00       1        0           1        1  10.66   \n",
       "6492  2012-12-31 23:00:00       1        0           1        1  10.66   \n",
       "\n",
       "       atemp  humidity  windspeed  casual  registered  count  \n",
       "0     14.395        81     0.0000     3.0        13.0   16.0  \n",
       "1     13.635        80     0.0000     8.0        32.0   40.0  \n",
       "2     13.635        80     0.0000     5.0        27.0   32.0  \n",
       "3     14.395        75     0.0000     3.0        10.0   13.0  \n",
       "4     14.395        75     0.0000     0.0         1.0    1.0  \n",
       "...      ...       ...        ...     ...         ...    ...  \n",
       "6488  12.880        60    11.0014     NaN         NaN    NaN  \n",
       "6489  12.880        60    11.0014     NaN         NaN    NaN  \n",
       "6490  12.880        60    11.0014     NaN         NaN    NaN  \n",
       "6491  13.635        56     8.9981     NaN         NaN    NaN  \n",
       "6492  13.635        65     8.9981     NaN         NaN    NaN  \n",
       "\n",
       "[17378 rows x 12 columns]"
      ]
     },
     "execution_count": 33,
     "metadata": {},
     "output_type": "execute_result"
    }
   ],
   "source": [
    "# 제대로 합쳐졌는지 확인\n",
    "all_data_temp = pd.concat([train, test])\n",
    "all_data_temp"
   ]
  },
  {
   "cell_type": "markdown",
   "id": "d29cf83d",
   "metadata": {
    "papermill": {
     "duration": 0.045378,
     "end_time": "2022-07-04T16:02:07.277059",
     "exception": false,
     "start_time": "2022-07-04T16:02:07.231681",
     "status": "completed"
    },
    "tags": []
   },
   "source": [
    "### 총 17378개의 행인데 인덱스가 6492까지 밖에 안보임(그림에서는 중간과정이 생략되어있고, 실제로는 0부터 10885까지 매기고, 다시 0부터 6,492까지 매긴 결과임(중간에 앞서 제거한 인덱스도 있음\n",
    "### 원래 데이터의 인덱스를 무시하고 이어붙이려면 ignore_index = True를 전달하면 됨"
   ]
  },
  {
   "cell_type": "code",
   "execution_count": 34,
   "id": "099085c0",
   "metadata": {
    "execution": {
     "iopub.execute_input": "2022-07-04T16:02:07.368492Z",
     "iopub.status.busy": "2022-07-04T16:02:07.367694Z",
     "iopub.status.idle": "2022-07-04T16:02:07.395597Z",
     "shell.execute_reply": "2022-07-04T16:02:07.394502Z"
    },
    "papermill": {
     "duration": 0.076075,
     "end_time": "2022-07-04T16:02:07.397950",
     "exception": false,
     "start_time": "2022-07-04T16:02:07.321875",
     "status": "completed"
    },
    "tags": []
   },
   "outputs": [
    {
     "data": {
      "text/html": [
       "<div>\n",
       "<style scoped>\n",
       "    .dataframe tbody tr th:only-of-type {\n",
       "        vertical-align: middle;\n",
       "    }\n",
       "\n",
       "    .dataframe tbody tr th {\n",
       "        vertical-align: top;\n",
       "    }\n",
       "\n",
       "    .dataframe thead th {\n",
       "        text-align: right;\n",
       "    }\n",
       "</style>\n",
       "<table border=\"1\" class=\"dataframe\">\n",
       "  <thead>\n",
       "    <tr style=\"text-align: right;\">\n",
       "      <th></th>\n",
       "      <th>datetime</th>\n",
       "      <th>season</th>\n",
       "      <th>holiday</th>\n",
       "      <th>workingday</th>\n",
       "      <th>weather</th>\n",
       "      <th>temp</th>\n",
       "      <th>atemp</th>\n",
       "      <th>humidity</th>\n",
       "      <th>windspeed</th>\n",
       "      <th>casual</th>\n",
       "      <th>registered</th>\n",
       "      <th>count</th>\n",
       "    </tr>\n",
       "  </thead>\n",
       "  <tbody>\n",
       "    <tr>\n",
       "      <th>0</th>\n",
       "      <td>2011-01-01 00:00:00</td>\n",
       "      <td>1</td>\n",
       "      <td>0</td>\n",
       "      <td>0</td>\n",
       "      <td>1</td>\n",
       "      <td>9.84</td>\n",
       "      <td>14.395</td>\n",
       "      <td>81</td>\n",
       "      <td>0.0000</td>\n",
       "      <td>3.0</td>\n",
       "      <td>13.0</td>\n",
       "      <td>16.0</td>\n",
       "    </tr>\n",
       "    <tr>\n",
       "      <th>1</th>\n",
       "      <td>2011-01-01 01:00:00</td>\n",
       "      <td>1</td>\n",
       "      <td>0</td>\n",
       "      <td>0</td>\n",
       "      <td>1</td>\n",
       "      <td>9.02</td>\n",
       "      <td>13.635</td>\n",
       "      <td>80</td>\n",
       "      <td>0.0000</td>\n",
       "      <td>8.0</td>\n",
       "      <td>32.0</td>\n",
       "      <td>40.0</td>\n",
       "    </tr>\n",
       "    <tr>\n",
       "      <th>2</th>\n",
       "      <td>2011-01-01 02:00:00</td>\n",
       "      <td>1</td>\n",
       "      <td>0</td>\n",
       "      <td>0</td>\n",
       "      <td>1</td>\n",
       "      <td>9.02</td>\n",
       "      <td>13.635</td>\n",
       "      <td>80</td>\n",
       "      <td>0.0000</td>\n",
       "      <td>5.0</td>\n",
       "      <td>27.0</td>\n",
       "      <td>32.0</td>\n",
       "    </tr>\n",
       "    <tr>\n",
       "      <th>3</th>\n",
       "      <td>2011-01-01 03:00:00</td>\n",
       "      <td>1</td>\n",
       "      <td>0</td>\n",
       "      <td>0</td>\n",
       "      <td>1</td>\n",
       "      <td>9.84</td>\n",
       "      <td>14.395</td>\n",
       "      <td>75</td>\n",
       "      <td>0.0000</td>\n",
       "      <td>3.0</td>\n",
       "      <td>10.0</td>\n",
       "      <td>13.0</td>\n",
       "    </tr>\n",
       "    <tr>\n",
       "      <th>4</th>\n",
       "      <td>2011-01-01 04:00:00</td>\n",
       "      <td>1</td>\n",
       "      <td>0</td>\n",
       "      <td>0</td>\n",
       "      <td>1</td>\n",
       "      <td>9.84</td>\n",
       "      <td>14.395</td>\n",
       "      <td>75</td>\n",
       "      <td>0.0000</td>\n",
       "      <td>0.0</td>\n",
       "      <td>1.0</td>\n",
       "      <td>1.0</td>\n",
       "    </tr>\n",
       "    <tr>\n",
       "      <th>...</th>\n",
       "      <td>...</td>\n",
       "      <td>...</td>\n",
       "      <td>...</td>\n",
       "      <td>...</td>\n",
       "      <td>...</td>\n",
       "      <td>...</td>\n",
       "      <td>...</td>\n",
       "      <td>...</td>\n",
       "      <td>...</td>\n",
       "      <td>...</td>\n",
       "      <td>...</td>\n",
       "      <td>...</td>\n",
       "    </tr>\n",
       "    <tr>\n",
       "      <th>17373</th>\n",
       "      <td>2012-12-31 19:00:00</td>\n",
       "      <td>1</td>\n",
       "      <td>0</td>\n",
       "      <td>1</td>\n",
       "      <td>2</td>\n",
       "      <td>10.66</td>\n",
       "      <td>12.880</td>\n",
       "      <td>60</td>\n",
       "      <td>11.0014</td>\n",
       "      <td>NaN</td>\n",
       "      <td>NaN</td>\n",
       "      <td>NaN</td>\n",
       "    </tr>\n",
       "    <tr>\n",
       "      <th>17374</th>\n",
       "      <td>2012-12-31 20:00:00</td>\n",
       "      <td>1</td>\n",
       "      <td>0</td>\n",
       "      <td>1</td>\n",
       "      <td>2</td>\n",
       "      <td>10.66</td>\n",
       "      <td>12.880</td>\n",
       "      <td>60</td>\n",
       "      <td>11.0014</td>\n",
       "      <td>NaN</td>\n",
       "      <td>NaN</td>\n",
       "      <td>NaN</td>\n",
       "    </tr>\n",
       "    <tr>\n",
       "      <th>17375</th>\n",
       "      <td>2012-12-31 21:00:00</td>\n",
       "      <td>1</td>\n",
       "      <td>0</td>\n",
       "      <td>1</td>\n",
       "      <td>1</td>\n",
       "      <td>10.66</td>\n",
       "      <td>12.880</td>\n",
       "      <td>60</td>\n",
       "      <td>11.0014</td>\n",
       "      <td>NaN</td>\n",
       "      <td>NaN</td>\n",
       "      <td>NaN</td>\n",
       "    </tr>\n",
       "    <tr>\n",
       "      <th>17376</th>\n",
       "      <td>2012-12-31 22:00:00</td>\n",
       "      <td>1</td>\n",
       "      <td>0</td>\n",
       "      <td>1</td>\n",
       "      <td>1</td>\n",
       "      <td>10.66</td>\n",
       "      <td>13.635</td>\n",
       "      <td>56</td>\n",
       "      <td>8.9981</td>\n",
       "      <td>NaN</td>\n",
       "      <td>NaN</td>\n",
       "      <td>NaN</td>\n",
       "    </tr>\n",
       "    <tr>\n",
       "      <th>17377</th>\n",
       "      <td>2012-12-31 23:00:00</td>\n",
       "      <td>1</td>\n",
       "      <td>0</td>\n",
       "      <td>1</td>\n",
       "      <td>1</td>\n",
       "      <td>10.66</td>\n",
       "      <td>13.635</td>\n",
       "      <td>65</td>\n",
       "      <td>8.9981</td>\n",
       "      <td>NaN</td>\n",
       "      <td>NaN</td>\n",
       "      <td>NaN</td>\n",
       "    </tr>\n",
       "  </tbody>\n",
       "</table>\n",
       "<p>17378 rows × 12 columns</p>\n",
       "</div>"
      ],
      "text/plain": [
       "                  datetime  season  holiday  workingday  weather   temp  \\\n",
       "0      2011-01-01 00:00:00       1        0           0        1   9.84   \n",
       "1      2011-01-01 01:00:00       1        0           0        1   9.02   \n",
       "2      2011-01-01 02:00:00       1        0           0        1   9.02   \n",
       "3      2011-01-01 03:00:00       1        0           0        1   9.84   \n",
       "4      2011-01-01 04:00:00       1        0           0        1   9.84   \n",
       "...                    ...     ...      ...         ...      ...    ...   \n",
       "17373  2012-12-31 19:00:00       1        0           1        2  10.66   \n",
       "17374  2012-12-31 20:00:00       1        0           1        2  10.66   \n",
       "17375  2012-12-31 21:00:00       1        0           1        1  10.66   \n",
       "17376  2012-12-31 22:00:00       1        0           1        1  10.66   \n",
       "17377  2012-12-31 23:00:00       1        0           1        1  10.66   \n",
       "\n",
       "        atemp  humidity  windspeed  casual  registered  count  \n",
       "0      14.395        81     0.0000     3.0        13.0   16.0  \n",
       "1      13.635        80     0.0000     8.0        32.0   40.0  \n",
       "2      13.635        80     0.0000     5.0        27.0   32.0  \n",
       "3      14.395        75     0.0000     3.0        10.0   13.0  \n",
       "4      14.395        75     0.0000     0.0         1.0    1.0  \n",
       "...       ...       ...        ...     ...         ...    ...  \n",
       "17373  12.880        60    11.0014     NaN         NaN    NaN  \n",
       "17374  12.880        60    11.0014     NaN         NaN    NaN  \n",
       "17375  12.880        60    11.0014     NaN         NaN    NaN  \n",
       "17376  13.635        56     8.9981     NaN         NaN    NaN  \n",
       "17377  13.635        65     8.9981     NaN         NaN    NaN  \n",
       "\n",
       "[17378 rows x 12 columns]"
      ]
     },
     "execution_count": 34,
     "metadata": {},
     "output_type": "execute_result"
    }
   ],
   "source": [
    "all_data = pd.concat([train, test],ignore_index=True)\n",
    "all_data"
   ]
  },
  {
   "cell_type": "markdown",
   "id": "85e7808c",
   "metadata": {
    "execution": {
     "iopub.execute_input": "2022-06-30T07:48:37.055161Z",
     "iopub.status.busy": "2022-06-30T07:48:37.054259Z",
     "iopub.status.idle": "2022-06-30T07:48:37.060948Z",
     "shell.execute_reply": "2022-06-30T07:48:37.059831Z",
     "shell.execute_reply.started": "2022-06-30T07:48:37.055127Z"
    },
    "papermill": {
     "duration": 0.044449,
     "end_time": "2022-07-04T16:02:07.488786",
     "exception": false,
     "start_time": "2022-07-04T16:02:07.444337",
     "status": "completed"
    },
    "tags": []
   },
   "source": [
    "#### 인덱스가 0부터 17377까지 출력된것을 확인 할 수 있음\n",
    "#### 테스트 데이터에 casual, registered 피처와 count 타깃값이 없으므로 NaN으로 표시된 것도 볼 수 있음."
   ]
  },
  {
   "cell_type": "markdown",
   "id": "c4db9609",
   "metadata": {
    "papermill": {
     "duration": 0.044126,
     "end_time": "2022-07-04T16:02:07.577596",
     "exception": false,
     "start_time": "2022-07-04T16:02:07.533470",
     "status": "completed"
    },
    "tags": []
   },
   "source": [
    "## 파생 피처(변수) 추가\n",
    "#### 이전에 다룬 피처 엔지니어링(파생 피처 추가)을 비슷한 방식으로 적용"
   ]
  },
  {
   "cell_type": "code",
   "execution_count": 35,
   "id": "636aa0e4",
   "metadata": {
    "execution": {
     "iopub.execute_input": "2022-07-04T16:02:07.671053Z",
     "iopub.status.busy": "2022-07-04T16:02:07.670655Z",
     "iopub.status.idle": "2022-07-04T16:02:07.956522Z",
     "shell.execute_reply": "2022-07-04T16:02:07.955267Z"
    },
    "papermill": {
     "duration": 0.336855,
     "end_time": "2022-07-04T16:02:07.959523",
     "exception": false,
     "start_time": "2022-07-04T16:02:07.622668",
     "status": "completed"
    },
    "scrolled": true,
    "tags": []
   },
   "outputs": [],
   "source": [
    "from datetime import datetime\n",
    "\n",
    "#날짜 피처 생성\n",
    "all_data['date'] = all_data['datetime'].apply(lambda x:x.split()[0])\n",
    "\n",
    "#연도 피처 생성\n",
    "all_data['year'] = all_data['datetime'].apply(lambda x:x.split()[0].split('-')[0])\n",
    "\n",
    "#월 피처 생성\n",
    "all_data['month'] = all_data['datetime'].apply(lambda x:x.split()[0].split('-')[1])\n",
    "\n",
    "#시 피처 생성\n",
    "all_data['hour'] = all_data['datetime'].apply(lambda x:x.split()[1].split(':')[0])\n",
    "\n",
    "#요일 피처 생성\n",
    "all_data['weekday'] = all_data['date'].apply(lambda dateString : datetime.strptime(dateString,\"%Y-%m-%d\").weekday())"
   ]
  },
  {
   "cell_type": "code",
   "execution_count": 36,
   "id": "52e48e92",
   "metadata": {
    "execution": {
     "iopub.execute_input": "2022-07-04T16:02:08.051934Z",
     "iopub.status.busy": "2022-07-04T16:02:08.051072Z",
     "iopub.status.idle": "2022-07-04T16:02:08.073649Z",
     "shell.execute_reply": "2022-07-04T16:02:08.072621Z"
    },
    "papermill": {
     "duration": 0.071251,
     "end_time": "2022-07-04T16:02:08.075791",
     "exception": false,
     "start_time": "2022-07-04T16:02:08.004540",
     "status": "completed"
    },
    "tags": []
   },
   "outputs": [
    {
     "data": {
      "text/html": [
       "<div>\n",
       "<style scoped>\n",
       "    .dataframe tbody tr th:only-of-type {\n",
       "        vertical-align: middle;\n",
       "    }\n",
       "\n",
       "    .dataframe tbody tr th {\n",
       "        vertical-align: top;\n",
       "    }\n",
       "\n",
       "    .dataframe thead th {\n",
       "        text-align: right;\n",
       "    }\n",
       "</style>\n",
       "<table border=\"1\" class=\"dataframe\">\n",
       "  <thead>\n",
       "    <tr style=\"text-align: right;\">\n",
       "      <th></th>\n",
       "      <th>datetime</th>\n",
       "      <th>season</th>\n",
       "      <th>holiday</th>\n",
       "      <th>workingday</th>\n",
       "      <th>weather</th>\n",
       "      <th>temp</th>\n",
       "      <th>atemp</th>\n",
       "      <th>humidity</th>\n",
       "      <th>windspeed</th>\n",
       "      <th>casual</th>\n",
       "      <th>registered</th>\n",
       "      <th>count</th>\n",
       "      <th>date</th>\n",
       "      <th>year</th>\n",
       "      <th>month</th>\n",
       "      <th>hour</th>\n",
       "      <th>weekday</th>\n",
       "    </tr>\n",
       "  </thead>\n",
       "  <tbody>\n",
       "    <tr>\n",
       "      <th>0</th>\n",
       "      <td>2011-01-01 00:00:00</td>\n",
       "      <td>1</td>\n",
       "      <td>0</td>\n",
       "      <td>0</td>\n",
       "      <td>1</td>\n",
       "      <td>9.84</td>\n",
       "      <td>14.395</td>\n",
       "      <td>81</td>\n",
       "      <td>0.0</td>\n",
       "      <td>3.0</td>\n",
       "      <td>13.0</td>\n",
       "      <td>16.0</td>\n",
       "      <td>2011-01-01</td>\n",
       "      <td>2011</td>\n",
       "      <td>01</td>\n",
       "      <td>00</td>\n",
       "      <td>5</td>\n",
       "    </tr>\n",
       "    <tr>\n",
       "      <th>1</th>\n",
       "      <td>2011-01-01 01:00:00</td>\n",
       "      <td>1</td>\n",
       "      <td>0</td>\n",
       "      <td>0</td>\n",
       "      <td>1</td>\n",
       "      <td>9.02</td>\n",
       "      <td>13.635</td>\n",
       "      <td>80</td>\n",
       "      <td>0.0</td>\n",
       "      <td>8.0</td>\n",
       "      <td>32.0</td>\n",
       "      <td>40.0</td>\n",
       "      <td>2011-01-01</td>\n",
       "      <td>2011</td>\n",
       "      <td>01</td>\n",
       "      <td>01</td>\n",
       "      <td>5</td>\n",
       "    </tr>\n",
       "    <tr>\n",
       "      <th>2</th>\n",
       "      <td>2011-01-01 02:00:00</td>\n",
       "      <td>1</td>\n",
       "      <td>0</td>\n",
       "      <td>0</td>\n",
       "      <td>1</td>\n",
       "      <td>9.02</td>\n",
       "      <td>13.635</td>\n",
       "      <td>80</td>\n",
       "      <td>0.0</td>\n",
       "      <td>5.0</td>\n",
       "      <td>27.0</td>\n",
       "      <td>32.0</td>\n",
       "      <td>2011-01-01</td>\n",
       "      <td>2011</td>\n",
       "      <td>01</td>\n",
       "      <td>02</td>\n",
       "      <td>5</td>\n",
       "    </tr>\n",
       "    <tr>\n",
       "      <th>3</th>\n",
       "      <td>2011-01-01 03:00:00</td>\n",
       "      <td>1</td>\n",
       "      <td>0</td>\n",
       "      <td>0</td>\n",
       "      <td>1</td>\n",
       "      <td>9.84</td>\n",
       "      <td>14.395</td>\n",
       "      <td>75</td>\n",
       "      <td>0.0</td>\n",
       "      <td>3.0</td>\n",
       "      <td>10.0</td>\n",
       "      <td>13.0</td>\n",
       "      <td>2011-01-01</td>\n",
       "      <td>2011</td>\n",
       "      <td>01</td>\n",
       "      <td>03</td>\n",
       "      <td>5</td>\n",
       "    </tr>\n",
       "    <tr>\n",
       "      <th>4</th>\n",
       "      <td>2011-01-01 04:00:00</td>\n",
       "      <td>1</td>\n",
       "      <td>0</td>\n",
       "      <td>0</td>\n",
       "      <td>1</td>\n",
       "      <td>9.84</td>\n",
       "      <td>14.395</td>\n",
       "      <td>75</td>\n",
       "      <td>0.0</td>\n",
       "      <td>0.0</td>\n",
       "      <td>1.0</td>\n",
       "      <td>1.0</td>\n",
       "      <td>2011-01-01</td>\n",
       "      <td>2011</td>\n",
       "      <td>01</td>\n",
       "      <td>04</td>\n",
       "      <td>5</td>\n",
       "    </tr>\n",
       "  </tbody>\n",
       "</table>\n",
       "</div>"
      ],
      "text/plain": [
       "              datetime  season  holiday  workingday  weather  temp   atemp  \\\n",
       "0  2011-01-01 00:00:00       1        0           0        1  9.84  14.395   \n",
       "1  2011-01-01 01:00:00       1        0           0        1  9.02  13.635   \n",
       "2  2011-01-01 02:00:00       1        0           0        1  9.02  13.635   \n",
       "3  2011-01-01 03:00:00       1        0           0        1  9.84  14.395   \n",
       "4  2011-01-01 04:00:00       1        0           0        1  9.84  14.395   \n",
       "\n",
       "   humidity  windspeed  casual  registered  count        date  year month  \\\n",
       "0        81        0.0     3.0        13.0   16.0  2011-01-01  2011    01   \n",
       "1        80        0.0     8.0        32.0   40.0  2011-01-01  2011    01   \n",
       "2        80        0.0     5.0        27.0   32.0  2011-01-01  2011    01   \n",
       "3        75        0.0     3.0        10.0   13.0  2011-01-01  2011    01   \n",
       "4        75        0.0     0.0         1.0    1.0  2011-01-01  2011    01   \n",
       "\n",
       "  hour  weekday  \n",
       "0   00        5  \n",
       "1   01        5  \n",
       "2   02        5  \n",
       "3   03        5  \n",
       "4   04        5  "
      ]
     },
     "execution_count": 36,
     "metadata": {},
     "output_type": "execute_result"
    }
   ],
   "source": [
    "all_data.head()"
   ]
  },
  {
   "cell_type": "markdown",
   "id": "e2c5fc4f",
   "metadata": {
    "papermill": {
     "duration": 0.05128,
     "end_time": "2022-07-04T16:02:08.171933",
     "exception": false,
     "start_time": "2022-07-04T16:02:08.120653",
     "status": "completed"
    },
    "tags": []
   },
   "source": [
    "### 훈련 데이터는 매달 1일부터 19일까지의 기록이고, 테스트 데이터는 매달 20일부터 월말까지의 기록임\n",
    "### 그러므로 대여 수량을 예측할 때 일(day) 피처는 사용 할 필요가 없음, minute와 second 피처도 모든 기록에서 값이 같으므로 예측에 사용 할 필요가 없음\n",
    "### 그래서 day, minute, second는 피처로 생성하지 않았음"
   ]
  },
  {
   "cell_type": "markdown",
   "id": "e67304ea",
   "metadata": {
    "papermill": {
     "duration": 0.049989,
     "end_time": "2022-07-04T16:02:08.280406",
     "exception": false,
     "start_time": "2022-07-04T16:02:08.230417",
     "status": "completed"
    },
    "tags": []
   },
   "source": [
    "## 필요 없는 피처 제거\n",
    "#### casual과 registered 피처는 테스트 데이터에 없는 피처이므로 제거\n",
    "#### datetime 피처는 인덱스 역할이고, date 피처가 갖는 정보는 다른 피처들(year, month, day)에도 담겨 있기 때문에 datetime과 date 피처도 필요 없음\n",
    "#### season 피처가 month의 대분류 성격이라서 month 피처도 제거 windspeed도 타깃값과 상관관계가 약해서 제거"
   ]
  },
  {
   "cell_type": "code",
   "execution_count": 37,
   "id": "f214f224",
   "metadata": {
    "execution": {
     "iopub.execute_input": "2022-07-04T16:02:08.372342Z",
     "iopub.status.busy": "2022-07-04T16:02:08.371599Z",
     "iopub.status.idle": "2022-07-04T16:02:08.382204Z",
     "shell.execute_reply": "2022-07-04T16:02:08.381213Z"
    },
    "papermill": {
     "duration": 0.059458,
     "end_time": "2022-07-04T16:02:08.384659",
     "exception": false,
     "start_time": "2022-07-04T16:02:08.325201",
     "status": "completed"
    },
    "tags": []
   },
   "outputs": [],
   "source": [
    "drop_features = ['casual','registered','datetime','date','windspeed','month']\n",
    "\n",
    "all_data = all_data.drop(drop_features, axis=1)"
   ]
  },
  {
   "cell_type": "markdown",
   "id": "388d7c53",
   "metadata": {
    "papermill": {
     "duration": 0.045178,
     "end_time": "2022-07-04T16:02:08.475220",
     "exception": false,
     "start_time": "2022-07-04T16:02:08.430042",
     "status": "completed"
    },
    "tags": []
   },
   "source": [
    "### casual, registered, datetime, date, windspeed, month 피처 제거\n",
    "##### 필요없는 피처를 제거함으로써 모델링할 때 사용할 피처를 모두 선별했음 // 탐색적 데이터 분석에서 얻은 인사이트를 활용해 의미 있는 피처와 불필요한 피처를 구분\n",
    "##### 이러한 과정을 피처 선택이라 함\n",
    "\n",
    "#### 피처 선택이란 모델링시 데이터의 특징을 잘 나타내는 주요 피처만 선택하는 작업을 피처 선택이라고 함 // 피처 선택은 머신러닝 모델 성능에 큰 영향을 줌.\n",
    "#### 타깃값 예측과 관련 없는 피처가 많으면 오히려 예측 성능이 떨어짐 피처가 만다고 무조건 좋은건 아님 // 성능을 올리려면 관련있는 피처가 필요\n",
    "#### 피처 선택에는 정답이 없음 -> 어떤 피처를 선택해야 가장 좋을지 바로 알 방법은 없음 -> 탐색적 데이터 분석, 피처 중요도 -> 상관관계 매트릭스 등을 활용해 종합적으로 판단해야 함"
   ]
  },
  {
   "cell_type": "markdown",
   "id": "26c550bc",
   "metadata": {
    "papermill": {
     "duration": 0.044434,
     "end_time": "2022-07-04T16:02:08.565787",
     "exception": false,
     "start_time": "2022-07-04T16:02:08.521353",
     "status": "completed"
    },
    "tags": []
   },
   "source": [
    "## 데이터 나누기\n",
    "#### 모든 피처 엔지니어링을 적용했으므로 훈련 데이터와 테스트 데이터를 다시 나눔"
   ]
  },
  {
   "cell_type": "code",
   "execution_count": 38,
   "id": "5995ecd1",
   "metadata": {
    "execution": {
     "iopub.execute_input": "2022-07-04T16:02:08.657800Z",
     "iopub.status.busy": "2022-07-04T16:02:08.657372Z",
     "iopub.status.idle": "2022-07-04T16:02:08.665931Z",
     "shell.execute_reply": "2022-07-04T16:02:08.664998Z"
    },
    "papermill": {
     "duration": 0.057743,
     "end_time": "2022-07-04T16:02:08.668536",
     "exception": false,
     "start_time": "2022-07-04T16:02:08.610793",
     "status": "completed"
    },
    "tags": []
   },
   "outputs": [],
   "source": [
    "# 훈련 데이터와 테스트 데이터 나누기\n",
    "X_train = all_data[~pd.isnull(all_data['count'])]\n",
    "X_test = all_data[pd.isnull(all_data['count'])]"
   ]
  },
  {
   "cell_type": "code",
   "execution_count": 39,
   "id": "542fdc71",
   "metadata": {
    "execution": {
     "iopub.execute_input": "2022-07-04T16:02:08.760422Z",
     "iopub.status.busy": "2022-07-04T16:02:08.759760Z",
     "iopub.status.idle": "2022-07-04T16:02:08.767971Z",
     "shell.execute_reply": "2022-07-04T16:02:08.767173Z"
    },
    "papermill": {
     "duration": 0.057116,
     "end_time": "2022-07-04T16:02:08.770524",
     "exception": false,
     "start_time": "2022-07-04T16:02:08.713408",
     "status": "completed"
    },
    "tags": []
   },
   "outputs": [],
   "source": [
    "# 타깃값 count 제거\n",
    "X_train = X_train.drop(['count'], axis = 1)\n",
    "X_test = X_test.drop(['count'], axis = 1)\n",
    "\n",
    "y = train['count'] # 타깃값"
   ]
  },
  {
   "cell_type": "code",
   "execution_count": 40,
   "id": "365cc399",
   "metadata": {
    "execution": {
     "iopub.execute_input": "2022-07-04T16:02:08.861560Z",
     "iopub.status.busy": "2022-07-04T16:02:08.861060Z",
     "iopub.status.idle": "2022-07-04T16:02:08.875986Z",
     "shell.execute_reply": "2022-07-04T16:02:08.875195Z"
    },
    "papermill": {
     "duration": 0.062597,
     "end_time": "2022-07-04T16:02:08.877918",
     "exception": false,
     "start_time": "2022-07-04T16:02:08.815321",
     "status": "completed"
    },
    "tags": []
   },
   "outputs": [
    {
     "data": {
      "text/html": [
       "<div>\n",
       "<style scoped>\n",
       "    .dataframe tbody tr th:only-of-type {\n",
       "        vertical-align: middle;\n",
       "    }\n",
       "\n",
       "    .dataframe tbody tr th {\n",
       "        vertical-align: top;\n",
       "    }\n",
       "\n",
       "    .dataframe thead th {\n",
       "        text-align: right;\n",
       "    }\n",
       "</style>\n",
       "<table border=\"1\" class=\"dataframe\">\n",
       "  <thead>\n",
       "    <tr style=\"text-align: right;\">\n",
       "      <th></th>\n",
       "      <th>season</th>\n",
       "      <th>holiday</th>\n",
       "      <th>workingday</th>\n",
       "      <th>weather</th>\n",
       "      <th>temp</th>\n",
       "      <th>atemp</th>\n",
       "      <th>humidity</th>\n",
       "      <th>year</th>\n",
       "      <th>hour</th>\n",
       "      <th>weekday</th>\n",
       "    </tr>\n",
       "  </thead>\n",
       "  <tbody>\n",
       "    <tr>\n",
       "      <th>0</th>\n",
       "      <td>1</td>\n",
       "      <td>0</td>\n",
       "      <td>0</td>\n",
       "      <td>1</td>\n",
       "      <td>9.84</td>\n",
       "      <td>14.395</td>\n",
       "      <td>81</td>\n",
       "      <td>2011</td>\n",
       "      <td>00</td>\n",
       "      <td>5</td>\n",
       "    </tr>\n",
       "    <tr>\n",
       "      <th>1</th>\n",
       "      <td>1</td>\n",
       "      <td>0</td>\n",
       "      <td>0</td>\n",
       "      <td>1</td>\n",
       "      <td>9.02</td>\n",
       "      <td>13.635</td>\n",
       "      <td>80</td>\n",
       "      <td>2011</td>\n",
       "      <td>01</td>\n",
       "      <td>5</td>\n",
       "    </tr>\n",
       "    <tr>\n",
       "      <th>2</th>\n",
       "      <td>1</td>\n",
       "      <td>0</td>\n",
       "      <td>0</td>\n",
       "      <td>1</td>\n",
       "      <td>9.02</td>\n",
       "      <td>13.635</td>\n",
       "      <td>80</td>\n",
       "      <td>2011</td>\n",
       "      <td>02</td>\n",
       "      <td>5</td>\n",
       "    </tr>\n",
       "    <tr>\n",
       "      <th>3</th>\n",
       "      <td>1</td>\n",
       "      <td>0</td>\n",
       "      <td>0</td>\n",
       "      <td>1</td>\n",
       "      <td>9.84</td>\n",
       "      <td>14.395</td>\n",
       "      <td>75</td>\n",
       "      <td>2011</td>\n",
       "      <td>03</td>\n",
       "      <td>5</td>\n",
       "    </tr>\n",
       "    <tr>\n",
       "      <th>4</th>\n",
       "      <td>1</td>\n",
       "      <td>0</td>\n",
       "      <td>0</td>\n",
       "      <td>1</td>\n",
       "      <td>9.84</td>\n",
       "      <td>14.395</td>\n",
       "      <td>75</td>\n",
       "      <td>2011</td>\n",
       "      <td>04</td>\n",
       "      <td>5</td>\n",
       "    </tr>\n",
       "  </tbody>\n",
       "</table>\n",
       "</div>"
      ],
      "text/plain": [
       "   season  holiday  workingday  weather  temp   atemp  humidity  year hour  \\\n",
       "0       1        0           0        1  9.84  14.395        81  2011   00   \n",
       "1       1        0           0        1  9.02  13.635        80  2011   01   \n",
       "2       1        0           0        1  9.02  13.635        80  2011   02   \n",
       "3       1        0           0        1  9.84  14.395        75  2011   03   \n",
       "4       1        0           0        1  9.84  14.395        75  2011   04   \n",
       "\n",
       "   weekday  \n",
       "0        5  \n",
       "1        5  \n",
       "2        5  \n",
       "3        5  \n",
       "4        5  "
      ]
     },
     "execution_count": 40,
     "metadata": {},
     "output_type": "execute_result"
    }
   ],
   "source": [
    "X_train.head()"
   ]
  },
  {
   "cell_type": "markdown",
   "id": "56556343",
   "metadata": {
    "papermill": {
     "duration": 0.045292,
     "end_time": "2022-07-04T16:02:08.969858",
     "exception": false,
     "start_time": "2022-07-04T16:02:08.924566",
     "status": "completed"
    },
    "tags": []
   },
   "source": [
    "## 평가지표 계산 함수 작성(RMSLE)"
   ]
  },
  {
   "cell_type": "code",
   "execution_count": 41,
   "id": "07abcacc",
   "metadata": {
    "execution": {
     "iopub.execute_input": "2022-07-04T16:02:09.063358Z",
     "iopub.status.busy": "2022-07-04T16:02:09.062687Z",
     "iopub.status.idle": "2022-07-04T16:02:09.068926Z",
     "shell.execute_reply": "2022-07-04T16:02:09.068178Z"
    },
    "papermill": {
     "duration": 0.055935,
     "end_time": "2022-07-04T16:02:09.071167",
     "exception": false,
     "start_time": "2022-07-04T16:02:09.015232",
     "status": "completed"
    },
    "tags": []
   },
   "outputs": [],
   "source": [
    "import numpy as np\n",
    "\n",
    "def rmsle(y_true, y_pred, convertExp = True):\n",
    "    # 지수변환\n",
    "    if convertExp:\n",
    "        y_true = np.exp(y_true)\n",
    "        y_pred = np.exp(y_pred)\n",
    "        \n",
    "    # 로그변환 후 결측값을 0으로 변환\n",
    "    log_true = np.nan_to_num(np.log(y_true+1))\n",
    "    log_pred = np.nan_to_num(np.log(y_pred+1))\n",
    "    \n",
    "    #RMSLE 계산\n",
    "    output = np.sqrt(np.mean((log_true - log_pred)**2))\n",
    "    return output"
   ]
  },
  {
   "cell_type": "markdown",
   "id": "bad77851",
   "metadata": {
    "papermill": {
     "duration": 0.04515,
     "end_time": "2022-07-04T16:02:09.161807",
     "exception": false,
     "start_time": "2022-07-04T16:02:09.116657",
     "status": "completed"
    },
    "tags": []
   },
   "source": [
    "## 모델 훈련(LinearRegression)"
   ]
  },
  {
   "cell_type": "code",
   "execution_count": 42,
   "id": "4ad59bf9",
   "metadata": {
    "execution": {
     "iopub.execute_input": "2022-07-04T16:02:09.254511Z",
     "iopub.status.busy": "2022-07-04T16:02:09.253770Z",
     "iopub.status.idle": "2022-07-04T16:02:09.783197Z",
     "shell.execute_reply": "2022-07-04T16:02:09.781826Z"
    },
    "papermill": {
     "duration": 0.579906,
     "end_time": "2022-07-04T16:02:09.786981",
     "exception": false,
     "start_time": "2022-07-04T16:02:09.207075",
     "status": "completed"
    },
    "tags": []
   },
   "outputs": [
    {
     "data": {
      "text/plain": [
       "LinearRegression()"
      ]
     },
     "execution_count": 42,
     "metadata": {},
     "output_type": "execute_result"
    }
   ],
   "source": [
    "from sklearn.linear_model import LinearRegression\n",
    "\n",
    "lr = LinearRegression()\n",
    "\n",
    "log_y = np.log(y) # 타깃값 로그변환\n",
    "lr.fit(X_train, log_y) # 모델 훈련"
   ]
  },
  {
   "cell_type": "markdown",
   "id": "83d7e0c6",
   "metadata": {
    "papermill": {
     "duration": 0.051164,
     "end_time": "2022-07-04T16:02:09.925802",
     "exception": false,
     "start_time": "2022-07-04T16:02:09.874638",
     "status": "completed"
    },
    "tags": []
   },
   "source": [
    "## 모델 성능 검증"
   ]
  },
  {
   "cell_type": "code",
   "execution_count": 43,
   "id": "ec4eba6f",
   "metadata": {
    "execution": {
     "iopub.execute_input": "2022-07-04T16:02:10.018780Z",
     "iopub.status.busy": "2022-07-04T16:02:10.018358Z",
     "iopub.status.idle": "2022-07-04T16:02:10.046521Z",
     "shell.execute_reply": "2022-07-04T16:02:10.045195Z"
    },
    "papermill": {
     "duration": 0.079207,
     "end_time": "2022-07-04T16:02:10.050188",
     "exception": false,
     "start_time": "2022-07-04T16:02:09.970981",
     "status": "completed"
    },
    "tags": []
   },
   "outputs": [],
   "source": [
    "preds = lr.predict(X_train)"
   ]
  },
  {
   "cell_type": "code",
   "execution_count": 44,
   "id": "1bee7fdf",
   "metadata": {
    "execution": {
     "iopub.execute_input": "2022-07-04T16:02:10.192980Z",
     "iopub.status.busy": "2022-07-04T16:02:10.192544Z",
     "iopub.status.idle": "2022-07-04T16:02:10.200101Z",
     "shell.execute_reply": "2022-07-04T16:02:10.198856Z"
    },
    "papermill": {
     "duration": 0.067987,
     "end_time": "2022-07-04T16:02:10.202613",
     "exception": false,
     "start_time": "2022-07-04T16:02:10.134626",
     "status": "completed"
    },
    "tags": []
   },
   "outputs": [
    {
     "name": "stdout",
     "output_type": "stream",
     "text": [
      "선형 회귀의 rmsle의 값 : 1.0205\n"
     ]
    }
   ],
   "source": [
    "print('선형 회귀의 rmsle의 값 : {}'.format(round(rmsle(log_y, preds, True),4)))"
   ]
  },
  {
   "cell_type": "markdown",
   "id": "7719049c",
   "metadata": {
    "papermill": {
     "duration": 0.044951,
     "end_time": "2022-07-04T16:02:10.292790",
     "exception": false,
     "start_time": "2022-07-04T16:02:10.247839",
     "status": "completed"
    },
    "tags": []
   },
   "source": [
    "## 예측 및 결과 제출"
   ]
  },
  {
   "cell_type": "code",
   "execution_count": 45,
   "id": "7aef0112",
   "metadata": {
    "execution": {
     "iopub.execute_input": "2022-07-04T16:02:10.384681Z",
     "iopub.status.busy": "2022-07-04T16:02:10.384319Z",
     "iopub.status.idle": "2022-07-04T16:02:10.458547Z",
     "shell.execute_reply": "2022-07-04T16:02:10.457176Z"
    },
    "papermill": {
     "duration": 0.124489,
     "end_time": "2022-07-04T16:02:10.462546",
     "exception": false,
     "start_time": "2022-07-04T16:02:10.338057",
     "status": "completed"
    },
    "tags": []
   },
   "outputs": [],
   "source": [
    "lr_preds = lr.predict(X_test) # 테스트 데이터로 예측\n",
    "\n",
    "submission['count'] = np.exp(lr_preds) # 지수 변환\n",
    "submission.to_csv('submission.csv',index = False) # 파일로 저장"
   ]
  },
  {
   "cell_type": "markdown",
   "id": "637c3780",
   "metadata": {
    "papermill": {
     "duration": 0.045733,
     "end_time": "2022-07-04T16:02:10.644151",
     "exception": false,
     "start_time": "2022-07-04T16:02:10.598418",
     "status": "completed"
    },
    "tags": []
   },
   "source": [
    "## 성능개선 1 : 릿지 회귀 모델\n",
    "#### 잘 사용 하지 않음\n",
    "\n",
    "### 하이퍼 파라미터 최적화(모델 훈련)\n",
    "##### 그리드 서치 사용 // 각 하이퍼파라미터를 적용한 모델마다 교차검증을 하며 성능을 측정하여 최종적으로 성능이 가장 좋았을 때의 하이퍼파라미터 값을 찾아줌"
   ]
  },
  {
   "cell_type": "code",
   "execution_count": 46,
   "id": "d6c816a5",
   "metadata": {
    "execution": {
     "iopub.execute_input": "2022-07-04T16:02:10.737894Z",
     "iopub.status.busy": "2022-07-04T16:02:10.737463Z",
     "iopub.status.idle": "2022-07-04T16:02:10.742399Z",
     "shell.execute_reply": "2022-07-04T16:02:10.741558Z"
    },
    "papermill": {
     "duration": 0.054158,
     "end_time": "2022-07-04T16:02:10.744520",
     "exception": false,
     "start_time": "2022-07-04T16:02:10.690362",
     "status": "completed"
    },
    "tags": []
   },
   "outputs": [],
   "source": [
    "# 릿지 모델 생성\n",
    "\n",
    "from sklearn.linear_model import Ridge\n",
    "from sklearn.model_selection import GridSearchCV\n",
    "from sklearn import metrics\n",
    "\n",
    "ridge = Ridge()"
   ]
  },
  {
   "cell_type": "markdown",
   "id": "d59ebe12",
   "metadata": {
    "papermill": {
     "duration": 0.045664,
     "end_time": "2022-07-04T16:02:10.835494",
     "exception": false,
     "start_time": "2022-07-04T16:02:10.789830",
     "status": "completed"
    },
    "tags": []
   },
   "source": []
  },
  {
   "cell_type": "markdown",
   "id": "7fd6d1b6",
   "metadata": {
    "papermill": {
     "duration": 0.045252,
     "end_time": "2022-07-04T16:02:10.925774",
     "exception": false,
     "start_time": "2022-07-04T16:02:10.880522",
     "status": "completed"
    },
    "tags": []
   },
   "source": [
    "### 그리드 서치 객채 생성\n",
    "##### 1. 비교 검증해볼 하이퍼파라미터 값 목록\n",
    "##### 2. 대상 모델\n",
    "##### 3. 교차 검증용 평가 수단(평가 함수)\n"
   ]
  },
  {
   "cell_type": "code",
   "execution_count": 47,
   "id": "8571beb7",
   "metadata": {
    "execution": {
     "iopub.execute_input": "2022-07-04T16:02:11.018704Z",
     "iopub.status.busy": "2022-07-04T16:02:11.018310Z",
     "iopub.status.idle": "2022-07-04T16:02:11.025923Z",
     "shell.execute_reply": "2022-07-04T16:02:11.024990Z"
    },
    "papermill": {
     "duration": 0.057492,
     "end_time": "2022-07-04T16:02:11.028448",
     "exception": false,
     "start_time": "2022-07-04T16:02:10.970956",
     "status": "completed"
    },
    "tags": []
   },
   "outputs": [],
   "source": [
    "# 하이퍼파라미터 값 목록\n",
    "ridge_params = {'max_iter' : [3000], 'alpha' : [0.1, 1, 2, 3, 4, 1, 10, 30, 100, 200, 300, 400, 800, 900, 1000]}\n",
    "\n",
    "# 교차 검증용 평가 함수(RMSLE 점수 계산)\n",
    "rmsle_scorer = metrics.make_scorer(rmsle, greater_is_better=False)"
   ]
  },
  {
   "cell_type": "code",
   "execution_count": 48,
   "id": "c5963997",
   "metadata": {
    "execution": {
     "iopub.execute_input": "2022-07-04T16:02:11.120822Z",
     "iopub.status.busy": "2022-07-04T16:02:11.120394Z",
     "iopub.status.idle": "2022-07-04T16:02:11.126008Z",
     "shell.execute_reply": "2022-07-04T16:02:11.124740Z"
    },
    "papermill": {
     "duration": 0.054938,
     "end_time": "2022-07-04T16:02:11.128452",
     "exception": false,
     "start_time": "2022-07-04T16:02:11.073514",
     "status": "completed"
    },
    "tags": []
   },
   "outputs": [],
   "source": [
    "# 그리드 서치(with 릿지) 객체 생성\n",
    "gridsearch_ridge_model = GridSearchCV(estimator=ridge,        # 릿지 모델\n",
    "                                     param_grid=ridge_params, # 값 목록\n",
    "                                     scoring=rmsle_scorer,    # 평가지표\n",
    "                                     cv=5)                    # 교차 검증 분할 수"
   ]
  },
  {
   "cell_type": "markdown",
   "id": "604fd448",
   "metadata": {
    "papermill": {
     "duration": 0.044775,
     "end_time": "2022-07-04T16:02:11.219146",
     "exception": false,
     "start_time": "2022-07-04T16:02:11.174371",
     "status": "completed"
    },
    "tags": []
   },
   "source": [
    "### GridSearchCV()주요 파라미터\n",
    "##### estimator : 분류 및 회귀 모델\n",
    "##### param_grid : 딕셔너리 형태로 모델의 하이퍼파라미터명과 여러 하이퍼파라미터 값을 지정\n",
    "##### scoring : 평가지표, 사이킷런에서 기본적인 평가지표를 문자열로 제공 (자세한 내용은 225p 참고)\n",
    "##### cv : 교차 검증 분할 개수(기본값은 5) \n",
    "\n",
    "## 교차 검증 시에는 해당 경진대회의 평가지표를 그대로 사용해야 함. 평가 방식이 다르면 대회 성적과는 무관해짐"
   ]
  },
  {
   "cell_type": "code",
   "execution_count": 49,
   "id": "a8102e50",
   "metadata": {
    "execution": {
     "iopub.execute_input": "2022-07-04T16:02:11.312220Z",
     "iopub.status.busy": "2022-07-04T16:02:11.311810Z",
     "iopub.status.idle": "2022-07-04T16:02:14.295880Z",
     "shell.execute_reply": "2022-07-04T16:02:14.294654Z"
    },
    "papermill": {
     "duration": 3.034453,
     "end_time": "2022-07-04T16:02:14.299324",
     "exception": false,
     "start_time": "2022-07-04T16:02:11.264871",
     "status": "completed"
    },
    "tags": []
   },
   "outputs": [
    {
     "data": {
      "text/plain": [
       "GridSearchCV(cv=5, estimator=Ridge(),\n",
       "             param_grid={'alpha': [0.1, 1, 2, 3, 4, 1, 10, 30, 100, 200, 300,\n",
       "                                   400, 800, 900, 1000],\n",
       "                         'max_iter': [3000]},\n",
       "             scoring=make_scorer(rmsle, greater_is_better=False))"
      ]
     },
     "execution_count": 49,
     "metadata": {},
     "output_type": "execute_result"
    }
   ],
   "source": [
    "# 그리드 서치 수행\n",
    "\n",
    "log_y = np.log(y) # 타깃값 로그 변환\n",
    "gridsearch_ridge_model.fit(X_train, log_y) # 훈련(그리드 서치)"
   ]
  },
  {
   "cell_type": "code",
   "execution_count": 50,
   "id": "80f77da7",
   "metadata": {
    "execution": {
     "iopub.execute_input": "2022-07-04T16:02:14.443636Z",
     "iopub.status.busy": "2022-07-04T16:02:14.443246Z",
     "iopub.status.idle": "2022-07-04T16:02:14.448447Z",
     "shell.execute_reply": "2022-07-04T16:02:14.447566Z"
    },
    "papermill": {
     "duration": 0.066212,
     "end_time": "2022-07-04T16:02:14.450910",
     "exception": false,
     "start_time": "2022-07-04T16:02:14.384698",
     "status": "completed"
    },
    "tags": []
   },
   "outputs": [
    {
     "name": "stdout",
     "output_type": "stream",
     "text": [
      "최적 하이퍼파라미터 : {'alpha': 0.1, 'max_iter': 3000}\n"
     ]
    }
   ],
   "source": [
    "print('최적 하이퍼파라미터 :', gridsearch_ridge_model.best_params_)"
   ]
  },
  {
   "cell_type": "markdown",
   "id": "6530948f",
   "metadata": {
    "papermill": {
     "duration": 0.045267,
     "end_time": "2022-07-04T16:02:14.542041",
     "exception": false,
     "start_time": "2022-07-04T16:02:14.496774",
     "status": "completed"
    },
    "tags": []
   },
   "source": [
    "## 성능 검증"
   ]
  },
  {
   "cell_type": "code",
   "execution_count": 51,
   "id": "62f9a5f3",
   "metadata": {
    "execution": {
     "iopub.execute_input": "2022-07-04T16:02:14.636701Z",
     "iopub.status.busy": "2022-07-04T16:02:14.635941Z",
     "iopub.status.idle": "2022-07-04T16:02:14.668716Z",
     "shell.execute_reply": "2022-07-04T16:02:14.666351Z"
    },
    "papermill": {
     "duration": 0.083931,
     "end_time": "2022-07-04T16:02:14.672866",
     "exception": false,
     "start_time": "2022-07-04T16:02:14.588935",
     "status": "completed"
    },
    "tags": []
   },
   "outputs": [
    {
     "name": "stdout",
     "output_type": "stream",
     "text": [
      "릿지 회귀 RMSLE 값 : 1.0205\n"
     ]
    }
   ],
   "source": [
    "# 예측\n",
    "preds = gridsearch_ridge_model.best_estimator_.predict(X_train)\n",
    "\n",
    "# 평가\n",
    "print(f'릿지 회귀 RMSLE 값 : {rmsle(log_y, preds, True):.4f}')"
   ]
  },
  {
   "cell_type": "markdown",
   "id": "ea4cef96",
   "metadata": {
    "papermill": {
     "duration": 0.054249,
     "end_time": "2022-07-04T16:02:14.814999",
     "exception": false,
     "start_time": "2022-07-04T16:02:14.760750",
     "status": "completed"
    },
    "tags": []
   },
   "source": [
    "## 성능 개선 2 : 라쏘 회귀 모델\n"
   ]
  },
  {
   "cell_type": "code",
   "execution_count": 52,
   "id": "9ebd8082",
   "metadata": {
    "execution": {
     "iopub.execute_input": "2022-07-04T16:02:14.908991Z",
     "iopub.status.busy": "2022-07-04T16:02:14.908615Z",
     "iopub.status.idle": "2022-07-04T16:02:22.279542Z",
     "shell.execute_reply": "2022-07-04T16:02:22.277098Z"
    },
    "papermill": {
     "duration": 7.423507,
     "end_time": "2022-07-04T16:02:22.284069",
     "exception": false,
     "start_time": "2022-07-04T16:02:14.860562",
     "status": "completed"
    },
    "tags": []
   },
   "outputs": [
    {
     "name": "stdout",
     "output_type": "stream",
     "text": [
      "최적 하이퍼파라미터 : {'alpha': 0.00125, 'max_iter': 3000}\n"
     ]
    }
   ],
   "source": [
    "# 하이퍼파라미터 최적화(모델 훈련)\n",
    "from sklearn.linear_model import Lasso\n",
    "\n",
    "# 모델 생성\n",
    "lasso = Lasso()\n",
    "\n",
    "# 하이퍼파라미터 값 목록\n",
    "lasso_alpha = 1/np.array([0.1,1,2,3,4,10,30,100,200,300,400,800,900,1000])\n",
    "lasso_params = {'max_iter' : [3000], 'alpha' : lasso_alpha}\n",
    "\n",
    "# 그리드서치(with 라쏘) 객체 생성\n",
    "\n",
    "gridsearch_lasso_model = GridSearchCV(estimator=lasso,\n",
    "                                     param_grid=lasso_params,\n",
    "                                     scoring=rmsle_scorer,\n",
    "                                     cv = 5)\n",
    "\n",
    "# 그리드 서치 수행\n",
    "log_y = np.log(y)\n",
    "gridsearch_lasso_model.fit(X_train, log_y)\n",
    "\n",
    "print('최적 하이퍼파라미터 :',gridsearch_lasso_model.best_params_)"
   ]
  },
  {
   "cell_type": "markdown",
   "id": "f6e7a185",
   "metadata": {
    "papermill": {
     "duration": 0.052612,
     "end_time": "2022-07-04T16:02:22.428863",
     "exception": false,
     "start_time": "2022-07-04T16:02:22.376251",
     "status": "completed"
    },
    "tags": []
   },
   "source": [
    "### 성능 검증"
   ]
  },
  {
   "cell_type": "code",
   "execution_count": 53,
   "id": "7936f18d",
   "metadata": {
    "execution": {
     "iopub.execute_input": "2022-07-04T16:02:22.523449Z",
     "iopub.status.busy": "2022-07-04T16:02:22.522996Z",
     "iopub.status.idle": "2022-07-04T16:02:22.551749Z",
     "shell.execute_reply": "2022-07-04T16:02:22.549428Z"
    },
    "papermill": {
     "duration": 0.080469,
     "end_time": "2022-07-04T16:02:22.555764",
     "exception": false,
     "start_time": "2022-07-04T16:02:22.475295",
     "status": "completed"
    },
    "tags": []
   },
   "outputs": [
    {
     "name": "stdout",
     "output_type": "stream",
     "text": [
      "라쏘 회귀 RMSLE 값 : 1.0205\n"
     ]
    }
   ],
   "source": [
    "# 예측\n",
    "preds = gridsearch_lasso_model.best_estimator_.predict(X_train)\n",
    "\n",
    "# 평가\n",
    "print(f'라쏘 회귀 RMSLE 값 : {rmsle(log_y, preds, True):.4f}')"
   ]
  },
  {
   "cell_type": "markdown",
   "id": "4b0efa6a",
   "metadata": {
    "papermill": {
     "duration": 0.056362,
     "end_time": "2022-07-04T16:02:22.697919",
     "exception": false,
     "start_time": "2022-07-04T16:02:22.641557",
     "status": "completed"
    },
    "tags": []
   },
   "source": [
    "## 성능 개선 3 : 랜덤 포레스트 회귀 모델"
   ]
  },
  {
   "cell_type": "code",
   "execution_count": 54,
   "id": "6baa841d",
   "metadata": {
    "execution": {
     "iopub.execute_input": "2022-07-04T16:02:22.792710Z",
     "iopub.status.busy": "2022-07-04T16:02:22.792340Z",
     "iopub.status.idle": "2022-07-04T16:03:13.058198Z",
     "shell.execute_reply": "2022-07-04T16:03:13.057013Z"
    },
    "papermill": {
     "duration": 50.363117,
     "end_time": "2022-07-04T16:03:13.108157",
     "exception": false,
     "start_time": "2022-07-04T16:02:22.745040",
     "status": "completed"
    },
    "tags": []
   },
   "outputs": [
    {
     "name": "stdout",
     "output_type": "stream",
     "text": [
      "최적 하이퍼파라미터: {'n_estimators': 140, 'random_state': 42}\n"
     ]
    }
   ],
   "source": [
    "# 하이퍼파라미터 최적화(모델 훈련)\n",
    "from sklearn.ensemble import RandomForestRegressor\n",
    "\n",
    "# 모델 생성\n",
    "randomforest_model = RandomForestRegressor()\n",
    "\n",
    "# 그리드 서치 객체 생성\n",
    "rf_params = {'random_state' : [42], 'n_estimators' : [100, 120, 140]} \n",
    "gridsearch_rf_model = GridSearchCV(estimator=randomforest_model,\n",
    "                                  param_grid=rf_params,\n",
    "                                  scoring=rmsle_scorer,\n",
    "                                  cv = 5)\n",
    "\n",
    "# 그리드 서치 수행\n",
    "log_y = np.log(y)\n",
    "gridsearch_rf_model.fit(X_train, log_y)\n",
    "print(f'최적 하이퍼파라미터:',gridsearch_rf_model.best_params_)"
   ]
  },
  {
   "cell_type": "markdown",
   "id": "4e13e9fe",
   "metadata": {
    "papermill": {
     "duration": 0.045674,
     "end_time": "2022-07-04T16:03:13.201129",
     "exception": false,
     "start_time": "2022-07-04T16:03:13.155455",
     "status": "completed"
    },
    "tags": []
   },
   "source": [
    "## 모델 성능 검증"
   ]
  },
  {
   "cell_type": "code",
   "execution_count": 55,
   "id": "7f0fc8f6",
   "metadata": {
    "execution": {
     "iopub.execute_input": "2022-07-04T16:03:13.297632Z",
     "iopub.status.busy": "2022-07-04T16:03:13.297244Z",
     "iopub.status.idle": "2022-07-04T16:03:13.628836Z",
     "shell.execute_reply": "2022-07-04T16:03:13.626975Z"
    },
    "papermill": {
     "duration": 0.381758,
     "end_time": "2022-07-04T16:03:13.631547",
     "exception": false,
     "start_time": "2022-07-04T16:03:13.249789",
     "status": "completed"
    },
    "tags": []
   },
   "outputs": [
    {
     "name": "stdout",
     "output_type": "stream",
     "text": [
      "랜덤 포레스트 회귀 RMSLE 값 : 0.11265875245404895\n"
     ]
    }
   ],
   "source": [
    "# 예측\n",
    "preds = gridsearch_rf_model.best_estimator_.predict(X_train)\n",
    "\n",
    "# 평가\n",
    "print(f'랜덤 포레스트 회귀 RMSLE 값 : {rmsle(log_y, preds, True)}')"
   ]
  },
  {
   "cell_type": "markdown",
   "id": "1be87deb",
   "metadata": {
    "papermill": {
     "duration": 0.04582,
     "end_time": "2022-07-04T16:03:13.723351",
     "exception": false,
     "start_time": "2022-07-04T16:03:13.677531",
     "status": "completed"
    },
    "tags": []
   },
   "source": [
    "## 예측 및 결과 제출"
   ]
  },
  {
   "cell_type": "code",
   "execution_count": 56,
   "id": "c222b231",
   "metadata": {
    "execution": {
     "iopub.execute_input": "2022-07-04T16:03:13.820614Z",
     "iopub.status.busy": "2022-07-04T16:03:13.820192Z",
     "iopub.status.idle": "2022-07-04T16:03:14.534206Z",
     "shell.execute_reply": "2022-07-04T16:03:14.532996Z"
    },
    "papermill": {
     "duration": 0.76638,
     "end_time": "2022-07-04T16:03:14.536896",
     "exception": false,
     "start_time": "2022-07-04T16:03:13.770516",
     "status": "completed"
    },
    "tags": []
   },
   "outputs": [
    {
     "data": {
      "image/png": "[encoded data removed]",
      "text/plain": [
       "<Figure size 720x288 with 2 Axes>"
      ]
     },
     "metadata": {
      "needs_background": "light"
     },
     "output_type": "display_data"
    }
   ],
   "source": [
    "import seaborn as sns\n",
    "import matplotlib.pyplot as plt\n",
    "\n",
    "rf_preds = gridsearch_rf_model.best_estimator_.predict(X_test)\n",
    "\n",
    "figure, axes = plt.subplots(ncols = 2)\n",
    "figure.set_size_inches(10,4)\n",
    "\n",
    "sns.histplot(y, bins=50, ax=axes[0])\n",
    "axes[0].set_title('Train Data Distribution')\n",
    "sns.histplot(np.exp(rf_preds), bins=50, ax=axes[1])\n",
    "axes[1].set_title('Predicted Test Data Distribution');"
   ]
  },
  {
   "cell_type": "code",
   "execution_count": 57,
   "id": "941ee6f5",
   "metadata": {
    "execution": {
     "iopub.execute_input": "2022-07-04T16:03:14.631975Z",
     "iopub.status.busy": "2022-07-04T16:03:14.631575Z",
     "iopub.status.idle": "2022-07-04T16:03:14.665181Z",
     "shell.execute_reply": "2022-07-04T16:03:14.664256Z"
    },
    "papermill": {
     "duration": 0.084148,
     "end_time": "2022-07-04T16:03:14.667741",
     "exception": false,
     "start_time": "2022-07-04T16:03:14.583593",
     "status": "completed"
    },
    "tags": []
   },
   "outputs": [],
   "source": [
    "submission['count'] = np.exp(rf_preds) # 지수 변환\n",
    "submission.to_csv('submission.csv', index = False)"
   ]
  },
  {
   "cell_type": "code",
   "execution_count": null,
   "id": "976b9ef0",
   "metadata": {
    "papermill": {
     "duration": 0.04794,
     "end_time": "2022-07-04T16:03:14.762149",
     "exception": false,
     "start_time": "2022-07-04T16:03:14.714209",
     "status": "completed"
    },
    "tags": []
   },
   "outputs": [],
   "source": []
  },
  {
   "cell_type": "code",
   "execution_count": null,
   "id": "add5a5d6",
   "metadata": {
    "papermill": {
     "duration": 0.046249,
     "end_time": "2022-07-04T16:03:14.855405",
     "exception": false,
     "start_time": "2022-07-04T16:03:14.809156",
     "status": "completed"
    },
    "tags": []
   },
   "outputs": [],
   "source": []
  },
  {
   "cell_type": "code",
   "execution_count": null,
   "id": "88bb99c0",
   "metadata": {
    "papermill": {
     "duration": 0.047501,
     "end_time": "2022-07-04T16:03:14.950822",
     "exception": false,
     "start_time": "2022-07-04T16:03:14.903321",
     "status": "completed"
    },
    "tags": []
   },
   "outputs": [],
   "source": []
  },
  {
   "cell_type": "code",
   "execution_count": null,
   "id": "ef342fed",
   "metadata": {
    "papermill": {
     "duration": 0.047174,
     "end_time": "2022-07-04T16:03:15.047948",
     "exception": false,
     "start_time": "2022-07-04T16:03:15.000774",
     "status": "completed"
    },
    "tags": []
   },
   "outputs": [],
   "source": []
  },
  {
   "cell_type": "code",
   "execution_count": null,
   "id": "881ccf32",
   "metadata": {
    "papermill": {
     "duration": 0.046849,
     "end_time": "2022-07-04T16:03:15.142267",
     "exception": false,
     "start_time": "2022-07-04T16:03:15.095418",
     "status": "completed"
    },
    "tags": []
   },
   "outputs": [],
   "source": []
  },
  {
   "cell_type": "code",
   "execution_count": null,
   "id": "aaed61c1",
   "metadata": {
    "papermill": {
     "duration": 0.046066,
     "end_time": "2022-07-04T16:03:15.235089",
     "exception": false,
     "start_time": "2022-07-04T16:03:15.189023",
     "status": "completed"
    },
    "tags": []
   },
   "outputs": [],
   "source": []
  },
  {
   "cell_type": "code",
   "execution_count": null,
   "id": "7e2280a7",
   "metadata": {
    "papermill": {
     "duration": 0.046156,
     "end_time": "2022-07-04T16:03:15.327761",
     "exception": false,
     "start_time": "2022-07-04T16:03:15.281605",
     "status": "completed"
    },
    "tags": []
   },
   "outputs": [],
   "source": []
  },
  {
   "cell_type": "code",
   "execution_count": null,
   "id": "d59c3de0",
   "metadata": {
    "papermill": {
     "duration": 0.0462,
     "end_time": "2022-07-04T16:03:15.420545",
     "exception": false,
     "start_time": "2022-07-04T16:03:15.374345",
     "status": "completed"
    },
    "tags": []
   },
   "outputs": [],
   "source": []
  },
  {
   "cell_type": "code",
   "execution_count": null,
   "id": "976046b6",
   "metadata": {
    "papermill": {
     "duration": 0.047003,
     "end_time": "2022-07-04T16:03:15.514664",
     "exception": false,
     "start_time": "2022-07-04T16:03:15.467661",
     "status": "completed"
    },
    "tags": []
   },
   "outputs": [],
   "source": []
  },
  {
   "cell_type": "code",
   "execution_count": null,
   "id": "90700395",
   "metadata": {
    "papermill": {
     "duration": 0.046144,
     "end_time": "2022-07-04T16:03:15.607218",
     "exception": false,
     "start_time": "2022-07-04T16:03:15.561074",
     "status": "completed"
    },
    "tags": []
   },
   "outputs": [],
   "source": []
  },
  {
   "cell_type": "code",
   "execution_count": null,
   "id": "82f87b4e",
   "metadata": {
    "papermill": {
     "duration": 0.046733,
     "end_time": "2022-07-04T16:03:15.700468",
     "exception": false,
     "start_time": "2022-07-04T16:03:15.653735",
     "status": "completed"
    },
    "tags": []
   },
   "outputs": [],
   "source": []
  },
  {
   "cell_type": "code",
   "execution_count": null,
   "id": "bc47d54c",
   "metadata": {
    "papermill": {
     "duration": 0.047926,
     "end_time": "2022-07-04T16:03:15.795926",
     "exception": false,
     "start_time": "2022-07-04T16:03:15.748000",
     "status": "completed"
    },
    "tags": []
   },
   "outputs": [],
   "source": []
  },
  {
   "cell_type": "code",
   "execution_count": null,
   "id": "c4ee6a03",
   "metadata": {
    "papermill": {
     "duration": 0.046311,
     "end_time": "2022-07-04T16:03:15.888854",
     "exception": false,
     "start_time": "2022-07-04T16:03:15.842543",
     "status": "completed"
    },
    "tags": []
   },
   "outputs": [],
   "source": []
  },
  {
   "cell_type": "code",
   "execution_count": null,
   "id": "db74a096",
   "metadata": {
    "papermill": {
     "duration": 0.047207,
     "end_time": "2022-07-04T16:03:15.985156",
     "exception": false,
     "start_time": "2022-07-04T16:03:15.937949",
     "status": "completed"
    },
    "tags": []
   },
   "outputs": [],
   "source": []
  },
  {
   "cell_type": "code",
   "execution_count": null,
   "id": "a91d28cf",
   "metadata": {
    "papermill": {
     "duration": 0.046603,
     "end_time": "2022-07-04T16:03:16.079152",
     "exception": false,
     "start_time": "2022-07-04T16:03:16.032549",
     "status": "completed"
    },
    "tags": []
   },
   "outputs": [],
   "source": []
  },
  {
   "cell_type": "code",
   "execution_count": null,
   "id": "4ddf8d79",
   "metadata": {
    "papermill": {
     "duration": 0.04693,
     "end_time": "2022-07-04T16:03:16.173552",
     "exception": false,
     "start_time": "2022-07-04T16:03:16.126622",
     "status": "completed"
    },
    "tags": []
   },
   "outputs": [],
   "source": []
  },
  {
   "cell_type": "code",
   "execution_count": null,
   "id": "2bea1691",
   "metadata": {
    "papermill": {
     "duration": 0.047205,
     "end_time": "2022-07-04T16:03:16.267541",
     "exception": false,
     "start_time": "2022-07-04T16:03:16.220336",
     "status": "completed"
    },
    "tags": []
   },
   "outputs": [],
   "source": []
  },
  {
   "cell_type": "code",
   "execution_count": null,
   "id": "29f7d76f",
   "metadata": {
    "papermill": {
     "duration": 0.047138,
     "end_time": "2022-07-04T16:03:16.362227",
     "exception": false,
     "start_time": "2022-07-04T16:03:16.315089",
     "status": "completed"
    },
    "tags": []
   },
   "outputs": [],
   "source": []
  },
  {
   "cell_type": "code",
   "execution_count": null,
   "id": "5a615a1f",
   "metadata": {
    "papermill": {
     "duration": 0.04618,
     "end_time": "2022-07-04T16:03:16.454968",
     "exception": false,
     "start_time": "2022-07-04T16:03:16.408788",
     "status": "completed"
    },
    "tags": []
   },
   "outputs": [],
   "source": []
  },
  {
   "cell_type": "code",
   "execution_count": null,
   "id": "09ea10d7",
   "metadata": {
    "papermill": {
     "duration": 0.046047,
     "end_time": "2022-07-04T16:03:16.547944",
     "exception": false,
     "start_time": "2022-07-04T16:03:16.501897",
     "status": "completed"
    },
    "tags": []
   },
   "outputs": [],
   "source": []
  },
  {
   "cell_type": "code",
   "execution_count": null,
   "id": "cdd7a35a",
   "metadata": {
    "papermill": {
     "duration": 0.046165,
     "end_time": "2022-07-04T16:03:16.640455",
     "exception": false,
     "start_time": "2022-07-04T16:03:16.594290",
     "status": "completed"
    },
    "tags": []
   },
   "outputs": [],
   "source": []
  },
  {
   "cell_type": "code",
   "execution_count": null,
   "id": "afec5ee7",
   "metadata": {
    "papermill": {
     "duration": 0.04615,
     "end_time": "2022-07-04T16:03:16.734570",
     "exception": false,
     "start_time": "2022-07-04T16:03:16.688420",
     "status": "completed"
    },
    "tags": []
   },
   "outputs": [],
   "source": []
  },
  {
   "cell_type": "code",
   "execution_count": null,
   "id": "524d740b",
   "metadata": {
    "papermill": {
     "duration": 0.046835,
     "end_time": "2022-07-04T16:03:16.829278",
     "exception": false,
     "start_time": "2022-07-04T16:03:16.782443",
     "status": "completed"
    },
    "tags": []
   },
   "outputs": [],
   "source": []
  },
  {
   "cell_type": "code",
   "execution_count": null,
   "id": "c9256326",
   "metadata": {
    "papermill": {
     "duration": 0.047513,
     "end_time": "2022-07-04T16:03:16.924175",
     "exception": false,
     "start_time": "2022-07-04T16:03:16.876662",
     "status": "completed"
    },
    "tags": []
   },
   "outputs": [],
   "source": []
  },
  {
   "cell_type": "code",
   "execution_count": null,
   "id": "491de9e7",
   "metadata": {
    "papermill": {
     "duration": 0.047965,
     "end_time": "2022-07-04T16:03:17.019912",
     "exception": false,
     "start_time": "2022-07-04T16:03:16.971947",
     "status": "completed"
    },
    "tags": []
   },
   "outputs": [],
   "source": []
  },
  {
   "cell_type": "code",
   "execution_count": null,
   "id": "21ba207b",
   "metadata": {
    "papermill": {
     "duration": 0.047108,
     "end_time": "2022-07-04T16:03:17.114510",
     "exception": false,
     "start_time": "2022-07-04T16:03:17.067402",
     "status": "completed"
    },
    "tags": []
   },
   "outputs": [],
   "source": []
  },
  {
   "cell_type": "code",
   "execution_count": null,
   "id": "37529dad",
   "metadata": {
    "papermill": {
     "duration": 0.047189,
     "end_time": "2022-07-04T16:03:17.209176",
     "exception": false,
     "start_time": "2022-07-04T16:03:17.161987",
     "status": "completed"
    },
    "tags": []
   },
   "outputs": [],
   "source": []
  },
  {
   "cell_type": "code",
   "execution_count": null,
   "id": "bed10af3",
   "metadata": {
    "papermill": {
     "duration": 0.046484,
     "end_time": "2022-07-04T16:03:17.303383",
     "exception": false,
     "start_time": "2022-07-04T16:03:17.256899",
     "status": "completed"
    },
    "tags": []
   },
   "outputs": [],
   "source": []
  },
  {
   "cell_type": "code",
   "execution_count": null,
   "id": "046c8062",
   "metadata": {
    "papermill": {
     "duration": 0.04616,
     "end_time": "2022-07-04T16:03:17.396071",
     "exception": false,
     "start_time": "2022-07-04T16:03:17.349911",
     "status": "completed"
    },
    "tags": []
   },
   "outputs": [],
   "source": []
  },
  {
   "cell_type": "code",
   "execution_count": null,
   "id": "cb78fc72",
   "metadata": {
    "papermill": {
     "duration": 0.046183,
     "end_time": "2022-07-04T16:03:17.488878",
     "exception": false,
     "start_time": "2022-07-04T16:03:17.442695",
     "status": "completed"
    },
    "tags": []
   },
   "outputs": [],
   "source": []
  },
  {
   "cell_type": "code",
   "execution_count": null,
   "id": "9f37207b",
   "metadata": {
    "papermill": {
     "duration": 0.046032,
     "end_time": "2022-07-04T16:03:17.581335",
     "exception": false,
     "start_time": "2022-07-04T16:03:17.535303",
     "status": "completed"
    },
    "tags": []
   },
   "outputs": [],
   "source": []
  },
  {
   "cell_type": "code",
   "execution_count": null,
   "id": "9199ec46",
   "metadata": {
    "papermill": {
     "duration": 0.046289,
     "end_time": "2022-07-04T16:03:17.674000",
     "exception": false,
     "start_time": "2022-07-04T16:03:17.627711",
     "status": "completed"
    },
    "tags": []
   },
   "outputs": [],
   "source": []
  },
  {
   "cell_type": "code",
   "execution_count": null,
   "id": "e7d312e6",
   "metadata": {
    "papermill": {
     "duration": 0.046068,
     "end_time": "2022-07-04T16:03:17.766531",
     "exception": false,
     "start_time": "2022-07-04T16:03:17.720463",
     "status": "completed"
    },
    "tags": []
   },
   "outputs": [],
   "source": []
  },
  {
   "cell_type": "code",
   "execution_count": null,
   "id": "f305aa6f",
   "metadata": {
    "papermill": {
     "duration": 0.046765,
     "end_time": "2022-07-04T16:03:17.861815",
     "exception": false,
     "start_time": "2022-07-04T16:03:17.815050",
     "status": "completed"
    },
    "tags": []
   },
   "outputs": [],
   "source": []
  },
  {
   "cell_type": "code",
   "execution_count": null,
   "id": "bb306f57",
   "metadata": {
    "papermill": {
     "duration": 0.0462,
     "end_time": "2022-07-04T16:03:17.954583",
     "exception": false,
     "start_time": "2022-07-04T16:03:17.908383",
     "status": "completed"
    },
    "tags": []
   },
   "outputs": [],
   "source": []
  },
  {
   "cell_type": "code",
   "execution_count": null,
   "id": "93c8967e",
   "metadata": {
    "papermill": {
     "duration": 0.04825,
     "end_time": "2022-07-04T16:03:18.050198",
     "exception": false,
     "start_time": "2022-07-04T16:03:18.001948",
     "status": "completed"
    },
    "tags": []
   },
   "outputs": [],
   "source": []
  },
  {
   "cell_type": "code",
   "execution_count": null,
   "id": "6364db6c",
   "metadata": {
    "papermill": {
     "duration": 0.047754,
     "end_time": "2022-07-04T16:03:18.145054",
     "exception": false,
     "start_time": "2022-07-04T16:03:18.097300",
     "status": "completed"
    },
    "tags": []
   },
   "outputs": [],
   "source": []
  },
  {
   "cell_type": "code",
   "execution_count": null,
   "id": "782e17bf",
   "metadata": {
    "papermill": {
     "duration": 0.046992,
     "end_time": "2022-07-04T16:03:18.382035",
     "exception": false,
     "start_time": "2022-07-04T16:03:18.335043",
     "status": "completed"
    },
    "tags": []
   },
   "outputs": [],
   "source": []
  },
  {
   "cell_type": "code",
   "execution_count": null,
   "id": "9ec24876",
   "metadata": {
    "papermill": {
     "duration": 0.046403,
     "end_time": "2022-07-04T16:03:18.475411",
     "exception": false,
     "start_time": "2022-07-04T16:03:18.429008",
     "status": "completed"
    },
    "tags": []
   },
   "outputs": [],
   "source": []
  },
  {
   "cell_type": "code",
   "execution_count": null,
   "id": "cc2d4d21",
   "metadata": {
    "papermill": {
     "duration": 0.046713,
     "end_time": "2022-07-04T16:03:18.569469",
     "exception": false,
     "start_time": "2022-07-04T16:03:18.522756",
     "status": "completed"
    },
    "tags": []
   },
   "outputs": [],
   "source": []
  },
  {
   "cell_type": "code",
   "execution_count": null,
   "id": "dc513e05",
   "metadata": {
    "papermill": {
     "duration": 0.046326,
     "end_time": "2022-07-04T16:03:18.662537",
     "exception": false,
     "start_time": "2022-07-04T16:03:18.616211",
     "status": "completed"
    },
    "tags": []
   },
   "outputs": [],
   "source": []
  },
  {
   "cell_type": "code",
   "execution_count": null,
   "id": "b8dcc955",
   "metadata": {
    "papermill": {
     "duration": 0.047367,
     "end_time": "2022-07-04T16:03:18.756762",
     "exception": false,
     "start_time": "2022-07-04T16:03:18.709395",
     "status": "completed"
    },
    "tags": []
   },
   "outputs": [],
   "source": []
  },
  {
   "cell_type": "code",
   "execution_count": null,
   "id": "9e237dc2",
   "metadata": {
    "papermill": {
     "duration": 0.048049,
     "end_time": "2022-07-04T16:03:18.852665",
     "exception": false,
     "start_time": "2022-07-04T16:03:18.804616",
     "status": "completed"
    },
    "tags": []
   },
   "outputs": [],
   "source": []
  },
  {
   "cell_type": "code",
   "execution_count": null,
   "id": "4be0de74",
   "metadata": {
    "papermill": {
     "duration": 0.046223,
     "end_time": "2022-07-04T16:03:18.945660",
     "exception": false,
     "start_time": "2022-07-04T16:03:18.899437",
     "status": "completed"
    },
    "tags": []
   },
   "outputs": [],
   "source": []
  },
  {
   "cell_type": "code",
   "execution_count": null,
   "id": "c1c87349",
   "metadata": {
    "papermill": {
     "duration": 0.047408,
     "end_time": "2022-07-04T16:03:19.039471",
     "exception": false,
     "start_time": "2022-07-04T16:03:18.992063",
     "status": "completed"
    },
    "tags": []
   },
   "outputs": [],
   "source": []
  },
  {
   "cell_type": "code",
   "execution_count": null,
   "id": "0423cc31",
   "metadata": {
    "papermill": {
     "duration": 0.046425,
     "end_time": "2022-07-04T16:03:19.132849",
     "exception": false,
     "start_time": "2022-07-04T16:03:19.086424",
     "status": "completed"
    },
    "tags": []
   },
   "outputs": [],
   "source": []
  },
  {
   "cell_type": "code",
   "execution_count": null,
   "id": "4afb5088",
   "metadata": {
    "papermill": {
     "duration": 0.046092,
     "end_time": "2022-07-04T16:03:19.225174",
     "exception": false,
     "start_time": "2022-07-04T16:03:19.179082",
     "status": "completed"
    },
    "tags": []
   },
   "outputs": [],
   "source": []
  }
 ],
 "metadata": {
  "kernelspec": {
   "display_name": "Python 3",
   "language": "python",
   "name": "python3"
  },
  "language_info": {
   "codemirror_mode": {
    "name": "ipython",
    "version": 3
   },
   "file_extension": ".py",
   "mimetype": "text/x-python",
   "name": "python",
   "nbconvert_exporter": "python",
   "pygments_lexer": "ipython3",
   "version": "3.7.12"
  },
  "papermill": {
   "default_parameters": {},
   "duration": 124.25441,
   "end_time": "2022-07-04T16:03:20.095379",
   "environment_variables": {},
   "exception": null,
   "input_path": "__notebook__.ipynb",
   "output_path": "__notebook__.ipynb",
   "parameters": {},
   "start_time": "2022-07-04T16:01:15.840969",
   "version": "2.3.4"
  }
 },
 "nbformat": 4,
 "nbformat_minor": 5
}
