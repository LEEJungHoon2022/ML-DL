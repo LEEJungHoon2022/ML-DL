{
  "nbformat": 4,
  "nbformat_minor": 0,
  "metadata": {
    "colab": {
      "name": "백준 문제 풀이.ipynb",
      "provenance": [],
      "collapsed_sections": [],
      "authorship_tag": "ABX9TyOY4ee7vwrhBfXkEXZgI3cA",
      "include_colab_link": true
    },
    "kernelspec": {
      "name": "python3",
      "display_name": "Python 3"
    },
    "language_info": {
      "name": "python"
    }
  },
  "cells": [
    {
      "cell_type": "markdown",
      "metadata": {
        "id": "view-in-github",
        "colab_type": "text"
      },
      "source": [
        "<a href=\"https://colab.research.google.com/github/LEEJungHoon2022/ML-DL/blob/Coding_test/%EB%B0%B1%EC%A4%80_%EB%AC%B8%EC%A0%9C_%ED%92%80%EC%9D%B4.ipynb\" target=\"_parent\"><img src=\"https://colab.research.google.com/assets/colab-badge.svg\" alt=\"Open In Colab\"/></a>"
      ]
    },
    {
      "cell_type": "markdown",
      "source": [
        "### 블랙잭\n",
        "#### 문제\n",
        "##### 카지노에서 제일 인기 있는 게임 블랙잭의 규칙은 상당히 쉽다. 카드의 합이 21을 넘지 않는 한도 내에서, 카드의 합을 최대한 크게 만드는 게임이다. 블랙잭은 카지노마다 다양한 규정이 있다.\n",
        "\n",
        "#####한국 최고의 블랙잭 고수 김정인은 새로운 블랙잭 규칙을 만들어 상근, 창영이와 게임하려고 한다.\n",
        "\n",
        "#####김정인 버전의 블랙잭에서 각 카드에는 양의 정수가 쓰여 있다. 그 다음, 딜러는 N장의 카드를 모두 숫자가 보이도록 바닥에 놓는다. 그런 후에 딜러는 숫자 M을 크게 외친다.\n",
        "\n",
        "#####이제 플레이어는 제한된 시간 안에 N장의 카드 중에서 3장의 카드를 골라야 한다. 블랙잭 변형 게임이기 때문에, 플레이어가 고른 카드의 합은 M을 넘지 않으면서 M과 최대한 가깝게 만들어야 한다.\n",
        "\n",
        "#####N장의 카드에 써져 있는 숫자가 주어졌을 때, M을 넘지 않으면서 M에 최대한 가까운 카드 3장의 합을 구해 출력하시오.\n",
        "\n",
        "#### 입력\n",
        "\n",
        "##### 첫째 줄에 카드의 개수 N(3 ≤ N ≤ 100)과 M(10 ≤ M ≤ 300,000)이 주어진다. 둘째 줄에는 카드에 쓰여 있는 수가 주어지며, 이 값은 100,000을 넘지 않는 양의 정수이다.\n",
        "\n",
        "##### 합이 M을 넘지 않는 카드 3장을 찾을 수 있는 경우만 입력으로 주어진다.\n",
        "\n",
        "\n",
        "### 출력\n",
        "##### 첫째 줄에 M을 넘지 않으면서 M에 최대한 가까운 카드 3장의 합을 출력한다."
      ],
      "metadata": {
        "id": "0PyZCh4B3vug"
      }
    },
    {
      "cell_type": "code",
      "source": [
        "n, m = map(int, input().split())\n",
        "cards = list(map(int, input().split()))\n",
        "# cards = [93, 181, 245, 214, 315, 36, 185, 138, 216, 295]\n",
        "# cards = list(range(5,10))\n",
        "# print(cards)\n",
        "sum = []\n",
        "card_sum = 0\n",
        "old_card_sum = 0\n",
        "\n",
        "for idx_1 in range(len(cards)):\n",
        "    for idx_2 in range(idx_1 + 1, len(cards)):\n",
        "        for idx_3 in range(idx_2 + 1, len(cards)):\n",
        "            card_sum = cards[idx_1] + cards[idx_2] + cards[idx_3]\n",
        "            if card_sum <= m and card_sum > old_card_sum:\n",
        "                black_jack = cards[idx_1] + cards[idx_2] + cards[idx_3]\n",
        "                old_card_sum = black_jack\n",
        "\n",
        "print(black_jack)"
      ],
      "metadata": {
        "colab": {
          "base_uri": "https://localhost:8080/"
        },
        "id": "FPPLsyr_4nNG",
        "outputId": "5e3ac709-522e-4cfa-c558-03e2401c1bb9"
      },
      "execution_count": null,
      "outputs": [
        {
          "output_type": "stream",
          "name": "stdout",
          "text": [
            "10 500\n",
            "93 181 245 214 315 36 185 138 216 295\n",
            "497\n"
          ]
        }
      ]
    },
    {
      "cell_type": "markdown",
      "source": [
        "## combination 메서드를 이용해서 풀 수 도 있음\n",
        "####from itertools import combinations, permutations\n",
        "#### combinations는 조합, permutations는 순열\n",
        "\n",
        "####list_n = list(combinations(list(range(3)),2))\n",
        "\n",
        "####print(list_n)\n",
        "####[(0, 1), (0, 2), (1, 2)] : 2개씩 중복 없이 조합"
      ],
      "metadata": {
        "id": "coO85JLBC6gN"
      }
    },
    {
      "cell_type": "markdown",
      "source": [
        "n = n + n[0] + n[1]\n",
        "\n",
        "m = m + m[0] + m[1] = n // m = n의 생성자\n",
        "어떤 자연수의 경우에는 생성자가 없을 수 있음\n",
        "\n",
        "반대로 생성자가 여러 개인 자연수도 있을 수 있다\n",
        "\n",
        "자연수 n이 주어졌을 때 n의 가장 작은 생성자를 구해내는 프로그램을 작성하시오.\n",
        "\n",
        "256 = 245 + 2 + 4 + 5 "
      ],
      "metadata": {
        "id": "hHQ1qUhW_ZaQ"
      }
    },
    {
      "cell_type": "code",
      "source": [
        "# 내가 푼 답\n",
        "\n",
        "num = 0\n",
        "sums = 0\n",
        "t_num = int(input())\n",
        "\n",
        "while num <= t_num:\n",
        "    s_num = str(num)\n",
        "    for idx in range(len(s_num)):\n",
        "        sums += int(s_num[idx])\n",
        "\n",
        "    if t_num == (sums + num):\n",
        "        print(num)\n",
        "        break\n",
        "    else:\n",
        "        if num == t_num:\n",
        "            print(0)\n",
        "        sums = 0\n",
        "        num += 1"
      ],
      "metadata": {
        "colab": {
          "base_uri": "https://localhost:8080/"
        },
        "id": "VyFMeOBnK_Og",
        "outputId": "aa15658f-39ec-4420-f947-0bbfb6fe1592"
      },
      "execution_count": 22,
      "outputs": [
        {
          "output_type": "stream",
          "name": "stdout",
          "text": [
            "216\n",
            "198\n"
          ]
        }
      ]
    },
    {
      "cell_type": "code",
      "source": [
        ""
      ],
      "metadata": {
        "id": "XANL5-HO_-Pt"
      },
      "execution_count": null,
      "outputs": []
    },
    {
      "cell_type": "code",
      "source": [
        ""
      ],
      "metadata": {
        "id": "dzNs_Wzk_-Mr"
      },
      "execution_count": null,
      "outputs": []
    },
    {
      "cell_type": "code",
      "source": [
        ""
      ],
      "metadata": {
        "id": "XPfwdpom_-Jc"
      },
      "execution_count": null,
      "outputs": []
    },
    {
      "cell_type": "code",
      "source": [
        ""
      ],
      "metadata": {
        "id": "sJ3JoelG_-GY"
      },
      "execution_count": null,
      "outputs": []
    },
    {
      "cell_type": "code",
      "source": [
        ""
      ],
      "metadata": {
        "id": "CEyzhICs_-DW"
      },
      "execution_count": null,
      "outputs": []
    },
    {
      "cell_type": "code",
      "source": [
        ""
      ],
      "metadata": {
        "id": "m6BBRj5Q_-AJ"
      },
      "execution_count": null,
      "outputs": []
    },
    {
      "cell_type": "code",
      "source": [
        ""
      ],
      "metadata": {
        "id": "NTCN-MtQ_97k"
      },
      "execution_count": null,
      "outputs": []
    },
    {
      "cell_type": "code",
      "source": [
        ""
      ],
      "metadata": {
        "id": "2xHQDO5W_8Wh"
      },
      "execution_count": null,
      "outputs": []
    },
    {
      "cell_type": "code",
      "source": [
        ""
      ],
      "metadata": {
        "id": "B99Sws1v_7tt"
      },
      "execution_count": null,
      "outputs": []
    }
  ]
}