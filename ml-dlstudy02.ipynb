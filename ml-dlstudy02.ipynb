{
 "cells": [
  {
   "cell_type": "code",
   "execution_count": 1,
   "id": "01ecd5ca",
   "metadata": {
    "_cell_guid": "b1076dfc-b9ad-4769-8c92-a6c4dae69d19",
    "_uuid": "8f2839f25d086af736a60e9eeb907d3b93b6e0e5",
    "execution": {
     "iopub.execute_input": "2022-06-22T14:40:19.069105Z",
     "iopub.status.busy": "2022-06-22T14:40:19.067586Z",
     "iopub.status.idle": "2022-06-22T14:40:19.085345Z",
     "shell.execute_reply": "2022-06-22T14:40:19.083835Z"
    },
    "papermill": {
     "duration": 0.029798,
     "end_time": "2022-06-22T14:40:19.088148",
     "exception": false,
     "start_time": "2022-06-22T14:40:19.058350",
     "status": "completed"
    },
    "tags": []
   },
   "outputs": [],
   "source": [
    "# This Python 3 environment comes with many helpful analytics libraries installed\n",
    "# It is defined by the kaggle/python Docker image: https://github.com/kaggle/docker-python\n",
    "# For example, here's several helpful packages to load\n",
    "\n",
    "import numpy as np # linear algebra\n",
    "import pandas as pd # data processing, CSV file I/O (e.g. pd.read_csv)\n",
    "\n",
    "# Input data files are available in the read-only \"../input/\" directory\n",
    "# For example, running this (by clicking run or pressing Shift+Enter) will list all files under the input directory\n",
    "\n",
    "import os\n",
    "for dirname, _, filenames in os.walk('/kaggle/input'):\n",
    "    for filename in filenames:\n",
    "        print(os.path.join(dirname, filename))\n",
    "\n",
    "# You can write up to 20GB to the current directory (/kaggle/working/) that gets preserved as output when you create a version using \"Save & Run All\" \n",
    "# You can also write temporary files to /kaggle/temp/, but they won't be saved outside of the current session"
   ]
  },
  {
   "cell_type": "markdown",
   "id": "55229a65",
   "metadata": {
    "papermill": {
     "duration": 0.005479,
     "end_time": "2022-06-22T14:40:19.100747",
     "exception": false,
     "start_time": "2022-06-22T14:40:19.095268",
     "status": "completed"
    },
    "tags": []
   },
   "source": [
    "## 예측하려는 target값이 범주형 데이터면 분류, 수치형 데이터면 회귀"
   ]
  },
  {
   "cell_type": "markdown",
   "id": "14cdbf00",
   "metadata": {
    "papermill": {
     "duration": 0.005396,
     "end_time": "2022-06-22T14:40:19.111712",
     "exception": false,
     "start_time": "2022-06-22T14:40:19.106316",
     "status": "completed"
    },
    "tags": []
   },
   "source": [
    "# 회귀\n",
    "\n",
    "### 영향을 미치는 변수를 독립변수 영향을 받는 변수를 종속 변수\n",
    "### 회귀는 독립변수와 종속변수 간 관계를 리모델링하는 방법\n",
    "### 분류와 차이점은 타깃 데이터가 범주가 아닌 수치형 데이터\n",
    "### 주어진 독립변수(피처)와 종속변수(타깃값) 사이의 관계를 기반으로 최적의 회귀계수를 찾아야 됨\n",
    "\n",
    "# 회귀의 평가 지표 \n",
    "### 오차를 최소화 해야됨 = 평가지표의 값이 작을 수록 모델 성능이 좋음\n",
    "### * R^2는 1에 가까울수록 좋음"
   ]
  },
  {
   "cell_type": "markdown",
   "id": "960caf07",
   "metadata": {
    "papermill": {
     "duration": 0.005216,
     "end_time": "2022-06-22T14:40:19.122530",
     "exception": false,
     "start_time": "2022-06-22T14:40:19.117314",
     "status": "completed"
    },
    "tags": []
   },
   "source": [
    "### metrics 라이브러리를 활용해 회귀 평가 지표 값을 구해봄"
   ]
  },
  {
   "cell_type": "code",
   "execution_count": 2,
   "id": "fda0e943",
   "metadata": {
    "execution": {
     "iopub.execute_input": "2022-06-22T14:40:19.136360Z",
     "iopub.status.busy": "2022-06-22T14:40:19.135983Z",
     "iopub.status.idle": "2022-06-22T14:40:20.422631Z",
     "shell.execute_reply": "2022-06-22T14:40:20.420932Z"
    },
    "papermill": {
     "duration": 1.296764,
     "end_time": "2022-06-22T14:40:20.425490",
     "exception": false,
     "start_time": "2022-06-22T14:40:19.128726",
     "status": "completed"
    },
    "tags": []
   },
   "outputs": [
    {
     "name": "stdout",
     "output_type": "stream",
     "text": [
      "0.5385\n",
      "0.6923\n",
      "0.8321\n",
      "0.0296\n",
      "0.1721\n",
      "0.8617\n"
     ]
    }
   ],
   "source": [
    "import numpy as np\n",
    "from sklearn.metrics import mean_absolute_error, mean_squared_error, mean_squared_log_error, r2_score\n",
    "\n",
    "true = np.array([1,2,3,2,3,5,4,6,5,6,7,8,8]) # 실제값\n",
    "preds = np.array([1,1,2,2,3,4,4,5,5,7,7,6,8]) # 예측값\n",
    "\n",
    "MAE = mean_absolute_error(true, preds)\n",
    "MSE = mean_squared_error(true, preds)\n",
    "RMSE = np.sqrt(MSE)\n",
    "MSLE = mean_squared_log_error(true, preds)\n",
    "RMSLE = np.sqrt(mean_squared_log_error(true, preds))\n",
    "R2 = r2_score(true,preds)\n",
    "\n",
    "print(round(MAE,4))\n",
    "print(round(MSE,4))\n",
    "print(round(RMSE,4))\n",
    "print(round(MSLE,4))\n",
    "print(round(RMSLE,4))\n",
    "print(round(R2,4))"
   ]
  },
  {
   "cell_type": "markdown",
   "id": "783e9959",
   "metadata": {
    "papermill": {
     "duration": 0.005555,
     "end_time": "2022-06-22T14:40:20.436729",
     "exception": false,
     "start_time": "2022-06-22T14:40:20.431174",
     "status": "completed"
    },
    "tags": []
   },
   "source": [
    "# 상관 계수\n",
    "### 두 상관관계 정도를 수치로 나타낸 값을 상관 계수라고 함\n",
    "### 상관계수는 보통 약자 r로 표현함\n",
    "### 가장 많이 사용한는 상관계수는 피어슨 상관계수임.\n",
    "### 선형 상관관계의 강도와 방향을 나타냄 -1 ~ 1 사이의 값을 갖음 상관계수가 음수면 음의 상관관계 양수면 양의 상관관계가 있다고 함"
   ]
  },
  {
   "cell_type": "markdown",
   "id": "0876a8db",
   "metadata": {
    "papermill": {
     "duration": 0.006084,
     "end_time": "2022-06-22T14:40:20.448500",
     "exception": false,
     "start_time": "2022-06-22T14:40:20.442416",
     "status": "completed"
    },
    "tags": []
   },
   "source": [
    "# 분류 평가지표\n",
    "### 기본적인 지표 : 오차 행렬, 로그 손실, ROC 곡선, AUC"
   ]
  },
  {
   "cell_type": "markdown",
   "id": "5384ec23",
   "metadata": {
    "papermill": {
     "duration": 0.006616,
     "end_time": "2022-06-22T14:40:20.460963",
     "exception": false,
     "start_time": "2022-06-22T14:40:20.454347",
     "status": "completed"
    },
    "tags": []
   },
   "source": [
    "# 오차 행렬 : confusion matrix (이전에 배운 딥러닝 부분 참고)\n",
    "### 정확도는 잘 사용 안함\n",
    "### 정밀도 = TP/TP+FP\n",
    "### 재현율 = TP/TP+FN // 민감도 또는 참 양성 비율(TPR)이라고도 함\n",
    "### F1 점수는 정밀도와 재현율을 조합한 평기지표(해당책 116p 참고)"
   ]
  },
  {
   "cell_type": "markdown",
   "id": "0a5cda0e",
   "metadata": {
    "papermill": {
     "duration": 0.005363,
     "end_time": "2022-06-22T14:40:20.472077",
     "exception": false,
     "start_time": "2022-06-22T14:40:20.466714",
     "status": "completed"
    },
    "tags": []
   },
   "source": [
    "# 로그 손실\n",
    "### 분류 문제에서 타깃값을 확률로 예측할 때 기본적으로 사용하는 평가지표(116p참고)\n"
   ]
  },
  {
   "cell_type": "markdown",
   "id": "e405fd29",
   "metadata": {
    "papermill": {
     "duration": 0.005348,
     "end_time": "2022-06-22T14:40:20.482917",
     "exception": false,
     "start_time": "2022-06-22T14:40:20.477569",
     "status": "completed"
    },
    "tags": []
   },
   "source": [
    "# ROC AUC \n",
    "### 곡선이 ROC, ROC 곡선 아래 면적이 AUC 가운데 점선에 ROC가 가까울수록 성능이 낮음(무작위로 분류함 완벽이 1 무작위가 0.5, 성능이 좋을수록 AUC(면적)이 큼)\n",
    "### 캐글에서 종종사용하는 평가 지표"
   ]
  },
  {
   "cell_type": "markdown",
   "id": "09081f05",
   "metadata": {
    "papermill": {
     "duration": 0.005364,
     "end_time": "2022-06-22T14:40:20.494459",
     "exception": false,
     "start_time": "2022-06-22T14:40:20.489095",
     "status": "completed"
    },
    "tags": []
   },
   "source": [
    "# 데이터 인코딩\n",
    "\n",
    "### 문자로 구성된 범주형 데이터는 숫자로 바꾸어야 됨\n",
    "### 경우에 따라서는 이미 숫자로 구성된 범주형 데이터도 모델 성능을 향상하기위해 다른 숫자 데이터로 바꾸기도함\n",
    "### 범주형 데이터 -> 숫자형 데이터 = 데이터 인코딩\n",
    "### 인코딩 방식 : 레이블 인코딩, 원-핫 인코딩"
   ]
  },
  {
   "cell_type": "markdown",
   "id": "bfcb8d70",
   "metadata": {
    "papermill": {
     "duration": 0.005353,
     "end_time": "2022-06-22T14:40:20.506047",
     "exception": false,
     "start_time": "2022-06-22T14:40:20.500694",
     "status": "completed"
    },
    "tags": []
   },
   "source": [
    "## 레이블 인코딩\n",
    "### 범주형 데이터를 숫자로 일대일 매핑해주는 인코딩 방식 (범주형 데이터를 숫자형 데이터로 치환)"
   ]
  },
  {
   "cell_type": "markdown",
   "id": "dc626655",
   "metadata": {
    "papermill": {
     "duration": 0.005415,
     "end_time": "2022-06-22T14:40:20.517115",
     "exception": false,
     "start_time": "2022-06-22T14:40:20.511700",
     "status": "completed"
    },
    "tags": []
   },
   "source": [
    "### 레이블 인코딩 적용(원본 데이터의 값에 사전순으로 번호를 매김)\n",
    "### 단점 : 명목형 데이터를 레이블 인코딩하면 모델 성능이 떨어질 수 있음(머신러닝 모델이 서로 가까운 숫자를 비슷한 데이터라고 판단하기 때문)"
   ]
  },
  {
   "cell_type": "code",
   "execution_count": 3,
   "id": "cb91b723",
   "metadata": {
    "execution": {
     "iopub.execute_input": "2022-06-22T14:40:20.530539Z",
     "iopub.status.busy": "2022-06-22T14:40:20.529841Z",
     "iopub.status.idle": "2022-06-22T14:40:20.537064Z",
     "shell.execute_reply": "2022-06-22T14:40:20.535649Z"
    },
    "papermill": {
     "duration": 0.017707,
     "end_time": "2022-06-22T14:40:20.540278",
     "exception": false,
     "start_time": "2022-06-22T14:40:20.522571",
     "status": "completed"
    },
    "tags": []
   },
   "outputs": [
    {
     "name": "stdout",
     "output_type": "stream",
     "text": [
      "[3 2 1 0 2 1 1 3]\n"
     ]
    }
   ],
   "source": [
    "from sklearn.preprocessing import LabelEncoder\n",
    "\n",
    "fruits = ['사과', '블루베리', '바나나','귤','블루베리','바나나','바나나','사과']\n",
    "\n",
    "label_encoding = LabelEncoder()\n",
    "\n",
    "fruits_label_encoding = label_encoding.fit_transform(fruits)\n",
    "\n",
    "print(fruits_label_encoding)"
   ]
  },
  {
   "cell_type": "markdown",
   "id": "db68a9b3",
   "metadata": {
    "papermill": {
     "duration": 0.005917,
     "end_time": "2022-06-22T14:40:20.552379",
     "exception": false,
     "start_time": "2022-06-22T14:40:20.546462",
     "status": "completed"
    },
    "tags": []
   },
   "source": [
    "# 원-핫 인코딩\n",
    "### 1. 인코딩하려는 피처의 고윳값 개수를 구함\n",
    "### 2. 피처의 고윳값 개수만큼 열을 추가\n",
    "### 3. 각 고윳값에 해당하는 열에 1을 표시하고 나머지 열에는 0을 표시\n",
    "## 단점 : 열 개수가 지나치게 많아짐(모델 훈련속도가 느려질 우려가 있음)"
   ]
  },
  {
   "cell_type": "code",
   "execution_count": 4,
   "id": "40255fe5",
   "metadata": {
    "execution": {
     "iopub.execute_input": "2022-06-22T14:40:20.566039Z",
     "iopub.status.busy": "2022-06-22T14:40:20.565290Z",
     "iopub.status.idle": "2022-06-22T14:40:20.573369Z",
     "shell.execute_reply": "2022-06-22T14:40:20.572126Z"
    },
    "papermill": {
     "duration": 0.018221,
     "end_time": "2022-06-22T14:40:20.576369",
     "exception": false,
     "start_time": "2022-06-22T14:40:20.558148",
     "status": "completed"
    },
    "tags": []
   },
   "outputs": [
    {
     "name": "stdout",
     "output_type": "stream",
     "text": [
      "[[0. 0. 0. 1.]\n",
      " [0. 0. 1. 0.]\n",
      " [0. 1. 0. 0.]\n",
      " [1. 0. 0. 0.]\n",
      " [0. 0. 1. 0.]\n",
      " [0. 1. 0. 0.]\n",
      " [0. 1. 0. 0.]\n",
      " [0. 0. 0. 1.]]\n"
     ]
    }
   ],
   "source": [
    "from sklearn.preprocessing import LabelEncoder, OneHotEncoder\n",
    "\n",
    "fruits = ['사과', '블루베리', '바나나','귤','블루베리','바나나','바나나','사과']\n",
    "\n",
    "encoding_label = LabelEncoder()\n",
    "encoding_OneHot = OneHotEncoder()\n",
    "\n",
    "fruits_encoding_label = encoding_label.fit_transform(fruits)\n",
    "fruits_encoding_OneHot = encoding_OneHot.fit_transform(fruits_encoding_label.reshape(-1,1))\n",
    "\n",
    "print(fruits_encoding_OneHot.toarray())"
   ]
  },
  {
   "cell_type": "code",
   "execution_count": 5,
   "id": "791f35d6",
   "metadata": {
    "execution": {
     "iopub.execute_input": "2022-06-22T14:40:20.590027Z",
     "iopub.status.busy": "2022-06-22T14:40:20.589611Z",
     "iopub.status.idle": "2022-06-22T14:40:20.618123Z",
     "shell.execute_reply": "2022-06-22T14:40:20.616743Z"
    },
    "papermill": {
     "duration": 0.038244,
     "end_time": "2022-06-22T14:40:20.620432",
     "exception": false,
     "start_time": "2022-06-22T14:40:20.582188",
     "status": "completed"
    },
    "tags": []
   },
   "outputs": [
    {
     "data": {
      "text/html": [
       "<div>\n",
       "<style scoped>\n",
       "    .dataframe tbody tr th:only-of-type {\n",
       "        vertical-align: middle;\n",
       "    }\n",
       "\n",
       "    .dataframe tbody tr th {\n",
       "        vertical-align: top;\n",
       "    }\n",
       "\n",
       "    .dataframe thead th {\n",
       "        text-align: right;\n",
       "    }\n",
       "</style>\n",
       "<table border=\"1\" class=\"dataframe\">\n",
       "  <thead>\n",
       "    <tr style=\"text-align: right;\">\n",
       "      <th></th>\n",
       "      <th>귤</th>\n",
       "      <th>바나나</th>\n",
       "      <th>블루베리</th>\n",
       "      <th>사과</th>\n",
       "    </tr>\n",
       "  </thead>\n",
       "  <tbody>\n",
       "    <tr>\n",
       "      <th>0</th>\n",
       "      <td>0</td>\n",
       "      <td>0</td>\n",
       "      <td>0</td>\n",
       "      <td>1</td>\n",
       "    </tr>\n",
       "    <tr>\n",
       "      <th>1</th>\n",
       "      <td>0</td>\n",
       "      <td>0</td>\n",
       "      <td>1</td>\n",
       "      <td>0</td>\n",
       "    </tr>\n",
       "    <tr>\n",
       "      <th>2</th>\n",
       "      <td>0</td>\n",
       "      <td>1</td>\n",
       "      <td>0</td>\n",
       "      <td>0</td>\n",
       "    </tr>\n",
       "    <tr>\n",
       "      <th>3</th>\n",
       "      <td>1</td>\n",
       "      <td>0</td>\n",
       "      <td>0</td>\n",
       "      <td>0</td>\n",
       "    </tr>\n",
       "    <tr>\n",
       "      <th>4</th>\n",
       "      <td>0</td>\n",
       "      <td>0</td>\n",
       "      <td>1</td>\n",
       "      <td>0</td>\n",
       "    </tr>\n",
       "    <tr>\n",
       "      <th>5</th>\n",
       "      <td>0</td>\n",
       "      <td>1</td>\n",
       "      <td>0</td>\n",
       "      <td>0</td>\n",
       "    </tr>\n",
       "    <tr>\n",
       "      <th>6</th>\n",
       "      <td>0</td>\n",
       "      <td>1</td>\n",
       "      <td>0</td>\n",
       "      <td>0</td>\n",
       "    </tr>\n",
       "    <tr>\n",
       "      <th>7</th>\n",
       "      <td>0</td>\n",
       "      <td>0</td>\n",
       "      <td>0</td>\n",
       "      <td>1</td>\n",
       "    </tr>\n",
       "  </tbody>\n",
       "</table>\n",
       "</div>"
      ],
      "text/plain": [
       "   귤  바나나  블루베리  사과\n",
       "0  0    0     0   1\n",
       "1  0    0     1   0\n",
       "2  0    1     0   0\n",
       "3  1    0     0   0\n",
       "4  0    0     1   0\n",
       "5  0    1     0   0\n",
       "6  0    1     0   0\n",
       "7  0    0     0   1"
      ]
     },
     "execution_count": 5,
     "metadata": {},
     "output_type": "execute_result"
    }
   ],
   "source": [
    "import pandas as pd\n",
    "\n",
    "fruits = ['사과', '블루베리', '바나나','귤','블루베리','바나나','바나나','사과']\n",
    "\n",
    "pd.get_dummies(fruits) # pd.get_dummies : 원핫 인코딩한 결과값이 같음"
   ]
  },
  {
   "cell_type": "markdown",
   "id": "9620550b",
   "metadata": {
    "papermill": {
     "duration": 0.005865,
     "end_time": "2022-06-22T14:40:20.632513",
     "exception": false,
     "start_time": "2022-06-22T14:40:20.626648",
     "status": "completed"
    },
    "tags": []
   },
   "source": [
    "# 피처 스케일링\n",
    "### 서로 다른 피처 값(최댓값 - 최솟값)의 범위가 일치하도록 조정하는 작업을 말함\n",
    "### 스케일링이 제대로 안되면 모델의 훈련이 정상적으로 안될 수 있음"
   ]
  },
  {
   "cell_type": "markdown",
   "id": "9a9a077b",
   "metadata": {
    "papermill": {
     "duration": 0.00574,
     "end_time": "2022-06-22T14:40:20.644263",
     "exception": false,
     "start_time": "2022-06-22T14:40:20.638523",
     "status": "completed"
    },
    "tags": []
   },
   "source": [
    "### min-max 정규화\n",
    "### 피처의 값을 0~1로 조절하는 기법 // 조정 후 최솟값은 0 최댓값은 1 \n",
    "### 피처 x - min / max - min\n",
    "### ** 이상치(대부분의 값과 동떨어진 값)가 너무 크거나 작을 때는 min-max 정규화가 좋지 않은 결과를 낼 수 있음(이상치가 너무 크거나 작을 땐 표준화가 더 바람직)"
   ]
  },
  {
   "cell_type": "code",
   "execution_count": 6,
   "id": "1bd7aa47",
   "metadata": {
    "execution": {
     "iopub.execute_input": "2022-06-22T14:40:20.657812Z",
     "iopub.status.busy": "2022-06-22T14:40:20.657437Z",
     "iopub.status.idle": "2022-06-22T14:40:20.667369Z",
     "shell.execute_reply": "2022-06-22T14:40:20.665511Z"
    },
    "papermill": {
     "duration": 0.020546,
     "end_time": "2022-06-22T14:40:20.670709",
     "exception": false,
     "start_time": "2022-06-22T14:40:20.650163",
     "status": "completed"
    },
    "tags": []
   },
   "outputs": [
    {
     "name": "stdout",
     "output_type": "stream",
     "text": [
      "      키  몸무게\n",
      "광일  1.7   75\n",
      "혜성  1.5   55\n",
      "덕수  1.8   60\n"
     ]
    }
   ],
   "source": [
    "# min - max 정규화 구현\n",
    "import pandas as pd\n",
    "\n",
    "height_weight_dict = {'키': [1.7, 1.5, 1.8], '몸무게' : [75,55,60]}\n",
    "df = pd.DataFrame(height_weight_dict, index = ['광일','혜성','덕수'])\n",
    "\n",
    "print(df)"
   ]
  },
  {
   "cell_type": "code",
   "execution_count": 7,
   "id": "a35aa823",
   "metadata": {
    "execution": {
     "iopub.execute_input": "2022-06-22T14:40:20.685850Z",
     "iopub.status.busy": "2022-06-22T14:40:20.685043Z",
     "iopub.status.idle": "2022-06-22T14:40:20.695901Z",
     "shell.execute_reply": "2022-06-22T14:40:20.694370Z"
    },
    "papermill": {
     "duration": 0.021874,
     "end_time": "2022-06-22T14:40:20.699329",
     "exception": false,
     "start_time": "2022-06-22T14:40:20.677455",
     "status": "completed"
    },
    "tags": []
   },
   "outputs": [
    {
     "name": "stdout",
     "output_type": "stream",
     "text": [
      "[[0.66666667 1.        ]\n",
      " [0.         0.        ]\n",
      " [1.         0.25      ]]\n"
     ]
    }
   ],
   "source": [
    "from sklearn.preprocessing import MinMaxScaler\n",
    "\n",
    "scaler = MinMaxScaler()\n",
    "\n",
    "scaler.fit(df)\n",
    "df_scaler = scaler.transform(df)\n",
    "\n",
    "print(df_scaler)"
   ]
  },
  {
   "cell_type": "code",
   "execution_count": 8,
   "id": "82c44de5",
   "metadata": {
    "execution": {
     "iopub.execute_input": "2022-06-22T14:40:20.714389Z",
     "iopub.status.busy": "2022-06-22T14:40:20.713518Z",
     "iopub.status.idle": "2022-06-22T14:40:20.723025Z",
     "shell.execute_reply": "2022-06-22T14:40:20.721404Z"
    },
    "papermill": {
     "duration": 0.020144,
     "end_time": "2022-06-22T14:40:20.726202",
     "exception": false,
     "start_time": "2022-06-22T14:40:20.706058",
     "status": "completed"
    },
    "tags": []
   },
   "outputs": [
    {
     "name": "stdout",
     "output_type": "stream",
     "text": [
      "[[0.66666667 1.        ]\n",
      " [0.         0.        ]\n",
      " [1.         0.25      ]]\n"
     ]
    }
   ],
   "source": [
    "from sklearn.preprocessing import MinMaxScaler\n",
    "\n",
    "scaler = MinMaxScaler()\n",
    "\n",
    "df_scaler = scaler.fit_transform(df) # fit 과 transform을 한번에 실행 가능함 하지만 위에서 두개로 나눈 이유는 다른 데이터에도 적용 하려면 하나의 데이터로 훈련 시킨후 다른 데이터들은 transform만 하면 편리하기 때문임\n",
    "\n",
    "print(df_scaler)"
   ]
  },
  {
   "cell_type": "markdown",
   "id": "d6a99fcf",
   "metadata": {
    "papermill": {
     "duration": 0.006015,
     "end_time": "2022-06-22T14:40:20.739541",
     "exception": false,
     "start_time": "2022-06-22T14:40:20.733526",
     "status": "completed"
    },
    "tags": []
   },
   "source": [
    "# 표준화\n",
    "### 평균이 0 분산이 1이 되도록 피처값을 조정하는 기법 // min-max 기법과 달리 상한과 하한이 없음\n",
    "### 상한과 하한이 필요 없는 데이터에 적용 가능(정규분포를 따르는 데이터는 표준화로 스케일링을 적용하는것이 좋음)"
   ]
  },
  {
   "cell_type": "code",
   "execution_count": 9,
   "id": "7b3ed437",
   "metadata": {
    "execution": {
     "iopub.execute_input": "2022-06-22T14:40:20.755056Z",
     "iopub.status.busy": "2022-06-22T14:40:20.754361Z",
     "iopub.status.idle": "2022-06-22T14:40:20.763997Z",
     "shell.execute_reply": "2022-06-22T14:40:20.762396Z"
    },
    "papermill": {
     "duration": 0.020093,
     "end_time": "2022-06-22T14:40:20.766249",
     "exception": false,
     "start_time": "2022-06-22T14:40:20.746156",
     "status": "completed"
    },
    "tags": []
   },
   "outputs": [
    {
     "name": "stdout",
     "output_type": "stream",
     "text": [
      "[[ 0.26726124  1.37281295]\n",
      " [-1.33630621 -0.98058068]\n",
      " [ 1.06904497 -0.39223227]]\n"
     ]
    }
   ],
   "source": [
    "# 표준화 구현\n",
    "from sklearn.preprocessing import StandardScaler\n",
    "ss = StandardScaler()\n",
    "\n",
    "ss_scaled = ss.fit_transform(df)\n",
    "\n",
    "print(ss_scaled)"
   ]
  },
  {
   "cell_type": "markdown",
   "id": "30ae2f54",
   "metadata": {
    "papermill": {
     "duration": 0.005943,
     "end_time": "2022-06-22T14:40:20.778459",
     "exception": false,
     "start_time": "2022-06-22T14:40:20.772516",
     "status": "completed"
    },
    "tags": []
   },
   "source": [
    "# 교차 검증\n",
    "### 일반적으로는 K 폴드 교차 검증 사용\n",
    "### 1. 전체 데이터를 k개로 나눔\n",
    "### 2. 그룹하나는 검증데이터 나머지 k-1개는 훈련 데이터로 지정\n",
    "### 3. 훈련 데이터로 모델을 훈련 검증데이터로 평가\n",
    "### 4. 평가점수 기록\n",
    "### 5. 검증 데이터를 다른 그룹으로 바꿔가며 2~4절차를 K번 반복\n",
    "### 6. K개 검증 평가 점수의 평균을 구함\n",
    "## K개 검증 평가점수의 평균이 최종 평가점수 이며 제출하지 않고도 이점수를 통해 모델 성능 가늠해볼 수 있음"
   ]
  },
  {
   "cell_type": "code",
   "execution_count": 10,
   "id": "75c0a10e",
   "metadata": {
    "execution": {
     "iopub.execute_input": "2022-06-22T14:40:20.793512Z",
     "iopub.status.busy": "2022-06-22T14:40:20.792772Z",
     "iopub.status.idle": "2022-06-22T14:40:20.818479Z",
     "shell.execute_reply": "2022-06-22T14:40:20.816947Z"
    },
    "papermill": {
     "duration": 0.036591,
     "end_time": "2022-06-22T14:40:20.821134",
     "exception": false,
     "start_time": "2022-06-22T14:40:20.784543",
     "status": "completed"
    },
    "tags": []
   },
   "outputs": [
    {
     "name": "stdout",
     "output_type": "stream",
     "text": [
      "훈련데이터 [2 3 4 5 6 7 8 9], 검증 데이터 : [0 1]\n",
      "훈련데이터 [0 1 4 5 6 7 8 9], 검증 데이터 : [2 3]\n",
      "훈련데이터 [0 1 2 3 6 7 8 9], 검증 데이터 : [4 5]\n",
      "훈련데이터 [0 1 2 3 4 5 8 9], 검증 데이터 : [6 7]\n",
      "훈련데이터 [0 1 2 3 4 5 6 7], 검증 데이터 : [8 9]\n"
     ]
    }
   ],
   "source": [
    "import numpy as np\n",
    "from sklearn.model_selection import KFold\n",
    "\n",
    "data = np.array([0,1,2,3,4,5,6,7,8,9])\n",
    "\n",
    "folds = KFold(n_splits=5, shuffle=False) # KFold(): 데이터를 K 폴드로 나누는 함수 // n_split=K: parameter에 전달하는 값(K)\n",
    "\n",
    "for train_idx, valid_idx in folds.split(data):\n",
    "    print(\"훈련데이터 {}, 검증 데이터 : {}\".format(train_idx, valid_idx))"
   ]
  },
  {
   "cell_type": "code",
   "execution_count": 11,
   "id": "a4bbf516",
   "metadata": {
    "execution": {
     "iopub.execute_input": "2022-06-22T14:40:20.835808Z",
     "iopub.status.busy": "2022-06-22T14:40:20.835401Z",
     "iopub.status.idle": "2022-06-22T14:40:20.843271Z",
     "shell.execute_reply": "2022-06-22T14:40:20.842321Z"
    },
    "papermill": {
     "duration": 0.018205,
     "end_time": "2022-06-22T14:40:20.845546",
     "exception": false,
     "start_time": "2022-06-22T14:40:20.827341",
     "status": "completed"
    },
    "tags": []
   },
   "outputs": [
    {
     "name": "stdout",
     "output_type": "stream",
     "text": [
      "훈련데이터 [0 1 3 4 5 6 7 9], 검증 데이터 : [2 8]\n",
      "훈련데이터 [0 1 2 4 6 7 8 9], 검증 데이터 : [3 5]\n",
      "훈련데이터 [1 2 3 4 5 7 8 9], 검증 데이터 : [0 6]\n",
      "훈련데이터 [0 1 2 3 5 6 8 9], 검증 데이터 : [4 7]\n",
      "훈련데이터 [0 2 3 4 5 6 7 8], 검증 데이터 : [1 9]\n"
     ]
    }
   ],
   "source": [
    "import numpy as np\n",
    "from sklearn.model_selection import KFold\n",
    "\n",
    "data = np.array([0,1,2,3,4,5,6,7,8,9])\n",
    "\n",
    "folds = KFold(n_splits=5, shuffle=True) # shuffle = boolean : 데이터가 편향되어있을 수 있기 때문에 나누기 전에 섞어줌\n",
    "\n",
    "for train_idx, valid_idx in folds.split(data):\n",
    "    print(\"훈련데이터 {}, 검증 데이터 : {}\".format(train_idx, valid_idx))"
   ]
  },
  {
   "cell_type": "markdown",
   "id": "2e36f36c",
   "metadata": {
    "papermill": {
     "duration": 0.00692,
     "end_time": "2022-06-22T14:40:20.858986",
     "exception": false,
     "start_time": "2022-06-22T14:40:20.852066",
     "status": "completed"
    },
    "tags": []
   },
   "source": [
    "# 층화 K 폴드 교차 검증(분류 문제에만 사용// 회귀는 균등하게 나눌 수 없기 때문에 사용 불가)\n",
    "### 타깃값이 골고루 분포되게 폴드를 나누는 K폴드 교차 검증 방법\n",
    "### 특정 타깃 값이 다른 타깃 값보다 굉장히 적은 경우 사용(이책의 133p 참고)\n",
    "\n",
    "## 타깃값이 불균형하게 분포되어 있는 경우 층화 K 폴드 사용\n",
    "\n",
    "##### KFold의 split()에는 데이터 하나만 전달해도 됨 데이터 불균형과 상관없이 임의로 K개로 분할하기 때문\n",
    "##### 반면 StratifiedKFold의 split()에는 피처와 타깃 모두 전달해야됨 // 인수를 하나만 전달하면 오류 발생"
   ]
  },
  {
   "cell_type": "code",
   "execution_count": 12,
   "id": "035f6c8c",
   "metadata": {
    "execution": {
     "iopub.execute_input": "2022-06-22T14:40:20.874695Z",
     "iopub.status.busy": "2022-06-22T14:40:20.874121Z",
     "iopub.status.idle": "2022-06-22T14:40:20.881435Z",
     "shell.execute_reply": "2022-06-22T14:40:20.880493Z"
    },
    "papermill": {
     "duration": 0.017824,
     "end_time": "2022-06-22T14:40:20.883982",
     "exception": false,
     "start_time": "2022-06-22T14:40:20.866158",
     "status": "completed"
    },
    "tags": []
   },
   "outputs": [
    {
     "name": "stdout",
     "output_type": "stream",
     "text": [
      "Fold 1 검증 데이터의 타깃값:\n",
      "['스팸' '일반' '일반' '일반' '일반' '일반' '일반' '일반' '일반' '일반'] \n",
      "\n",
      "Fold 2 검증 데이터의 타깃값:\n",
      "['스팸' '일반' '일반' '일반' '일반' '일반' '일반' '일반' '일반' '일반'] \n",
      "\n",
      "Fold 3 검증 데이터의 타깃값:\n",
      "['스팸' '일반' '일반' '일반' '일반' '일반' '일반' '일반' '일반' '일반'] \n",
      "\n",
      "Fold 4 검증 데이터의 타깃값:\n",
      "['일반' '일반' '일반' '일반' '일반' '일반' '일반' '일반' '일반' '일반'] \n",
      "\n",
      "Fold 5 검증 데이터의 타깃값:\n",
      "['스팸' '스팸' '일반' '일반' '일반' '일반' '일반' '일반' '일반' '일반'] \n",
      "\n"
     ]
    }
   ],
   "source": [
    "# 층화 K 폴드 교차 검증 구현\n",
    "import numpy as np\n",
    "\n",
    "y = np.array(['스팸']*5 + ['일반']*45)\n",
    "\n",
    "folds = KFold(n_splits=5 ,shuffle=True)\n",
    "\n",
    "for idx, (train_idx, valid_idx) in enumerate(folds.split(y)): # 타깃값들이 골고루 분포되어있지않아 학습이 일어나지 않는 모델이 있음\n",
    "    print(\"Fold {} 검증 데이터의 타깃값:\".format(idx+1)) \n",
    "    print(y[valid_idx],\"\\n\")"
   ]
  },
  {
   "cell_type": "code",
   "execution_count": 13,
   "id": "ef1b3771",
   "metadata": {
    "execution": {
     "iopub.execute_input": "2022-06-22T14:40:20.898545Z",
     "iopub.status.busy": "2022-06-22T14:40:20.898186Z",
     "iopub.status.idle": "2022-06-22T14:40:20.910108Z",
     "shell.execute_reply": "2022-06-22T14:40:20.908616Z"
    },
    "papermill": {
     "duration": 0.022225,
     "end_time": "2022-06-22T14:40:20.912584",
     "exception": false,
     "start_time": "2022-06-22T14:40:20.890359",
     "status": "completed"
    },
    "tags": []
   },
   "outputs": [
    {
     "name": "stdout",
     "output_type": "stream",
     "text": [
      "Fold 1 검증 데이터의 타깃값:\n",
      "['스팸' '일반' '일반' '일반' '일반' '일반' '일반' '일반' '일반' '일반'] \n",
      "\n",
      "Fold 2 검증 데이터의 타깃값:\n",
      "['스팸' '일반' '일반' '일반' '일반' '일반' '일반' '일반' '일반' '일반'] \n",
      "\n",
      "Fold 3 검증 데이터의 타깃값:\n",
      "['스팸' '일반' '일반' '일반' '일반' '일반' '일반' '일반' '일반' '일반'] \n",
      "\n",
      "Fold 4 검증 데이터의 타깃값:\n",
      "['스팸' '일반' '일반' '일반' '일반' '일반' '일반' '일반' '일반' '일반'] \n",
      "\n",
      "Fold 5 검증 데이터의 타깃값:\n",
      "['스팸' '일반' '일반' '일반' '일반' '일반' '일반' '일반' '일반' '일반'] \n",
      "\n"
     ]
    }
   ],
   "source": [
    "from sklearn.model_selection import StratifiedKFold\n",
    "\n",
    "x = np.array(range(50))\n",
    "y = np.array(['스팸']*5 + ['일반']*45)\n",
    "\n",
    "folds = StratifiedKFold(n_splits=5) # 층화 K 폴드 교차 검증 // 모든 모델에 target이 포함됨\n",
    "\n",
    "for idx, (train_idx, valid_idx) in enumerate(folds.split(x,y)): \n",
    "    print(\"Fold {} 검증 데이터의 타깃값:\".format(idx+1)) \n",
    "    print(y[valid_idx],\"\\n\")"
   ]
  }
 ],
 "metadata": {
  "kernelspec": {
   "display_name": "Python 3",
   "language": "python",
   "name": "python3"
  },
  "language_info": {
   "codemirror_mode": {
    "name": "ipython",
    "version": 3
   },
   "file_extension": ".py",
   "mimetype": "text/x-python",
   "name": "python",
   "nbconvert_exporter": "python",
   "pygments_lexer": "ipython3",
   "version": "3.7.12"
  },
  "papermill": {
   "default_parameters": {},
   "duration": 13.007632,
   "end_time": "2022-06-22T14:40:21.742923",
   "environment_variables": {},
   "exception": null,
   "input_path": "__notebook__.ipynb",
   "output_path": "__notebook__.ipynb",
   "parameters": {},
   "start_time": "2022-06-22T14:40:08.735291",
   "version": "2.3.4"
  }
 },
 "nbformat": 4,
 "nbformat_minor": 5
}
